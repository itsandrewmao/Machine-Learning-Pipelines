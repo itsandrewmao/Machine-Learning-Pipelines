{
 "cells": [
  {
   "cell_type": "code",
   "execution_count": 1,
   "metadata": {
    "collapsed": false
   },
   "outputs": [
    {
     "name": "stderr",
     "output_type": "stream",
     "text": [
      "/home/student/.local/lib/python3.4/site-packages/sklearn/cross_validation.py:44: DeprecationWarning: This module was deprecated in version 0.18 in favor of the model_selection module into which all the refactored classes and functions are moved. Also note that the interface of the new CV iterators are different from that of this module. This module will be removed in 0.20.\n",
      "  \"This module will be removed in 0.20.\", DeprecationWarning)\n",
      "/home/student/.local/lib/python3.4/site-packages/sklearn/grid_search.py:43: DeprecationWarning: This module was deprecated in version 0.18 in favor of the model_selection module into which all the refactored classes and functions are moved. This module will be removed in 0.20.\n",
      "  DeprecationWarning)\n"
     ]
    }
   ],
   "source": [
    "#initialization\n",
    "%matplotlib inline\n",
    "import math\n",
    "import numpy as np\n",
    "import pandas as pd\n",
    "from ML_Pipeline import (P1_read,\n",
    "                         P2_explore,\n",
    "                         P3_preprocess,\n",
    "                         P4_features,\n",
    "                         P5_classify,\n",
    "                         P6_evaluate)\n",
    "from sklearn.cross_validation import train_test_split"
   ]
  },
  {
   "cell_type": "code",
   "execution_count": 7,
   "metadata": {
    "collapsed": false
   },
   "outputs": [],
   "source": [
    "# Necessary restart\n",
    "data = P1_read.read('data/credit-data.csv')\n",
    "li = 1\n",
    "fi = [2,3,4,5,6,7,8,9,10,11,12]\n",
    "label = data.columns[li]\n",
    "features = list(data.columns[fi])\n",
    "P3_preprocess.convert_vartype(data, label, 'bool')\n",
    "P3_preprocess.convert_vartype(data, 'NumberOfDependents', 'int')"
   ]
  },
  {
   "cell_type": "code",
   "execution_count": 8,
   "metadata": {
    "collapsed": false
   },
   "outputs": [],
   "source": [
    "P3_preprocess.fill_miss(data, 'MonthlyIncome', method='mean')\n",
    "P3_preprocess.fill_miss(data, 'NumberOfDependents', method='median')"
   ]
  },
  {
   "cell_type": "code",
   "execution_count": 9,
   "metadata": {
    "collapsed": false
   },
   "outputs": [
    {
     "name": "stdout",
     "output_type": "stream",
     "text": [
      "Warning, DebtRatio has negative or zero values\n"
     ]
    }
   ],
   "source": [
    "P4_features.discretize(data, 'MonthlyIncome', 5, 'ufov')\n",
    "P4_features.discretize(data, 'age', 5, 'uv')\n",
    "P4_features.discretize(data, 'DebtRatio', 5, 'logspace')\n",
    "P4_features.gen_dummies(data, ['age_cat',\n",
    "                   'DebtRatio_cat',\n",
    "                   'MonthlyIncome_cat'], drop = True)"
   ]
  },
  {
   "cell_type": "code",
   "execution_count": 5,
   "metadata": {
    "collapsed": false
   },
   "outputs": [
    {
     "data": {
      "text/plain": [
       "PersonID                                  int64\n",
       "SeriousDlqin2yrs                           bool\n",
       "RevolvingUtilizationOfUnsecuredLines    float64\n",
       "age                                       int64\n",
       "zipcode                                   int64\n",
       "NumberOfTime30-59DaysPastDueNotWorse      int64\n",
       "DebtRatio                               float64\n",
       "MonthlyIncome                           float64\n",
       "NumberOfOpenCreditLinesAndLoans           int64\n",
       "NumberOfTimes90DaysLate                   int64\n",
       "NumberRealEstateLoansOrLines              int64\n",
       "NumberOfTime60-89DaysPastDueNotWorse      int64\n",
       "NumberOfDependents                      float64\n",
       "age_cat_1                                  bool\n",
       "age_cat_2                                  bool\n",
       "age_cat_3                                  bool\n",
       "age_cat_4                                  bool\n",
       "age_cat_5                                  bool\n",
       "DebtRatio_cat_1                            bool\n",
       "DebtRatio_cat_2                            bool\n",
       "DebtRatio_cat_3                            bool\n",
       "DebtRatio_cat_4                            bool\n",
       "DebtRatio_cat_5                            bool\n",
       "DebtRatio_cat_6                            bool\n",
       "MonthlyIncome_cat_1                        bool\n",
       "MonthlyIncome_cat_2                        bool\n",
       "MonthlyIncome_cat_3                        bool\n",
       "MonthlyIncome_cat_4                        bool\n",
       "MonthlyIncome_cat_5                        bool\n",
       "dtype: object"
      ]
     },
     "execution_count": 5,
     "metadata": {},
     "output_type": "execute_result"
    }
   ],
   "source": [
    "data.dtypes"
   ]
  },
  {
   "cell_type": "markdown",
   "metadata": {},
   "source": [
    "### Initial Settings"
   ]
  },
  {
   "cell_type": "code",
   "execution_count": 6,
   "metadata": {
    "collapsed": false
   },
   "outputs": [],
   "source": [
    "#initialization\n",
    "%matplotlib inline\n",
    "import math\n",
    "import numpy as np\n",
    "import pandas as pd\n",
    "from ML_Pipeline import (P1_read,\n",
    "                         P2_explore,\n",
    "                         P3_preprocess,\n",
    "                         P4_features,\n",
    "                         P5_classify,\n",
    "                         P6_evaluate)\n",
    "from sklearn.cross_validation import train_test_split"
   ]
  },
  {
   "cell_type": "code",
   "execution_count": 7,
   "metadata": {
    "collapsed": false
   },
   "outputs": [],
   "source": [
    "import time\n",
    "import pandas as pd\n",
    "import numpy as np\n",
    "import matplotlib.pyplot as plt"
   ]
  },
  {
   "cell_type": "code",
   "execution_count": 2,
   "metadata": {
    "collapsed": false
   },
   "outputs": [
    {
     "name": "stderr",
     "output_type": "stream",
     "text": [
      "/usr/local/lib/python3.4/dist-packages/IPython/html.py:14: ShimWarning: The `IPython.html` package has been deprecated. You should import from `notebook` instead. `IPython.html.widgets` has moved to `ipywidgets`.\n",
      "  \"`IPython.html.widgets` has moved to `ipywidgets`.\", ShimWarning)\n"
     ]
    }
   ],
   "source": [
    "import seaborn as sns\n",
    "sns.set(style='whitegrid')\n",
    "sns.set_color_codes('deep')"
   ]
  },
  {
   "cell_type": "code",
   "execution_count": 3,
   "metadata": {
    "collapsed": false,
    "scrolled": true
   },
   "outputs": [
    {
     "name": "stderr",
     "output_type": "stream",
     "text": [
      "/home/student/.local/lib/python3.4/site-packages/sklearn/cross_validation.py:44: DeprecationWarning: This module was deprecated in version 0.18 in favor of the model_selection module into which all the refactored classes and functions are moved. Also note that the interface of the new CV iterators are different from that of this module. This module will be removed in 0.20.\n",
      "  \"This module will be removed in 0.20.\", DeprecationWarning)\n"
     ]
    }
   ],
   "source": [
    "# Import custom modules\n",
    "\n",
    "import sys\n",
    "sys.path.append('./MachineLearning ToolBox')\n",
    "        \n",
    "from Pipeline1_read import read\n",
    "from Pipeline2_explore import tabular, histogram\n",
    "from Pipeline3_preprocess import check_miss, fill_miss, convert_vartype\n",
    "from Pipeline4_features import discretize, gen_dummies\n",
    "from Pipeline5_classify import display_importance, classify\n",
    "from Pipeline6_evaluate import evaluate, plot_roc"
   ]
  },
  {
   "cell_type": "code",
   "execution_count": 4,
   "metadata": {
    "collapsed": false
   },
   "outputs": [
    {
     "ename": "NameError",
     "evalue": "name 'clf_switch' is not defined",
     "output_type": "error",
     "traceback": [
      "\u001b[1;31m---------------------------------------------------------------------------\u001b[0m",
      "\u001b[1;31mNameError\u001b[0m                                 Traceback (most recent call last)",
      "\u001b[1;32m<ipython-input-4-7cc95c8f45a5>\u001b[0m in \u001b[0;36m<module>\u001b[1;34m()\u001b[0m\n\u001b[1;32m----> 1\u001b[1;33m from Pipeline7_predict import (best_clf, \n\u001b[0m\u001b[0;32m      2\u001b[0m                                \u001b[0mclf_loop\u001b[0m\u001b[1;33m,\u001b[0m\u001b[1;33m\u001b[0m\u001b[0m\n\u001b[0;32m      3\u001b[0m                                \u001b[0mplot_precision_recall_n\u001b[0m\u001b[1;33m,\u001b[0m\u001b[1;33m\u001b[0m\u001b[0m\n\u001b[0;32m      4\u001b[0m                                \u001b[0mdefine_clfs_params\u001b[0m\u001b[1;33m,\u001b[0m\u001b[1;33m\u001b[0m\u001b[0m\n\u001b[0;32m      5\u001b[0m                                \u001b[0mZero_Predictor\u001b[0m\u001b[1;33m,\u001b[0m\u001b[1;33m\u001b[0m\u001b[0m\n",
      "\u001b[1;32m/home/student/Machine-Learning-Pipelines/Financial Distress/MachineLearning ToolBox/Pipeline7_predict.py\u001b[0m in \u001b[0;36m<module>\u001b[1;34m()\u001b[0m\n\u001b[0;32m    210\u001b[0m     \u001b[1;32mreturn\u001b[0m \u001b[0mcomparison_tables\u001b[0m\u001b[1;33m\u001b[0m\u001b[0m\n\u001b[0;32m    211\u001b[0m \u001b[1;33m\u001b[0m\u001b[0m\n\u001b[1;32m--> 212\u001b[1;33m \u001b[1;32mdef\u001b[0m \u001b[0mclassifier_fit\u001b[0m\u001b[1;33m(\u001b[0m\u001b[0mtrain_test_ls\u001b[0m\u001b[1;33m,\u001b[0m \u001b[0mclf_switch\u001b[0m\u001b[1;33m=\u001b[0m\u001b[0mclf_switch\u001b[0m\u001b[1;33m,\u001b[0m \u001b[0mRNG\u001b[0m\u001b[1;33m=\u001b[0m\u001b[1;36m1234\u001b[0m\u001b[1;33m)\u001b[0m\u001b[1;33m:\u001b[0m\u001b[1;33m\u001b[0m\u001b[0m\n\u001b[0m\u001b[0;32m    213\u001b[0m     \"\"\"\n\u001b[0;32m    214\u001b[0m     \u001b[0mFit\u001b[0m \u001b[0mthe\u001b[0m \u001b[0malgorithm\u001b[0m \u001b[1;32mand\u001b[0m \u001b[0mrecord\u001b[0m \u001b[0mkey\u001b[0m \u001b[0mstatistics\u001b[0m\u001b[1;33m.\u001b[0m\u001b[1;33m\u001b[0m\u001b[0m\n",
      "\u001b[1;31mNameError\u001b[0m: name 'clf_switch' is not defined"
     ]
    }
   ],
   "source": [
    "from Pipeline7_predict import (best_clf, \n",
    "                               clf_loop, \n",
    "                               plot_precision_recall_n,\n",
    "                               define_clfs_params,\n",
    "                               Zero_Predictor,\n",
    "                               Average_Predictor,\n",
    "                               report,\n",
    "                               calc_precision_recall,\n",
    "                               plot_precision_recall_threshold,\n",
    "                               precision_top_x)"
   ]
  },
  {
   "cell_type": "code",
   "execution_count": 5,
   "metadata": {
    "collapsed": false
   },
   "outputs": [],
   "source": [
    "#ML imports\n",
    "from collections import Counter\n",
    "from sklearn import preprocessing\n",
    "from sklearn.model_selection import train_test_split\n",
    "from sklearn.linear_model import LogisticRegression\n",
    "from sklearn.neighbors import KNeighborsClassifier\n",
    "from sklearn.tree import DecisionTreeClassifier\n",
    "from sklearn.ensemble import (RandomForestClassifier, \n",
    "                              AdaBoostClassifier,\n",
    "                              BaggingClassifier)\n",
    "from sklearn.svm import SVC\n",
    "\n",
    "from sklearn.model_selection import GridSearchCV\n",
    "from sklearn.metrics import (roc_curve,\n",
    "                             precision_recall_curve, \n",
    "                             average_precision_score,\n",
    "                             accuracy_score,\n",
    "                             precision_score,\n",
    "                             recall_score,\n",
    "                             auc, \n",
    "                             classification_report, \n",
    "                             confusion_matrix, \n",
    "                             f1_score)\n",
    "from time import time\n",
    "from inspect import signature\n",
    "from pprint import pprint\n",
    "\n",
    "# from imblearn import under_sampling, over_sampling\n",
    "# from imblearn.under_sampling import RandomUnderSampler\n",
    "# from imblearn.over_sampling import RandomOverSampler"
   ]
  },
  {
   "cell_type": "code",
   "execution_count": 6,
   "metadata": {
    "collapsed": false
   },
   "outputs": [],
   "source": [
    "#Notebook commands\n",
    "from IPython.display import Image  \n",
    "from IPython.core.interactiveshell import InteractiveShell\n",
    "InteractiveShell.ast_node_interactivity = \"all\"\n",
    "%matplotlib inline"
   ]
  },
  {
   "cell_type": "markdown",
   "metadata": {},
   "source": [
    "## Step 1. Read/Load Data"
   ]
  },
  {
   "cell_type": "code",
   "execution_count": 7,
   "metadata": {
    "collapsed": false
   },
   "outputs": [],
   "source": [
    "# Read Data into Pandas object\n",
    "data = P1_read.read('data/credit-data.csv')"
   ]
  },
  {
   "cell_type": "markdown",
   "metadata": {},
   "source": [
    "## Step 2. Explore Data"
   ]
  },
  {
   "cell_type": "code",
   "execution_count": 8,
   "metadata": {
    "collapsed": false,
    "scrolled": true
   },
   "outputs": [
    {
     "data": {
      "text/plain": [
       "PersonID                                  int64\n",
       "SeriousDlqin2yrs                          int64\n",
       "RevolvingUtilizationOfUnsecuredLines    float64\n",
       "age                                       int64\n",
       "zipcode                                   int64\n",
       "NumberOfTime30-59DaysPastDueNotWorse      int64\n",
       "DebtRatio                               float64\n",
       "MonthlyIncome                           float64\n",
       "NumberOfOpenCreditLinesAndLoans           int64\n",
       "NumberOfTimes90DaysLate                   int64\n",
       "NumberRealEstateLoansOrLines              int64\n",
       "NumberOfTime60-89DaysPastDueNotWorse      int64\n",
       "NumberOfDependents                      float64\n",
       "dtype: object"
      ]
     },
     "execution_count": 8,
     "metadata": {},
     "output_type": "execute_result"
    }
   ],
   "source": [
    "# Peek at columns to understand potential features and labels\n",
    "data.dtypes"
   ]
  },
  {
   "cell_type": "code",
   "execution_count": 9,
   "metadata": {
    "collapsed": false
   },
   "outputs": [],
   "source": [
    "# Our dependent variable (label) is 'SeriousDlqin2yrs'\n",
    "# Our independent variables (features) are all column names other \n",
    "# than 'PersonID' and the label\n",
    "\n",
    "ls = 'SeriousDlqin2yrs'\n",
    "label = data[ls]\n",
    "cols = list(data.columns)\n",
    "features = [x for x in cols if x != ls and 'ID' not in x]"
   ]
  },
  {
   "cell_type": "code",
   "execution_count": 12,
   "metadata": {
    "collapsed": false,
    "scrolled": true
   },
   "outputs": [
    {
     "data": {
      "image/png": "[encoded data removed]",
      "text/plain": [
       "<matplotlib.figure.Figure at 0x7f0966b8a160>"
      ]
     },
     "metadata": {},
     "output_type": "display_data"
    },
    {
     "name": "stdout",
     "output_type": "stream",
     "text": [
      "None\n"
     ]
    },
    {
     "data": {
      "image/png": "[encoded data removed]",
      "text/plain": [
       "<matplotlib.figure.Figure at 0x7f0966aa60f0>"
      ]
     },
     "metadata": {},
     "output_type": "display_data"
    },
    {
     "name": "stdout",
     "output_type": "stream",
     "text": [
      "None\n"
     ]
    },
    {
     "data": {
      "image/png": "[encoded data removed]",
      "text/plain": [
       "<matplotlib.figure.Figure at 0x7f0966c0b860>"
      ]
     },
     "metadata": {},
     "output_type": "display_data"
    },
    {
     "name": "stdout",
     "output_type": "stream",
     "text": [
      "None\n"
     ]
    },
    {
     "data": {
      "image/png": "[encoded data removed]",
      "text/plain": [
       "<matplotlib.figure.Figure at 0x7f0966abcb70>"
      ]
     },
     "metadata": {},
     "output_type": "display_data"
    },
    {
     "name": "stdout",
     "output_type": "stream",
     "text": [
      "None\n"
     ]
    },
    {
     "data": {
      "image/png": "[encoded data removed]",
      "text/plain": [
       "<matplotlib.figure.Figure at 0x7f09670f5eb8>"
      ]
     },
     "metadata": {},
     "output_type": "display_data"
    },
    {
     "name": "stdout",
     "output_type": "stream",
     "text": [
      "None\n"
     ]
    },
    {
     "ename": "ValueError",
     "evalue": "max must be larger than min in range parameter.",
     "output_type": "error",
     "traceback": [
      "\u001b[1;31m---------------------------------------------------------------------------\u001b[0m",
      "\u001b[1;31mValueError\u001b[0m                                Traceback (most recent call last)",
      "\u001b[1;32m<ipython-input-12-77a111cd0bd6>\u001b[0m in \u001b[0;36m<module>\u001b[1;34m()\u001b[0m\n\u001b[0;32m      1\u001b[0m \u001b[1;32mfor\u001b[0m \u001b[0mvarname\u001b[0m \u001b[1;32min\u001b[0m \u001b[0mfeatures\u001b[0m\u001b[1;33m:\u001b[0m\u001b[1;33m\u001b[0m\u001b[0m\n\u001b[1;32m----> 2\u001b[1;33m     \u001b[0mprint\u001b[0m\u001b[1;33m(\u001b[0m\u001b[0mhistogram\u001b[0m\u001b[1;33m(\u001b[0m\u001b[0mdata\u001b[0m\u001b[1;33m,\u001b[0m\u001b[0mvarname\u001b[0m\u001b[1;33m)\u001b[0m\u001b[1;33m)\u001b[0m\u001b[1;33m\u001b[0m\u001b[0m\n\u001b[0m",
      "\u001b[1;32m/home/student/Machine-Learning-Pipelines/Financial Distress/MachineLearning ToolBox/Pipeline2_explore.py\u001b[0m in \u001b[0;36mhistogram\u001b[1;34m(df, varname)\u001b[0m\n\u001b[0;32m     15\u001b[0m     '''\n\u001b[0;32m     16\u001b[0m     \u001b[0mplt\u001b[0m\u001b[1;33m.\u001b[0m\u001b[0mclf\u001b[0m\u001b[1;33m(\u001b[0m\u001b[1;33m)\u001b[0m\u001b[1;33m\u001b[0m\u001b[0m\n\u001b[1;32m---> 17\u001b[1;33m     \u001b[0mn\u001b[0m\u001b[1;33m,\u001b[0m \u001b[0mbins\u001b[0m\u001b[1;33m,\u001b[0m \u001b[0mpatches\u001b[0m \u001b[1;33m=\u001b[0m \u001b[0mplt\u001b[0m\u001b[1;33m.\u001b[0m\u001b[0mhist\u001b[0m\u001b[1;33m(\u001b[0m\u001b[0mdf\u001b[0m\u001b[1;33m[\u001b[0m\u001b[0mvarname\u001b[0m\u001b[1;33m]\u001b[0m\u001b[1;33m)\u001b[0m\u001b[1;33m\u001b[0m\u001b[0m\n\u001b[0m\u001b[0;32m     18\u001b[0m     \u001b[0mclean_name\u001b[0m \u001b[1;33m=\u001b[0m \u001b[1;34m' '\u001b[0m\u001b[1;33m.\u001b[0m\u001b[0mjoin\u001b[0m\u001b[1;33m(\u001b[0m\u001b[0mre\u001b[0m\u001b[1;33m.\u001b[0m\u001b[0mfindall\u001b[0m\u001b[1;33m(\u001b[0m\u001b[1;34mr\"[A-Za-z0-9][A-Za-z0-9][^A-Z0-9]*\"\u001b[0m\u001b[1;33m,\u001b[0m \u001b[0mvarname\u001b[0m\u001b[1;33m)\u001b[0m\u001b[1;33m)\u001b[0m\u001b[1;33m\u001b[0m\u001b[0m\n\u001b[0;32m     19\u001b[0m \u001b[1;33m\u001b[0m\u001b[0m\n",
      "\u001b[1;32m/usr/lib/python3/dist-packages/matplotlib/pyplot.py\u001b[0m in \u001b[0;36mhist\u001b[1;34m(x, bins, range, normed, weights, cumulative, bottom, histtype, align, orientation, rwidth, log, color, label, stacked, hold, **kwargs)\u001b[0m\n\u001b[0;32m   2825\u001b[0m                       \u001b[0mhisttype\u001b[0m\u001b[1;33m=\u001b[0m\u001b[0mhisttype\u001b[0m\u001b[1;33m,\u001b[0m \u001b[0malign\u001b[0m\u001b[1;33m=\u001b[0m\u001b[0malign\u001b[0m\u001b[1;33m,\u001b[0m \u001b[0morientation\u001b[0m\u001b[1;33m=\u001b[0m\u001b[0morientation\u001b[0m\u001b[1;33m,\u001b[0m\u001b[1;33m\u001b[0m\u001b[0m\n\u001b[0;32m   2826\u001b[0m                       \u001b[0mrwidth\u001b[0m\u001b[1;33m=\u001b[0m\u001b[0mrwidth\u001b[0m\u001b[1;33m,\u001b[0m \u001b[0mlog\u001b[0m\u001b[1;33m=\u001b[0m\u001b[0mlog\u001b[0m\u001b[1;33m,\u001b[0m \u001b[0mcolor\u001b[0m\u001b[1;33m=\u001b[0m\u001b[0mcolor\u001b[0m\u001b[1;33m,\u001b[0m \u001b[0mlabel\u001b[0m\u001b[1;33m=\u001b[0m\u001b[0mlabel\u001b[0m\u001b[1;33m,\u001b[0m\u001b[1;33m\u001b[0m\u001b[0m\n\u001b[1;32m-> 2827\u001b[1;33m                       stacked=stacked, **kwargs)\n\u001b[0m\u001b[0;32m   2828\u001b[0m         \u001b[0mdraw_if_interactive\u001b[0m\u001b[1;33m(\u001b[0m\u001b[1;33m)\u001b[0m\u001b[1;33m\u001b[0m\u001b[0m\n\u001b[0;32m   2829\u001b[0m     \u001b[1;32mfinally\u001b[0m\u001b[1;33m:\u001b[0m\u001b[1;33m\u001b[0m\u001b[0m\n",
      "\u001b[1;32m/usr/lib/python3/dist-packages/matplotlib/axes.py\u001b[0m in \u001b[0;36mhist\u001b[1;34m(self, x, bins, range, normed, weights, cumulative, bottom, histtype, align, orientation, rwidth, log, color, label, stacked, **kwargs)\u001b[0m\n\u001b[0;32m   8326\u001b[0m             \u001b[1;31m# this will automatically overwrite bins,\u001b[0m\u001b[1;33m\u001b[0m\u001b[1;33m\u001b[0m\u001b[0m\n\u001b[0;32m   8327\u001b[0m             \u001b[1;31m# so that each histogram uses the same bins\u001b[0m\u001b[1;33m\u001b[0m\u001b[1;33m\u001b[0m\u001b[0m\n\u001b[1;32m-> 8328\u001b[1;33m             \u001b[0mm\u001b[0m\u001b[1;33m,\u001b[0m \u001b[0mbins\u001b[0m \u001b[1;33m=\u001b[0m \u001b[0mnp\u001b[0m\u001b[1;33m.\u001b[0m\u001b[0mhistogram\u001b[0m\u001b[1;33m(\u001b[0m\u001b[0mx\u001b[0m\u001b[1;33m[\u001b[0m\u001b[0mi\u001b[0m\u001b[1;33m]\u001b[0m\u001b[1;33m,\u001b[0m \u001b[0mbins\u001b[0m\u001b[1;33m,\u001b[0m \u001b[0mweights\u001b[0m\u001b[1;33m=\u001b[0m\u001b[0mw\u001b[0m\u001b[1;33m[\u001b[0m\u001b[0mi\u001b[0m\u001b[1;33m]\u001b[0m\u001b[1;33m,\u001b[0m \u001b[1;33m**\u001b[0m\u001b[0mhist_kwargs\u001b[0m\u001b[1;33m)\u001b[0m\u001b[1;33m\u001b[0m\u001b[0m\n\u001b[0m\u001b[0;32m   8329\u001b[0m             \u001b[0mm\u001b[0m \u001b[1;33m=\u001b[0m \u001b[0mm\u001b[0m\u001b[1;33m.\u001b[0m\u001b[0mastype\u001b[0m\u001b[1;33m(\u001b[0m\u001b[0mfloat\u001b[0m\u001b[1;33m)\u001b[0m \u001b[1;31m# causes problems later if it's an int\u001b[0m\u001b[1;33m\u001b[0m\u001b[0m\n\u001b[0;32m   8330\u001b[0m             \u001b[1;32mif\u001b[0m \u001b[0mmlast\u001b[0m \u001b[1;32mis\u001b[0m \u001b[1;32mNone\u001b[0m\u001b[1;33m:\u001b[0m\u001b[1;33m\u001b[0m\u001b[0m\n",
      "\u001b[1;32m/usr/local/lib/python3.4/dist-packages/numpy/lib/function_base.py\u001b[0m in \u001b[0;36mhistogram\u001b[1;34m(a, bins, range, normed, weights, density)\u001b[0m\n\u001b[0;32m    664\u001b[0m     \u001b[1;32mif\u001b[0m \u001b[0mmn\u001b[0m \u001b[1;33m>\u001b[0m \u001b[0mmx\u001b[0m\u001b[1;33m:\u001b[0m\u001b[1;33m\u001b[0m\u001b[0m\n\u001b[0;32m    665\u001b[0m         raise ValueError(\n\u001b[1;32m--> 666\u001b[1;33m             'max must be larger than min in range parameter.')\n\u001b[0m\u001b[0;32m    667\u001b[0m     \u001b[1;32mif\u001b[0m \u001b[1;32mnot\u001b[0m \u001b[0mnp\u001b[0m\u001b[1;33m.\u001b[0m\u001b[0mall\u001b[0m\u001b[1;33m(\u001b[0m\u001b[0mnp\u001b[0m\u001b[1;33m.\u001b[0m\u001b[0misfinite\u001b[0m\u001b[1;33m(\u001b[0m\u001b[1;33m[\u001b[0m\u001b[0mmn\u001b[0m\u001b[1;33m,\u001b[0m \u001b[0mmx\u001b[0m\u001b[1;33m]\u001b[0m\u001b[1;33m)\u001b[0m\u001b[1;33m)\u001b[0m\u001b[1;33m:\u001b[0m\u001b[1;33m\u001b[0m\u001b[0m\n\u001b[0;32m    668\u001b[0m         raise ValueError(\n",
      "\u001b[1;31mValueError\u001b[0m: max must be larger than min in range parameter."
     ]
    },
    {
     "data": {
      "image/png": "[encoded data removed]",
      "text/plain": [
       "<matplotlib.figure.Figure at 0x7f0967113fd0>"
      ]
     },
     "metadata": {},
     "output_type": "display_data"
    }
   ],
   "source": [
    "P2_explore.basics(data)"
   ]
  },
  {
   "cell_type": "code",
   "execution_count": 13,
   "metadata": {
    "collapsed": false,
    "scrolled": true
   },
   "outputs": [
    {
     "ename": "NameError",
     "evalue": "name 'explore_varname' is not defined",
     "output_type": "error",
     "traceback": [
      "\u001b[1;31m---------------------------------------------------------------------------\u001b[0m",
      "\u001b[1;31mNameError\u001b[0m                                 Traceback (most recent call last)",
      "\u001b[1;32m<ipython-input-13-3222a5d072c3>\u001b[0m in \u001b[0;36m<module>\u001b[1;34m()\u001b[0m\n\u001b[0;32m      6\u001b[0m                 \u001b[1;34m'NumberOfTime60-89DaysPastDueNotWorse'\u001b[0m\u001b[1;33m,\u001b[0m\u001b[1;33m\u001b[0m\u001b[0m\n\u001b[0;32m      7\u001b[0m                 'NumberOfDependents']:\n\u001b[1;32m----> 8\u001b[1;33m     \u001b[0mexplore_varname\u001b[0m\u001b[1;33m(\u001b[0m\u001b[0mdata\u001b[0m\u001b[1;33m,\u001b[0m\u001b[0mvarname\u001b[0m\u001b[1;33m,\u001b[0m\u001b[0mlabel\u001b[0m\u001b[1;33m,\u001b[0m\u001b[1;34m'bar'\u001b[0m\u001b[1;33m)\u001b[0m\u001b[1;33m[\u001b[0m\u001b[1;34m\"graph\"\u001b[0m\u001b[1;33m]\u001b[0m\u001b[1;33m\u001b[0m\u001b[0m\n\u001b[0m",
      "\u001b[1;31mNameError\u001b[0m: name 'explore_varname' is not defined"
     ]
    }
   ],
   "source": [
    "P2_explore.stats(data)"
   ]
  },
  {
   "cell_type": "markdown",
   "metadata": {},
   "source": [
    "The previous statistics indicate our data has several particularities. For example:\n",
    "- The variable 'RevolvingUtilizationOfUnsecuredLines' has a large skew and excessively high kurtosis. This means most observations are close to the average of the distribution, but there are many outliers very far on the right tail of the distribution.\n",
    "- 'NumberOfTime30-59DaysPastDueNotWorse', NumberOfTime60-89DaysPastDueNotWorse, and 'NumberOfTimes90DaysLate' are similar. They have a large skew and high kurtosis, meaning most observations close to the average but with many outliers far on the right tail.\n",
    "\n",
    "Suspicious values in data:\n",
    "- 'RevolvingUtilizationOfUnsecuredLines': 50,708 doesn't seem real.\n",
    "- 'NumberOfTime30-59DaysPastDueNotWorse', NumberOfTime60-89DaysPastDueNotWorse, and 'NumberOfTimes90DaysLate': maximum values of exactly 98.\n",
    "- 'DebtRatio': exactly 329,664.\n",
    "- 'NumberOfOpenCreditLinesAndLoans': maximum value of 58.\n",
    "- 'NumberRealEstateLoansOrLines': maximum value of 54.\n",
    "- 'NumberOfDependents': does anyone really have 20 dependents?"
   ]
  },
  {
   "cell_type": "code",
   "execution_count": null,
   "metadata": {
    "collapsed": true
   },
   "outputs": [],
   "source": [
    "P2_explore.corr(data)"
   ]
  },
  {
   "cell_type": "markdown",
   "metadata": {},
   "source": [
    "A correlation of almost 1 between 'NumberOfTime30-59DaysPastDueNotWorse', 'NumberOfTime60-89DaysPastDueNotWorse', and 'NumberOfTimes90DaysLate' suggest there is something definitely going on in the data. The value of 98 must mean something internal of the data, unknown to us."
   ]
  },
  {
   "cell_type": "code",
   "execution_count": null,
   "metadata": {
    "collapsed": true
   },
   "outputs": [],
   "source": [
    "P2_explore.plot(data)"
   ]
  },
  {
   "cell_type": "markdown",
   "metadata": {},
   "source": [
    "## Step 3. Pre-process data"
   ]
  },
  {
   "cell_type": "code",
   "execution_count": null,
   "metadata": {
    "collapsed": false,
    "scrolled": true
   },
   "outputs": [],
   "source": [
    "# Fix variable types\n",
    "P3_preprocess.convert_vartype(data, label, 'bool')\n",
    "P3_preprocess.convert_vartype(data, 'NumberOfDependents', 'int')"
   ]
  },
  {
   "cell_type": "code",
   "execution_count": null,
   "metadata": {
    "collapsed": false,
    "scrolled": false
   },
   "outputs": [],
   "source": [
    "# Check for missing values\n",
    "P3_preprocess.check_miss(data)"
   ]
  },
  {
   "cell_type": "code",
   "execution_count": null,
   "metadata": {
    "collapsed": false
   },
   "outputs": [],
   "source": [
    "# How many?\n",
    "data.isnull().sum().sort_values(ascending = False)"
   ]
  },
  {
   "cell_type": "code",
   "execution_count": null,
   "metadata": {
    "collapsed": true
   },
   "outputs": [],
   "source": [
    "# Fill missing values\n",
    "P3_preprocess.fill_miss(data, 'MonthlyIncome', method='mean')\n",
    "P3_preprocess.fill_miss(data, 'NumberOfDependents', method='median')"
   ]
  },
  {
   "cell_type": "code",
   "execution_count": null,
   "metadata": {
    "collapsed": false,
    "scrolled": true
   },
   "outputs": [],
   "source": [
    "# Check for missing values\n",
    "P3_preprocess.check_miss(data)"
   ]
  },
  {
   "cell_type": "markdown",
   "metadata": {},
   "source": [
    "## Step 4. Create Features"
   ]
  },
  {
   "cell_type": "markdown",
   "metadata": {},
   "source": [
    "### Selecting Features"
   ]
  },
  {
   "cell_type": "code",
   "execution_count": 5,
   "metadata": {
    "collapsed": false
   },
   "outputs": [
    {
     "data": {
      "image/png": "[encoded data removed]",
      "text/plain": [
       "<matplotlib.figure.Figure at 0x7fd2f404a4a8>"
      ]
     },
     "metadata": {},
     "output_type": "display_data"
    }
   ],
   "source": [
    "P4_features.display_importance(data, label, features, \"Decision Tree\")"
   ]
  },
  {
   "cell_type": "code",
   "execution_count": 6,
   "metadata": {
    "collapsed": false,
    "scrolled": true
   },
   "outputs": [
    {
     "data": {
      "image/png": "[encoded data removed]",
      "text/plain": [
       "<matplotlib.figure.Figure at 0x7fd2dbb7c828>"
      ]
     },
     "metadata": {},
     "output_type": "display_data"
    }
   ],
   "source": [
    "P4_features.display_importance(data, label, features, \"Gradient Boosting\")"
   ]
  },
  {
   "cell_type": "code",
   "execution_count": 7,
   "metadata": {
    "collapsed": false,
    "scrolled": true
   },
   "outputs": [
    {
     "data": {
      "image/png": "[encoded data removed]",
      "text/plain": [
       "<matplotlib.figure.Figure at 0x7fd2dba13f28>"
      ]
     },
     "metadata": {},
     "output_type": "display_data"
    }
   ],
   "source": [
    "P4_features.display_importance(data, label, features, \"Random Forest\")"
   ]
  },
  {
   "cell_type": "markdown",
   "metadata": {},
   "source": [
    "It seems like the 5 most important features among our classifiers is consistently:\n",
    "* **'RevolvingUtilizationOfUnsecuredLines'**\n",
    "* **'NumberOfTimes90DaysLate'**\n",
    "* **'MonthlyIncome'** \n",
    "* **'age'**\n",
    "* **'DebtRatio'** \n",
    "\n",
    "Only once, **'NumberOfTime30-59DaysPastDueNotWorse'** is also among the top five. It may be worth to consider it a main feature."
   ]
  },
  {
   "cell_type": "markdown",
   "metadata": {},
   "source": [
    "### Discretizing Features"
   ]
  },
  {
   "cell_type": "code",
   "execution_count": null,
   "metadata": {
    "collapsed": false
   },
   "outputs": [],
   "source": [
    "data['NumberOfTimes90DaysLate'].plot.bar()"
   ]
  },
  {
   "cell_type": "code",
   "execution_count": null,
   "metadata": {
    "collapsed": false,
    "scrolled": true
   },
   "outputs": [],
   "source": [
    "P4_features.discretize(data, 'MonthlyIncome', 5, 'ufov')\n",
    "P4_features.discretize(data, 'age', 5, 'uv')\n",
    "P4_features.discretize(data, 'DebtRatio', 5, 'logspace')"
   ]
  },
  {
   "cell_type": "code",
   "execution_count": null,
   "metadata": {
    "collapsed": false
   },
   "outputs": [],
   "source": [
    "P4_features.gen_dummies(data, ['age_cat',\n",
    "                               'DebtRatio_cat',\n",
    "                               'MonthlyIncome_cat'], drop = True)"
   ]
  },
  {
   "cell_type": "code",
   "execution_count": null,
   "metadata": {
    "collapsed": false
   },
   "outputs": [],
   "source": [
    "data.dtypes"
   ]
  },
  {
   "cell_type": "code",
   "execution_count": 5,
   "metadata": {
    "collapsed": true
   },
   "outputs": [],
   "source": [
    "features= ['RevolvingUtilizationOfUnsecuredLines', 'NumberOfTimes90DaysLate',\n",
    "                'NumberOfTime30-59DaysPastDueNotWorse', 'MonthlyIncome_cat_1',\n",
    "                'MonthlyIncome_cat_2', 'MonthlyIncome_cat_3',\n",
    "                'MonthlyIncome_cat_4', 'MonthlyIncome_cat_5',\n",
    "                'age_cat_1', 'age_cat_2', 'age_cat_3', 'age_cat_4', 'age_cat_5',\n",
    "                'DebtRatio_cat_1', 'DebtRatio_cat_2', 'DebtRatio_cat_3',\n",
    "                'DebtRatio_cat_4', 'DebtRatio_cat_5','DebtRatio_cat_6']"
   ]
  },
  {
   "cell_type": "code",
   "execution_count": 10,
   "metadata": {
    "collapsed": true
   },
   "outputs": [],
   "source": [
    "features= ['RevolvingUtilizationOfUnsecuredLines', 'NumberOfTimes90DaysLate',\n",
    "                'NumberOfTime30-59DaysPastDueNotWorse', 'MonthlyIncome_cat_1',\n",
    "                'MonthlyIncome_cat_2', 'MonthlyIncome_cat_3',\n",
    "                'MonthlyIncome_cat_4', \n",
    "                #'MonthlyIncome_cat_5',\n",
    "                'age_cat_1', 'age_cat_2', 'age_cat_3', 'age_cat_4', \n",
    "                #'age_cat_5',\n",
    "                'DebtRatio_cat_1', 'DebtRatio_cat_2', 'DebtRatio_cat_3',\n",
    "                'DebtRatio_cat_4', 'DebtRatio_cat_5',\n",
    "                #'DebtRatio_cat_6'\n",
    "          ]"
   ]
  },
  {
   "cell_type": "markdown",
   "metadata": {},
   "source": [
    "## Step 5. Classify"
   ]
  },
  {
   "cell_type": "code",
   "execution_count": 5,
   "metadata": {
    "collapsed": false
   },
   "outputs": [],
   "source": [
    "models = ['LR', 'KNN', 'DT', 'SVM', 'RF', 'GB']\n",
    "metrics = ['precision', 'recall', 'f1', 'auc']"
   ]
  },
  {
   "cell_type": "code",
   "execution_count": 11,
   "metadata": {
    "collapsed": false
   },
   "outputs": [
    {
     "name": "stdout",
     "output_type": "stream",
     "text": [
      "LR is running...\n",
      "Finished running LR!\n",
      "RF is running...\n",
      "Finished running RF!\n",
      "GB is running...\n",
      "Finished running GB!\n"
     ]
    }
   ],
   "source": [
    "all_models = P5_classify.classify(data[features],\n",
    "                                  data[label],\n",
    "                                  ['LR', 'RF', 'GB'], \n",
    "                                  3, \n",
    "                                  0.05, \n",
    "                                  metrics)"
   ]
  },
  {
   "cell_type": "code",
   "execution_count": 12,
   "metadata": {
    "collapsed": true
   },
   "outputs": [],
   "source": [
    "auc = P5_classify.select_best_models(all_models, \n",
    "                                     models, \n",
    "                                     'auc')"
   ]
  },
  {
   "cell_type": "code",
   "execution_count": 13,
   "metadata": {
    "collapsed": true
   },
   "outputs": [],
   "source": [
    "precision = P5_classify.select_best_models(all_models, \n",
    "                                           models, \n",
    "                                           'precision')"
   ]
  },
  {
   "cell_type": "code",
   "execution_count": 14,
   "metadata": {
    "collapsed": true
   },
   "outputs": [],
   "source": [
    "recall = P5_classify.select_best_models(all_models, \n",
    "                                        models, \n",
    "                                        'recall')"
   ]
  },
  {
   "cell_type": "code",
   "execution_count": 15,
   "metadata": {
    "collapsed": true
   },
   "outputs": [],
   "source": [
    "f1 = P5_classify.select_best_models(all_models, \n",
    "                                    models, \n",
    "                                    'f1')"
   ]
  },
  {
   "cell_type": "code",
   "execution_count": 16,
   "metadata": {
    "collapsed": false
   },
   "outputs": [
    {
     "data": {
      "text/plain": [
       "{'GB': {\"{'n_estimators': 1, 'max_depth': 1, 'subsample': 0.5, 'learning_rate': 0.1}\": {'auc': 0.5,\n",
       "   'f1': 0.12671717592207143,\n",
       "   'precision': 0.067644444444444438,\n",
       "   'recall': 1.0,\n",
       "   'time': 0.20614973704020181},\n",
       "  \"{'n_estimators': 1, 'max_depth': 1, 'subsample': 0.5, 'learning_rate': 0.5}\": {'auc': 0.5,\n",
       "   'f1': 0.12671717592207143,\n",
       "   'precision': 0.067644444444444438,\n",
       "   'recall': 1.0,\n",
       "   'time': 0.20917590459187826},\n",
       "  \"{'n_estimators': 1, 'max_depth': 1, 'subsample': 1.0, 'learning_rate': 0.1}\": {'auc': 0.5,\n",
       "   'f1': 0.12671717592207143,\n",
       "   'precision': 0.067644444444444438,\n",
       "   'recall': 1.0,\n",
       "   'time': 0.18154867490132651},\n",
       "  \"{'n_estimators': 1, 'max_depth': 1, 'subsample': 1.0, 'learning_rate': 0.5}\": {'auc': 0.5,\n",
       "   'f1': 0.12671717592207143,\n",
       "   'precision': 0.067644444444444438,\n",
       "   'recall': 1.0,\n",
       "   'time': 0.22090697288513184},\n",
       "  \"{'n_estimators': 1, 'max_depth': 3, 'subsample': 0.5, 'learning_rate': 0.1}\": {'auc': 0.5,\n",
       "   'f1': 0.12671717592207143,\n",
       "   'precision': 0.067644444444444438,\n",
       "   'recall': 1.0,\n",
       "   'time': 0.23352273305257162},\n",
       "  \"{'n_estimators': 1, 'max_depth': 3, 'subsample': 0.5, 'learning_rate': 0.5}\": {'auc': 0.7582661269526797,\n",
       "   'f1': 0.27782955193785663,\n",
       "   'precision': 0.1680665330378712,\n",
       "   'recall': 0.8106657906263689,\n",
       "   'time': 0.23616425196329752},\n",
       "  \"{'n_estimators': 1, 'max_depth': 3, 'subsample': 1.0, 'learning_rate': 0.1}\": {'auc': 0.5,\n",
       "   'f1': 0.12671717592207143,\n",
       "   'precision': 0.067644444444444438,\n",
       "   'recall': 1.0,\n",
       "   'time': 0.21842948595682779},\n",
       "  \"{'n_estimators': 1, 'max_depth': 3, 'subsample': 1.0, 'learning_rate': 0.5}\": {'auc': 0.75889140917166342,\n",
       "   'f1': 0.27060020345879959,\n",
       "   'precision': 0.16164523763832916,\n",
       "   'recall': 0.83015768725361372,\n",
       "   'time': 0.23691662152608237},\n",
       "  \"{'n_estimators': 1, 'max_depth': 5, 'subsample': 0.5, 'learning_rate': 0.1}\": {'auc': 0.5,\n",
       "   'f1': 0.12671717592207143,\n",
       "   'precision': 0.067644444444444438,\n",
       "   'recall': 1.0,\n",
       "   'time': 0.28569920857747394},\n",
       "  \"{'n_estimators': 1, 'max_depth': 5, 'subsample': 0.5, 'learning_rate': 0.5}\": {'auc': 0.743326033902317,\n",
       "   'f1': 0.24249236704732646,\n",
       "   'precision': 0.14081893614806884,\n",
       "   'recall': 0.87680683311432317,\n",
       "   'time': 0.31856266657511395},\n",
       "  \"{'n_estimators': 1, 'max_depth': 5, 'subsample': 1.0, 'learning_rate': 0.1}\": {'auc': 0.5,\n",
       "   'f1': 0.12671717592207143,\n",
       "   'precision': 0.067644444444444438,\n",
       "   'recall': 1.0,\n",
       "   'time': 0.29298241933186847},\n",
       "  \"{'n_estimators': 1, 'max_depth': 5, 'subsample': 1.0, 'learning_rate': 0.5}\": {'auc': 0.73530843087101205,\n",
       "   'f1': 0.23194729637234768,\n",
       "   'precision': 0.13333661223686799,\n",
       "   'recall': 0.89060446780551905,\n",
       "   'time': 0.32922720909118652},\n",
       "  \"{'n_estimators': 10, 'max_depth': 1, 'subsample': 0.5, 'learning_rate': 0.1}\": {'auc': 0.75724636977595006,\n",
       "   'f1': 0.26525372926310498,\n",
       "   'precision': 0.15746991617097053,\n",
       "   'recall': 0.84132720105124836,\n",
       "   'time': 0.48374009132385254},\n",
       "  \"{'n_estimators': 10, 'max_depth': 1, 'subsample': 0.5, 'learning_rate': 0.5}\": {'auc': 0.76266405032207985,\n",
       "   'f1': 0.28695370895102273,\n",
       "   'precision': 0.17493583386039849,\n",
       "   'recall': 0.79949627682873403,\n",
       "   'time': 0.48327525456746417},\n",
       "  \"{'n_estimators': 10, 'max_depth': 1, 'subsample': 1.0, 'learning_rate': 0.1}\": {'auc': 0.75742532161532339,\n",
       "   'f1': 0.26505401354215125,\n",
       "   'precision': 0.15727166779120408,\n",
       "   'recall': 0.8423127463863338,\n",
       "   'time': 0.37496463457743329},\n",
       "  \"{'n_estimators': 10, 'max_depth': 1, 'subsample': 1.0, 'learning_rate': 0.5}\": {'auc': 0.76196300510803583,\n",
       "   'f1': 0.28241644653726888,\n",
       "   'precision': 0.17112038970076549,\n",
       "   'recall': 0.80781865965834443,\n",
       "   'time': 0.36533037821451825},\n",
       "  \"{'n_estimators': 10, 'max_depth': 3, 'subsample': 0.5, 'learning_rate': 0.1}\": {'auc': 0.75789751184594156,\n",
       "   'f1': 0.2657374559385054,\n",
       "   'precision': 0.15776983619555926,\n",
       "   'recall': 0.84187472623740689,\n",
       "   'time': 0.76580945650736487},\n",
       "  \"{'n_estimators': 10, 'max_depth': 3, 'subsample': 0.5, 'learning_rate': 0.5}\": {'auc': 0.7640081674951632,\n",
       "   'f1': 0.2875238495160431,\n",
       "   'precision': 0.17518048834645802,\n",
       "   'recall': 0.80234340779675861,\n",
       "   'time': 0.83593002955118811},\n",
       "  \"{'n_estimators': 10, 'max_depth': 3, 'subsample': 1.0, 'learning_rate': 0.1}\": {'auc': 0.75777925287852399,\n",
       "   'f1': 0.26486653612284855,\n",
       "   'precision': 0.15707126268182373,\n",
       "   'recall': 0.84428383705650456,\n",
       "   'time': 0.67341351509094238},\n",
       "  \"{'n_estimators': 10, 'max_depth': 3, 'subsample': 1.0, 'learning_rate': 0.5}\": {'auc': 0.76620438607293861,\n",
       "   'f1': 0.29073368270605049,\n",
       "   'precision': 0.17755309863252836,\n",
       "   'recall': 0.80190538764783181,\n",
       "   'time': 0.79155468940734863},\n",
       "  \"{'n_estimators': 10, 'max_depth': 5, 'subsample': 0.5, 'learning_rate': 0.1}\": {'auc': 0.75738891737613701,\n",
       "   'f1': 0.26201864925772789,\n",
       "   'precision': 0.15479955272978255,\n",
       "   'recall': 0.85249671484888301,\n",
       "   'time': 1.4618612925211589},\n",
       "  \"{'n_estimators': 10, 'max_depth': 5, 'subsample': 0.5, 'learning_rate': 0.5}\": {'auc': 0.76945348791030554,\n",
       "   'f1': 0.29547346300298138,\n",
       "   'precision': 0.18112045161143886,\n",
       "   'recall': 0.80245291283399034,\n",
       "   'time': 1.3249547481536865},\n",
       "  \"{'n_estimators': 10, 'max_depth': 5, 'subsample': 1.0, 'learning_rate': 0.1}\": {'auc': 0.75631258590283368,\n",
       "   'f1': 0.26054254625683199,\n",
       "   'precision': 0.15373690750932006,\n",
       "   'recall': 0.85348226018396856,\n",
       "   'time': 1.5629830360412598},\n",
       "  \"{'n_estimators': 10, 'max_depth': 5, 'subsample': 1.0, 'learning_rate': 0.5}\": {'auc': 0.77047872086089642,\n",
       "   'f1': 0.29315260562868056,\n",
       "   'precision': 0.17891284080527872,\n",
       "   'recall': 0.81099430573806386,\n",
       "   'time': 1.383987267812093}},\n",
       " 'LR': {\"{'penalty': 'l1', 'C': 0.0001}\": {'auc': 0.50011917246639337,\n",
       "   'f1': 0.12674355664737477,\n",
       "   'precision': 0.067659479884418755,\n",
       "   'recall': 1.0,\n",
       "   'time': 0.18228030204772949},\n",
       "  \"{'penalty': 'l1', 'C': 0.001}\": {'auc': 0.50003575173991799,\n",
       "   'f1': 0.12672508898649071,\n",
       "   'precision': 0.067648954374736087,\n",
       "   'recall': 1.0,\n",
       "   'time': 0.21758564313252768},\n",
       "  \"{'penalty': 'l1', 'C': 0.01}\": {'auc': 0.58060169473582801,\n",
       "   'f1': 0.14970351485290326,\n",
       "   'precision': 0.082002196767613375,\n",
       "   'recall': 0.85840998685939551,\n",
       "   'time': 0.928063710530599},\n",
       "  \"{'penalty': 'l1', 'C': 0.1}\": {'auc': 0.57703063931940957,\n",
       "   'f1': 0.14888614588843826,\n",
       "   'precision': 0.081757149312504038,\n",
       "   'recall': 0.83212877792378448,\n",
       "   'time': 1.2839709122975667},\n",
       "  \"{'penalty': 'l1', 'C': 10}\": {'auc': 0.59178846583411526,\n",
       "   'f1': 0.15501643449679134,\n",
       "   'precision': 0.085671776063112007,\n",
       "   'recall': 0.81340341655716164,\n",
       "   'time': 7.2432675361633301},\n",
       "  \"{'penalty': 'l1', 'C': 1e-05}\": {'auc': 0.50004766898655739,\n",
       "   'f1': 0.12672772689425479,\n",
       "   'precision': 0.067650457818472759,\n",
       "   'recall': 1.0,\n",
       "   'time': 0.17418559392293295},\n",
       "  \"{'penalty': 'l1', 'C': 1}\": {'auc': 0.59195272338996285,\n",
       "   'f1': 0.15507418769172979,\n",
       "   'precision': 0.085703411528613938,\n",
       "   'recall': 0.81373193166885682,\n",
       "   'time': 6.8948742548624677},\n",
       "  \"{'penalty': 'l2', 'C': 0.0001}\": {'auc': 0.50006217013029985,\n",
       "   'f1': 0.12672830251540895,\n",
       "   'precision': 0.067652289906625168,\n",
       "   'recall': 0.99967148488830482,\n",
       "   'time': 0.25667413075764972},\n",
       "  \"{'penalty': 'l2', 'C': 0.001}\": {'auc': 0.50317869455630193,\n",
       "   'f1': 0.12719676085458304,\n",
       "   'precision': 0.068060293168618058,\n",
       "   'recall': 0.97010512483574241,\n",
       "   'time': 0.26798828442891437},\n",
       "  \"{'penalty': 'l2', 'C': 0.01}\": {'auc': 0.57124217736897021,\n",
       "   'f1': 0.1466399771232485,\n",
       "   'precision': 0.080310718536615922,\n",
       "   'recall': 0.8423127463863338,\n",
       "   'time': 0.33821042378743488},\n",
       "  \"{'penalty': 'l2', 'C': 0.1}\": {'auc': 0.576207769881945,\n",
       "   'f1': 0.14863671161886813,\n",
       "   'precision': 0.081635293356620744,\n",
       "   'recall': 0.82917214191852828,\n",
       "   'time': 0.43366765975952148},\n",
       "  \"{'penalty': 'l2', 'C': 10}\": {'auc': 0.59178846583411526,\n",
       "   'f1': 0.15501643449679134,\n",
       "   'precision': 0.085671776063112007,\n",
       "   'recall': 0.81340341655716164,\n",
       "   'time': 0.64818970362345374},\n",
       "  \"{'penalty': 'l2', 'C': 1e-05}\": {'auc': 0.50026476332316849,\n",
       "   'f1': 0.12677317891140874,\n",
       "   'precision': 0.067677868469630587,\n",
       "   'recall': 0.99967148488830482,\n",
       "   'time': 0.25628240903218585},\n",
       "  \"{'penalty': 'l2', 'C': 1}\": {'auc': 0.59189313715676617,\n",
       "   'f1': 0.15504992019029137,\n",
       "   'precision': 0.085688587539350325,\n",
       "   'recall': 0.81373193166885682,\n",
       "   'time': 0.59396862983703613}},\n",
       " 'RF': {\"{'max_features': 'log2', 'max_depth': 1, 'n_estimators': 1, 'min_samples_split': 10}\": {'auc': 0.5846561372703114,\n",
       "   'f1': 0.21888696776803837,\n",
       "   'precision': 0.18895813918918489,\n",
       "   'recall': 0.71616294349540077,\n",
       "   'time': 0.12128249804178874},\n",
       "  \"{'max_features': 'log2', 'max_depth': 1, 'n_estimators': 1, 'min_samples_split': 2}\": {'auc': 0.58296216042946269,\n",
       "   'f1': 0.18636757037329277,\n",
       "   'precision': 0.11262569513992875,\n",
       "   'recall': 0.82446342531756456,\n",
       "   'time': 0.12870264053344727},\n",
       "  \"{'max_features': 'log2', 'max_depth': 1, 'n_estimators': 1, 'min_samples_split': 5}\": {'auc': 0.60407414488039468,\n",
       "   'f1': 0.29482037764994146,\n",
       "   'precision': 0.30012915300188031,\n",
       "   'recall': 0.56504599211563733,\n",
       "   'time': 0.12106736501057942},\n",
       "  \"{'max_features': 'log2', 'max_depth': 1, 'n_estimators': 10, 'min_samples_split': 10}\": {'auc': 0.73164724181564422,\n",
       "   'f1': 0.2390501021094544,\n",
       "   'precision': 0.13948652852200397,\n",
       "   'recall': 0.85709592641261489,\n",
       "   'time': 0.28074415524800617},\n",
       "  \"{'max_features': 'log2', 'max_depth': 1, 'n_estimators': 10, 'min_samples_split': 2}\": {'auc': 0.67651363752703064,\n",
       "   'f1': 0.20322111847364285,\n",
       "   'precision': 0.11565593852529736,\n",
       "   'recall': 0.90210249671484899,\n",
       "   'time': 0.24318106969197592},\n",
       "  \"{'max_features': 'log2', 'max_depth': 1, 'n_estimators': 10, 'min_samples_split': 5}\": {'auc': 0.70860363507029278,\n",
       "   'f1': 0.24990487395680003,\n",
       "   'precision': 0.15101425398693435,\n",
       "   'recall': 0.82522996057818665,\n",
       "   'time': 0.2524290879567464},\n",
       "  \"{'max_features': 'log2', 'max_depth': 10, 'n_estimators': 1, 'min_samples_split': 10}\": {'auc': 0.75082483215526408,\n",
       "   'f1': 0.27764024538305959,\n",
       "   'precision': 0.16891348533362591,\n",
       "   'recall': 0.78098992553657476,\n",
       "   'time': 0.15805315971374512},\n",
       "  \"{'max_features': 'log2', 'max_depth': 10, 'n_estimators': 1, 'min_samples_split': 2}\": {'auc': 0.74586646933418388,\n",
       "   'f1': 0.27558836981729035,\n",
       "   'precision': 0.16796408569997204,\n",
       "   'recall': 0.76795882610600097,\n",
       "   'time': 0.15204191207885742},\n",
       "  \"{'max_features': 'log2', 'max_depth': 10, 'n_estimators': 1, 'min_samples_split': 5}\": {'auc': 0.75098137455976133,\n",
       "   'f1': 0.27965149911417631,\n",
       "   'precision': 0.17059783084178629,\n",
       "   'recall': 0.7757336837494524,\n",
       "   'time': 0.15016984939575195},\n",
       "  \"{'max_features': 'log2', 'max_depth': 10, 'n_estimators': 10, 'min_samples_split': 10}\": {'auc': 0.7655346086238396,\n",
       "   'f1': 0.28308049891428605,\n",
       "   'precision': 0.17112060587530151,\n",
       "   'recall': 0.81887866841874724,\n",
       "   'time': 0.60419201850891113},\n",
       "  \"{'max_features': 'log2', 'max_depth': 10, 'n_estimators': 10, 'min_samples_split': 2}\": {'auc': 0.76418523491664947,\n",
       "   'f1': 0.2806011711199079,\n",
       "   'precision': 0.16923622767583121,\n",
       "   'recall': 0.82074025405168649,\n",
       "   'time': 0.59199166297912598},\n",
       "  \"{'max_features': 'log2', 'max_depth': 10, 'n_estimators': 10, 'min_samples_split': 5}\": {'auc': 0.76535331822708785,\n",
       "   'f1': 0.28183329128260604,\n",
       "   'precision': 0.17010437037792403,\n",
       "   'recall': 0.8217257993867717,\n",
       "   'time': 0.58832963307698571},\n",
       "  \"{'max_features': 'log2', 'max_depth': 5, 'n_estimators': 1, 'min_samples_split': 10}\": {'auc': 0.72035173301926514,\n",
       "   'f1': 0.24634061510552449,\n",
       "   'precision': 0.14700659717131873,\n",
       "   'recall': 0.7639071397284275,\n",
       "   'time': 0.16949232419331869},\n",
       "  \"{'max_features': 'log2', 'max_depth': 5, 'n_estimators': 1, 'min_samples_split': 2}\": {'auc': 0.75479335358607536,\n",
       "   'f1': 0.26780618797835409,\n",
       "   'precision': 0.15999675870015789,\n",
       "   'recall': 0.82643451598773543,\n",
       "   'time': 0.14226984977722168},\n",
       "  \"{'max_features': 'log2', 'max_depth': 5, 'n_estimators': 1, 'min_samples_split': 5}\": {'auc': 0.75686304994569742,\n",
       "   'f1': 0.29757328001080402,\n",
       "   'precision': 0.18548068979688762,\n",
       "   'recall': 0.75470871660096372,\n",
       "   'time': 0.14820694923400879},\n",
       "  \"{'max_features': 'log2', 'max_depth': 5, 'n_estimators': 10, 'min_samples_split': 10}\": {'auc': 0.76000713072080561,\n",
       "   'f1': 0.2723770959167876,\n",
       "   'precision': 0.16298613083538907,\n",
       "   'recall': 0.82971966710468692,\n",
       "   'time': 0.44336835543314618},\n",
       "  \"{'max_features': 'log2', 'max_depth': 5, 'n_estimators': 10, 'min_samples_split': 2}\": {'auc': 0.7595119150960018,\n",
       "   'f1': 0.27233324929875141,\n",
       "   'precision': 0.16300321134042184,\n",
       "   'recall': 0.82752956636005248,\n",
       "   'time': 0.35709047317504883},\n",
       "  \"{'max_features': 'log2', 'max_depth': 5, 'n_estimators': 10, 'min_samples_split': 5}\": {'auc': 0.76060083197519524,\n",
       "   'f1': 0.27440354829400487,\n",
       "   'precision': 0.16457429097549128,\n",
       "   'recall': 0.82544897065264999,\n",
       "   'time': 0.41534757614135742},\n",
       "  \"{'max_features': 'sqrt', 'max_depth': 1, 'n_estimators': 1, 'min_samples_split': 10}\": {'auc': 0.58131401513723135,\n",
       "   'f1': 0.18854563006872829,\n",
       "   'precision': 0.11850780066736362,\n",
       "   'recall': 0.8107752956636004,\n",
       "   'time': 0.12272874514261882},\n",
       "  \"{'max_features': 'sqrt', 'max_depth': 1, 'n_estimators': 1, 'min_samples_split': 2}\": {'auc': 0.66230967327137902,\n",
       "   'f1': 0.24679752356305781,\n",
       "   'precision': 0.1584294647451229,\n",
       "   'recall': 0.71101620674551036,\n",
       "   'time': 0.13646888732910156},\n",
       "  \"{'max_features': 'sqrt', 'max_depth': 1, 'n_estimators': 1, 'min_samples_split': 5}\": {'auc': 0.59192334526289914,\n",
       "   'f1': 0.18909287579694126,\n",
       "   'precision': 0.11413862640723493,\n",
       "   'recall': 0.84625492772667543,\n",
       "   'time': 0.12791013717651367},\n",
       "  \"{'max_features': 'sqrt', 'max_depth': 1, 'n_estimators': 10, 'min_samples_split': 10}\": {'auc': 0.65574076999590802,\n",
       "   'f1': 0.18788871895332324,\n",
       "   'precision': 0.10566092090378239,\n",
       "   'recall': 0.89870784056066588,\n",
       "   'time': 0.28603712717692059},\n",
       "  \"{'max_features': 'sqrt', 'max_depth': 1, 'n_estimators': 10, 'min_samples_split': 2}\": {'auc': 0.60907952418876377,\n",
       "   'f1': 0.1847796092674987,\n",
       "   'precision': 0.10592222289087068,\n",
       "   'recall': 0.92159439334209381,\n",
       "   'time': 0.23941675821940103},\n",
       "  \"{'max_features': 'sqrt', 'max_depth': 1, 'n_estimators': 10, 'min_samples_split': 5}\": {'auc': 0.58263869827210257,\n",
       "   'f1': 0.155355205011797,\n",
       "   'precision': 0.085115669775051708,\n",
       "   'recall': 0.95094174332019277,\n",
       "   'time': 0.23769688606262207},\n",
       "  \"{'max_features': 'sqrt', 'max_depth': 10, 'n_estimators': 1, 'min_samples_split': 10}\": {'auc': 0.75241351649415833,\n",
       "   'f1': 0.2790336364014212,\n",
       "   'precision': 0.16991115479298749,\n",
       "   'recall': 0.78405606657906268,\n",
       "   'time': 0.15115165710449219},\n",
       "  \"{'max_features': 'sqrt', 'max_depth': 10, 'n_estimators': 1, 'min_samples_split': 2}\": {'auc': 0.74551573792739578,\n",
       "   'f1': 0.27827097293343067,\n",
       "   'precision': 0.17047746585781998,\n",
       "   'recall': 0.76204555409548835,\n",
       "   'time': 0.15880521138509116},\n",
       "  \"{'max_features': 'sqrt', 'max_depth': 10, 'n_estimators': 1, 'min_samples_split': 5}\": {'auc': 0.74859290359752395,\n",
       "   'f1': 0.28657404551616289,\n",
       "   'precision': 0.17715201336334374,\n",
       "   'recall': 0.75010950503723173,\n",
       "   'time': 0.15626621246337891},\n",
       "  \"{'max_features': 'sqrt', 'max_depth': 10, 'n_estimators': 10, 'min_samples_split': 10}\": {'auc': 0.76320265975823409,\n",
       "   'f1': 0.27942786841583839,\n",
       "   'precision': 0.16839971496453818,\n",
       "   'recall': 0.82041173893999131,\n",
       "   'time': 0.55960655212402344},\n",
       "  \"{'max_features': 'sqrt', 'max_depth': 10, 'n_estimators': 10, 'min_samples_split': 2}\": {'auc': 0.76393400703830616,\n",
       "   'f1': 0.28207502224830261,\n",
       "   'precision': 0.17051965268387079,\n",
       "   'recall': 0.81581252737625931,\n",
       "   'time': 0.56297874450683594},\n",
       "  \"{'max_features': 'sqrt', 'max_depth': 10, 'n_estimators': 10, 'min_samples_split': 5}\": {'auc': 0.7640322629881493,\n",
       "   'f1': 0.28253265404750655,\n",
       "   'precision': 0.17089188255141316,\n",
       "   'recall': 0.8149364870784056,\n",
       "   'time': 0.56566023826599121},\n",
       "  \"{'max_features': 'sqrt', 'max_depth': 5, 'n_estimators': 1, 'min_samples_split': 10}\": {'auc': 0.73886638932211357,\n",
       "   'f1': 0.24865577718905787,\n",
       "   'precision': 0.14624435848135056,\n",
       "   'recall': 0.84329829172141924,\n",
       "   'time': 0.13034415245056152},\n",
       "  \"{'max_features': 'sqrt', 'max_depth': 5, 'n_estimators': 1, 'min_samples_split': 2}\": {'auc': 0.73387760437514016,\n",
       "   'f1': 0.27378184236743852,\n",
       "   'precision': 0.16918613831323334,\n",
       "   'recall': 0.72908453788874283,\n",
       "   'time': 0.14886124928792319},\n",
       "  \"{'max_features': 'sqrt', 'max_depth': 5, 'n_estimators': 1, 'min_samples_split': 5}\": {'auc': 0.73362357335993955,\n",
       "   'f1': 0.27313414104255146,\n",
       "   'precision': 0.16921826737979861,\n",
       "   'recall': 0.76390713972842761,\n",
       "   'time': 0.14270710945129395},\n",
       "  \"{'max_features': 'sqrt', 'max_depth': 5, 'n_estimators': 10, 'min_samples_split': 10}\": {'auc': 0.76100468204243088,\n",
       "   'f1': 0.27413653146134587,\n",
       "   'precision': 0.16429292555364583,\n",
       "   'recall': 0.82763907139728421,\n",
       "   'time': 0.38943966229756671},\n",
       "  \"{'max_features': 'sqrt', 'max_depth': 5, 'n_estimators': 10, 'min_samples_split': 2}\": {'auc': 0.76290922822720608,\n",
       "   'f1': 0.2789550260240064,\n",
       "   'precision': 0.16806212188107542,\n",
       "   'recall': 0.820849759088918,\n",
       "   'time': 0.42714969317118329},\n",
       "  \"{'max_features': 'sqrt', 'max_depth': 5, 'n_estimators': 10, 'min_samples_split': 5}\": {'auc': 0.76460056375101593,\n",
       "   'f1': 0.28211048940083328,\n",
       "   'precision': 0.1704601746069144,\n",
       "   'recall': 0.81844064826982044,\n",
       "   'time': 0.44724726676940918}}}"
      ]
     },
     "execution_count": 16,
     "metadata": {},
     "output_type": "execute_result"
    }
   ],
   "source": [
    "all_models"
   ]
  },
  {
   "cell_type": "code",
   "execution_count": 17,
   "metadata": {
    "collapsed": false
   },
   "outputs": [
    {
     "data": {
      "text/html": [
       "<div>\n",
       "<table border=\"1\" class=\"dataframe\">\n",
       "  <thead>\n",
       "    <tr style=\"text-align: right;\">\n",
       "      <th></th>\n",
       "      <th>auc</th>\n",
       "      <th>f1</th>\n",
       "      <th>precision</th>\n",
       "      <th>recall</th>\n",
       "      <th>time</th>\n",
       "      <th>parameters</th>\n",
       "    </tr>\n",
       "  </thead>\n",
       "  <tbody>\n",
       "    <tr>\n",
       "      <th>LR</th>\n",
       "      <td>7</td>\n",
       "      <td>1</td>\n",
       "      <td>0</td>\n",
       "      <td>0</td>\n",
       "      <td>1</td>\n",
       "      <td>{'penalty': 'l1', 'C': 1}</td>\n",
       "    </tr>\n",
       "    <tr>\n",
       "      <th>KNN</th>\n",
       "      <td>NaN</td>\n",
       "      <td>NaN</td>\n",
       "      <td>NaN</td>\n",
       "      <td>NaN</td>\n",
       "      <td>NaN</td>\n",
       "      <td>NaN</td>\n",
       "    </tr>\n",
       "    <tr>\n",
       "      <th>DT</th>\n",
       "      <td>NaN</td>\n",
       "      <td>NaN</td>\n",
       "      <td>NaN</td>\n",
       "      <td>NaN</td>\n",
       "      <td>NaN</td>\n",
       "      <td>NaN</td>\n",
       "    </tr>\n",
       "    <tr>\n",
       "      <th>SVM</th>\n",
       "      <td>NaN</td>\n",
       "      <td>NaN</td>\n",
       "      <td>NaN</td>\n",
       "      <td>NaN</td>\n",
       "      <td>NaN</td>\n",
       "      <td>NaN</td>\n",
       "    </tr>\n",
       "    <tr>\n",
       "      <th>RF</th>\n",
       "      <td>1</td>\n",
       "      <td>1</td>\n",
       "      <td>0</td>\n",
       "      <td>0</td>\n",
       "      <td>1</td>\n",
       "      <td>{'max_features': 'log2', 'max_depth': 10, 'n_e...</td>\n",
       "    </tr>\n",
       "    <tr>\n",
       "      <th>GB</th>\n",
       "      <td>1</td>\n",
       "      <td>1</td>\n",
       "      <td>0</td>\n",
       "      <td>0</td>\n",
       "      <td>1</td>\n",
       "      <td>{'n_estimators': 10, 'max_depth': 5, 'subsampl...</td>\n",
       "    </tr>\n",
       "  </tbody>\n",
       "</table>\n",
       "</div>"
      ],
      "text/plain": [
       "     auc   f1 precision recall time  \\\n",
       "LR     7    1         0      0    1   \n",
       "KNN  NaN  NaN       NaN    NaN  NaN   \n",
       "DT   NaN  NaN       NaN    NaN  NaN   \n",
       "SVM  NaN  NaN       NaN    NaN  NaN   \n",
       "RF     1    1         0      0    1   \n",
       "GB     1    1         0      0    1   \n",
       "\n",
       "                                            parameters  \n",
       "LR                           {'penalty': 'l1', 'C': 1}  \n",
       "KNN                                                NaN  \n",
       "DT                                                 NaN  \n",
       "SVM                                                NaN  \n",
       "RF   {'max_features': 'log2', 'max_depth': 10, 'n_e...  \n",
       "GB   {'n_estimators': 10, 'max_depth': 5, 'subsampl...  "
      ]
     },
     "execution_count": 17,
     "metadata": {},
     "output_type": "execute_result"
    }
   ],
   "source": [
    "auc['table']"
   ]
  },
  {
   "cell_type": "code",
   "execution_count": 18,
   "metadata": {
    "collapsed": false
   },
   "outputs": [
    {
     "data": {
      "text/html": [
       "<div>\n",
       "<table border=\"1\" class=\"dataframe\">\n",
       "  <thead>\n",
       "    <tr style=\"text-align: right;\">\n",
       "      <th></th>\n",
       "      <th>auc</th>\n",
       "      <th>f1</th>\n",
       "      <th>precision</th>\n",
       "      <th>recall</th>\n",
       "      <th>time</th>\n",
       "      <th>parameters</th>\n",
       "    </tr>\n",
       "  </thead>\n",
       "  <tbody>\n",
       "    <tr>\n",
       "      <th>LR</th>\n",
       "      <td>7</td>\n",
       "      <td>1</td>\n",
       "      <td>0</td>\n",
       "      <td>0</td>\n",
       "      <td>1</td>\n",
       "      <td>{'penalty': 'l1', 'C': 1}</td>\n",
       "    </tr>\n",
       "    <tr>\n",
       "      <th>KNN</th>\n",
       "      <td>NaN</td>\n",
       "      <td>NaN</td>\n",
       "      <td>NaN</td>\n",
       "      <td>NaN</td>\n",
       "      <td>NaN</td>\n",
       "      <td>NaN</td>\n",
       "    </tr>\n",
       "    <tr>\n",
       "      <th>DT</th>\n",
       "      <td>NaN</td>\n",
       "      <td>NaN</td>\n",
       "      <td>NaN</td>\n",
       "      <td>NaN</td>\n",
       "      <td>NaN</td>\n",
       "      <td>NaN</td>\n",
       "    </tr>\n",
       "    <tr>\n",
       "      <th>SVM</th>\n",
       "      <td>NaN</td>\n",
       "      <td>NaN</td>\n",
       "      <td>NaN</td>\n",
       "      <td>NaN</td>\n",
       "      <td>NaN</td>\n",
       "      <td>NaN</td>\n",
       "    </tr>\n",
       "    <tr>\n",
       "      <th>RF</th>\n",
       "      <td>0</td>\n",
       "      <td>1</td>\n",
       "      <td>0</td>\n",
       "      <td>0</td>\n",
       "      <td>1</td>\n",
       "      <td>{'max_features': 'log2', 'max_depth': 1, 'n_es...</td>\n",
       "    </tr>\n",
       "    <tr>\n",
       "      <th>GB</th>\n",
       "      <td>1</td>\n",
       "      <td>1</td>\n",
       "      <td>0</td>\n",
       "      <td>0</td>\n",
       "      <td>1</td>\n",
       "      <td>{'n_estimators': 10, 'max_depth': 5, 'subsampl...</td>\n",
       "    </tr>\n",
       "  </tbody>\n",
       "</table>\n",
       "</div>"
      ],
      "text/plain": [
       "     auc   f1 precision recall time  \\\n",
       "LR     7    1         0      0    1   \n",
       "KNN  NaN  NaN       NaN    NaN  NaN   \n",
       "DT   NaN  NaN       NaN    NaN  NaN   \n",
       "SVM  NaN  NaN       NaN    NaN  NaN   \n",
       "RF     0    1         0      0    1   \n",
       "GB     1    1         0      0    1   \n",
       "\n",
       "                                            parameters  \n",
       "LR                           {'penalty': 'l1', 'C': 1}  \n",
       "KNN                                                NaN  \n",
       "DT                                                 NaN  \n",
       "SVM                                                NaN  \n",
       "RF   {'max_features': 'log2', 'max_depth': 1, 'n_es...  \n",
       "GB   {'n_estimators': 10, 'max_depth': 5, 'subsampl...  "
      ]
     },
     "execution_count": 18,
     "metadata": {},
     "output_type": "execute_result"
    }
   ],
   "source": [
    "precision['table']"
   ]
  },
  {
   "cell_type": "code",
   "execution_count": 18,
   "metadata": {
    "collapsed": false
   },
   "outputs": [
    {
     "data": {
      "text/html": [
       "<div>\n",
       "<table border=\"1\" class=\"dataframe\">\n",
       "  <thead>\n",
       "    <tr style=\"text-align: right;\">\n",
       "      <th></th>\n",
       "      <th>auc</th>\n",
       "      <th>f1</th>\n",
       "      <th>precision</th>\n",
       "      <th>recall</th>\n",
       "      <th>time</th>\n",
       "      <th>parameters</th>\n",
       "    </tr>\n",
       "  </thead>\n",
       "  <tbody>\n",
       "    <tr>\n",
       "      <th>LR</th>\n",
       "      <td>0</td>\n",
       "      <td>1</td>\n",
       "      <td>0</td>\n",
       "      <td>0</td>\n",
       "      <td>1</td>\n",
       "      <td>{'penalty': 'l1', 'C': 1e-05}</td>\n",
       "    </tr>\n",
       "    <tr>\n",
       "      <th>KNN</th>\n",
       "      <td>NaN</td>\n",
       "      <td>NaN</td>\n",
       "      <td>NaN</td>\n",
       "      <td>NaN</td>\n",
       "      <td>NaN</td>\n",
       "      <td>NaN</td>\n",
       "    </tr>\n",
       "    <tr>\n",
       "      <th>DT</th>\n",
       "      <td>NaN</td>\n",
       "      <td>NaN</td>\n",
       "      <td>NaN</td>\n",
       "      <td>NaN</td>\n",
       "      <td>NaN</td>\n",
       "      <td>NaN</td>\n",
       "    </tr>\n",
       "    <tr>\n",
       "      <th>SVM</th>\n",
       "      <td>NaN</td>\n",
       "      <td>NaN</td>\n",
       "      <td>NaN</td>\n",
       "      <td>NaN</td>\n",
       "      <td>NaN</td>\n",
       "      <td>NaN</td>\n",
       "    </tr>\n",
       "    <tr>\n",
       "      <th>RF</th>\n",
       "      <td>0</td>\n",
       "      <td>1</td>\n",
       "      <td>0</td>\n",
       "      <td>0</td>\n",
       "      <td>1</td>\n",
       "      <td>{'max_depth': 1, 'min_samples_split': 2, 'n_es...</td>\n",
       "    </tr>\n",
       "    <tr>\n",
       "      <th>GB</th>\n",
       "      <td>0</td>\n",
       "      <td>1</td>\n",
       "      <td>0</td>\n",
       "      <td>0</td>\n",
       "      <td>0</td>\n",
       "      <td>{'max_depth': 1, 'n_estimators': 1, 'learning_...</td>\n",
       "    </tr>\n",
       "  </tbody>\n",
       "</table>\n",
       "</div>"
      ],
      "text/plain": [
       "     auc   f1 precision recall time  \\\n",
       "LR     0    1         0      0    1   \n",
       "KNN  NaN  NaN       NaN    NaN  NaN   \n",
       "DT   NaN  NaN       NaN    NaN  NaN   \n",
       "SVM  NaN  NaN       NaN    NaN  NaN   \n",
       "RF     0    1         0      0    1   \n",
       "GB     0    1         0      0    0   \n",
       "\n",
       "                                            parameters  \n",
       "LR                       {'penalty': 'l1', 'C': 1e-05}  \n",
       "KNN                                                NaN  \n",
       "DT                                                 NaN  \n",
       "SVM                                                NaN  \n",
       "RF   {'max_depth': 1, 'min_samples_split': 2, 'n_es...  \n",
       "GB   {'max_depth': 1, 'n_estimators': 1, 'learning_...  "
      ]
     },
     "execution_count": 18,
     "metadata": {},
     "output_type": "execute_result"
    }
   ],
   "source": [
    "recall['table']"
   ]
  },
  {
   "cell_type": "code",
   "execution_count": null,
   "metadata": {
    "collapsed": true
   },
   "outputs": [],
   "source": [
    "f1['table']"
   ]
  },
  {
   "cell_type": "code",
   "execution_count": null,
   "metadata": {
    "collapsed": true
   },
   "outputs": [],
   "source": [
    "auc['best']"
   ]
  },
  {
   "cell_type": "code",
   "execution_count": null,
   "metadata": {
    "collapsed": true
   },
   "outputs": [],
   "source": [
    "precision['best']"
   ]
  },
  {
   "cell_type": "code",
   "execution_count": null,
   "metadata": {
    "collapsed": true
   },
   "outputs": [],
   "source": [
    "recall['best']"
   ]
  },
  {
   "cell_type": "code",
   "execution_count": null,
   "metadata": {
    "collapsed": true
   },
   "outputs": [],
   "source": [
    "f1['best']"
   ]
  },
  {
   "cell_type": "code",
   "execution_count": null,
   "metadata": {
    "collapsed": true
   },
   "outputs": [],
   "source": [
    "P5_classify.gen_precision_recall_plots(data[features], \n",
    "                                    data[label], \n",
    "                                    auc['best_models'])"
   ]
  },
  {
   "cell_type": "code",
   "execution_count": null,
   "metadata": {
    "collapsed": true
   },
   "outputs": [],
   "source": [
    "P5_classify.gen_precision_recall_plots(data[features], \n",
    "                                    data[label], \n",
    "                                    precision['best_models'])"
   ]
  },
  {
   "cell_type": "code",
   "execution_count": null,
   "metadata": {
    "collapsed": true
   },
   "outputs": [],
   "source": [
    "P5_classify.gen_precision_recall_plots(data[features], \n",
    "                                    data[label], \n",
    "                                    recall['best_models'])"
   ]
  },
  {
   "cell_type": "code",
   "execution_count": null,
   "metadata": {
    "collapsed": true
   },
   "outputs": [],
   "source": [
    "P5_classify.gen_precision_recall_plots(data[features], \n",
    "                                    data[label], \n",
    "                                    f1['best_models'])"
   ]
  },
  {
   "cell_type": "markdown",
   "metadata": {},
   "source": [
    "## Step 6. Evaluate"
   ]
  },
  {
   "cell_type": "code",
   "execution_count": null,
   "metadata": {
    "collapsed": false
   },
   "outputs": [],
   "source": [
    "model.model.score(X_test, Y_test)"
   ]
  },
  {
   "cell_type": "code",
   "execution_count": null,
   "metadata": {
    "collapsed": false
   },
   "outputs": [],
   "source": [
    "import pandas as pd\n",
    "\n",
    "probas = model.model.predict_proba(X_test)\n",
    "\n",
    "pd.crosstab(Y_test, probas[:,1] > 0.2, rownames=[\"Actual\"], colnames=[\"Predicted\"])"
   ]
  },
  {
   "cell_type": "code",
   "execution_count": null,
   "metadata": {
    "collapsed": true
   },
   "outputs": [],
   "source": [
    "from sklearn.metrics import accuracy_score, classification_report, precision_recall_curve"
   ]
  },
  {
   "cell_type": "code",
   "execution_count": null,
   "metadata": {
    "collapsed": false
   },
   "outputs": [],
   "source": [
    "accuracy_score(Y_test, probas[:,1] > 0.2)"
   ]
  },
  {
   "cell_type": "code",
   "execution_count": null,
   "metadata": {
    "collapsed": false
   },
   "outputs": [],
   "source": [
    "print(classification_report(Y_test, probas[:,1] > 0.2))"
   ]
  },
  {
   "cell_type": "code",
   "execution_count": null,
   "metadata": {
    "collapsed": false
   },
   "outputs": [],
   "source": [
    "precision_recall_curve(Y_test, probas[:,1])"
   ]
  },
  {
   "cell_type": "code",
   "execution_count": null,
   "metadata": {
    "collapsed": false
   },
   "outputs": [],
   "source": [
    "from sklearn.metrics import roc_curve, auc, classification_report, confusion_matrix\n",
    "\n",
    "confusion_matrix(Y_test, model.model.predict(X_test))\n"
   ]
  },
  {
   "cell_type": "code",
   "execution_count": null,
   "metadata": {
    "collapsed": true
   },
   "outputs": [],
   "source": [
    "probas = model.model.predict_proba(X_train)"
   ]
  },
  {
   "cell_type": "code",
   "execution_count": null,
   "metadata": {
    "collapsed": false
   },
   "outputs": [],
   "source": [
    "sum(probas[:,1] > 0.2)"
   ]
  },
  {
   "cell_type": "code",
   "execution_count": null,
   "metadata": {
    "collapsed": false
   },
   "outputs": [],
   "source": [
    "model.model.predict(X_test)"
   ]
  },
  {
   "cell_type": "code",
   "execution_count": null,
   "metadata": {
    "collapsed": true
   },
   "outputs": [],
   "source": [
    "d = pd.DataFrame({'a': [5,6,7], 'b':[0,1,3]}, index=[10,13,14])\n",
    "d = binarize_categories(d, ['a'], True)\n",
    "d.head()"
   ]
  }
 ],
 "metadata": {
  "kernelspec": {
   "display_name": "Python 3",
   "language": "python",
   "name": "python3"
  },
  "language_info": {
   "codemirror_mode": {
    "name": "ipython",
    "version": 3
   },
   "file_extension": ".py",
   "mimetype": "text/x-python",
   "name": "python",
   "nbconvert_exporter": "python",
   "pygments_lexer": "ipython3",
   "version": "3.4.0"
  }
 },
 "nbformat": 4,
 "nbformat_minor": 0
}
