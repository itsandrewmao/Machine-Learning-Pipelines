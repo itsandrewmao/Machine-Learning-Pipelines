{
 "cells": [
  {
   "cell_type": "markdown",
   "metadata": {
    "deletable": true,
    "editable": true
   },
   "source": [
    "# HW 1 - Carlos Alvarado"
   ]
  },
  {
   "cell_type": "markdown",
   "metadata": {
    "deletable": true,
    "editable": true
   },
   "source": [
    "### Problem 1 - CODE"
   ]
  },
  {
   "cell_type": "code",
   "execution_count": 1,
   "metadata": {
    "collapsed": false,
    "deletable": true,
    "editable": true
   },
   "outputs": [],
   "source": [
    "import geopandas as gpd\n",
    "import os\n",
    "import pandas as pd\n",
    "import requests\n",
    "import datetime\n",
    "\n",
    "from geopandas import GeoDataFrame\n",
    "from geopandas.tools import sjoin\n",
    "from shapely.geometry import Point\n",
    "\n",
    "def get_and_load_data(data_info):\n",
    "    '''\n",
    "    Loads \"data_name.csv\" from local disk, or downloads it if it's not present\n",
    "    \n",
    "    Input: dictionary with information about required data\n",
    "    Returns: pandas data_frame for \"data_name\"\n",
    "    '''\n",
    "    \n",
    "    filepath = './data/{}.csv'.format(data_info['source'])\n",
    "    \n",
    "    if os.path.exists(filepath):\n",
    "        data = pd.read_csv(filepath)\n",
    "    else:\n",
    "        data = helper_download_data(filepath, data_info['source'], data_info['datevar'])\n",
    "    \n",
    "    for old_var, new_var in data_info['rename']:\n",
    "        data.rename(index=str, columns={old_var: new_var}, inplace=True)\n",
    "        \n",
    "    return data\n",
    "    \n",
    "def helper_download_data(filepath, data_name, datevar):\n",
    "    offset = 0\n",
    "    limit = 50000\n",
    "    data = pd.DataFrame({})\n",
    "    last_year = (datetime.datetime.now() - datetime.timedelta(days=365)).strftime('%Y-%m-%d')\n",
    "\n",
    "    while True:\n",
    "        \n",
    "        url = 'https://data.cityofchicago.org/resource/' + \\\n",
    "              \"{}.json?$order=service_request_number DESC &$limit={}&$offset={}&$where= {} > '{}'\".format(\n",
    "              data_name, limit, offset, datevar, last_year)\n",
    "        print('getting data from', url)\n",
    "    \n",
    "        response = requests.get(url)\n",
    "        response_code = response.status_code\n",
    "        \n",
    "        if response_code != 200: \n",
    "            print('Failed to download data')\n",
    "            return data\n",
    "            \n",
    "        json_data = response.content\n",
    "\n",
    "        if len(json_data) > 4:\n",
    "            data = pd.concat([data, pd.read_json(json_data)])\n",
    "        \n",
    "            offset = offset + limit\n",
    "        else:\n",
    "            print(json_data)\n",
    "            break\n",
    "            \n",
    "    #save data to csv for future use\n",
    "    data.to_csv(filepath)\n",
    "    \n",
    "    return data    "
   ]
  },
  {
   "cell_type": "code",
   "execution_count": 9,
   "metadata": {
    "collapsed": false,
    "deletable": true,
    "editable": true
   },
   "outputs": [
    {
     "name": "stdout",
     "output_type": "stream",
     "text": [
      "Index(['Unnamed: 0', 'community_area', 'completion_date', 'creation_date',\n",
      "       'latitude', 'location', 'longitude', 'police_district',\n",
      "       'service_request_number', 'ssa', 'status', 'street_address',\n",
      "       'type_of_service_request', 'ward',\n",
      "       'what_type_of_surface_is_the_graffiti_on_', 'Sub Type', 'x_coordinate',\n",
      "       'y_coordinate', 'zip_code'],\n",
      "      dtype='object')\n",
      "Index(['Unnamed: 0', 'address_street_direction', 'address_street_name',\n",
      "       'address_street_number', 'address_street_suffix',\n",
      "       'any_people_using_property_homeless_childen_gangs_', 'community_area',\n",
      "       'creation_date', 'if_the_building_is_open_where_is_the_entry_point_',\n",
      "       'Sub Type', 'is_the_building_currently_vacant_or_occupied_',\n",
      "       'is_the_building_vacant_due_to_fire_', 'latitude', 'location',\n",
      "       'location_of_building_on_the_lot_if_garage_change_type_code_to_bgd_',\n",
      "       'longitude', 'police_district', 'service_request_number',\n",
      "       'service_request_type', 'ward', 'x_coordinate', 'y_coordinate',\n",
      "       'zip_code'],\n",
      "      dtype='object')\n",
      "Index(['Unnamed: 0', 'community_area', 'completion_date', 'creation_date',\n",
      "       'current_activity', 'latitude', 'location', 'longitude',\n",
      "       'most_recent_action', 'number_of_potholes_filled_on_block',\n",
      "       'police_district', 'service_request_number', 'ssa', 'status',\n",
      "       'street_address', 'Sub Type', 'ward', 'x_coordinate', 'y_coordinate',\n",
      "       'zip_code'],\n",
      "      dtype='object')\n",
      "Index(['Unnamed: 0', 'community_area', 'completion_date', 'creation_date',\n",
      "       'latitude', 'location', 'longitude', 'police_district',\n",
      "       'service_request_number', 'status', 'street_address',\n",
      "       'type_of_service_request', 'ward', 'Sub Type', 'x_coordinate',\n",
      "       'y_coordinate', 'zip_code'],\n",
      "      dtype='object')\n"
     ]
    }
   ],
   "source": [
    "# Loading complaints data. Added community names.\n",
    "\n",
    "DATA1 = {'name': 'Graffiti Removal',\n",
    "         'source': 'hec5-y4x5',\n",
    "         'datevar': 'creation_date',\n",
    "         'rename': [('where_is_the_graffiti_located_', 'Sub Type')]    \n",
    "        }\n",
    "\n",
    "DATA2 = {'name': 'Vacant and Abandoned Buildings Reported',\n",
    "         'source': '7nii-7srd',\n",
    "         'datevar': 'date_service_request_was_received',\n",
    "         'rename': [('is_building_open_or_boarded_', 'Sub Type'), \n",
    "                    ('date_service_request_was_received', 'creation_date')]\n",
    "        }\n",
    "\n",
    "DATA3 = {'name': 'Pot Holes Reported',\n",
    "         'source': '7as2-ds3y',\n",
    "         'datevar': 'creation_date',\n",
    "         'rename': [('zip', 'zip_code'), \n",
    "                    ('type_of_service_request', 'Sub Type')]\n",
    "        }\n",
    "    \n",
    "DATA4 = {'name': 'Sanitation Code Complaints',\n",
    "         'source': 'me59-5fac',\n",
    "         'datevar': 'creation_date',         \n",
    "         'rename': [('what_is_the_nature_of_this_code_violation_', 'Sub Type')]\n",
    "        }\n",
    "\n",
    "SOURCES = [DATA1, DATA2, DATA3, DATA4]\n",
    "\n",
    "complaints = pd.DataFrame({})\n",
    "\n",
    "for db_data in SOURCES:\n",
    "    data = get_and_load_data(db_data)\n",
    "    if not data.empty:\n",
    "        print(data.columns)\n",
    "        data['Complaint Type'] = db_data['name']\n",
    "        complaints = pd.concat([complaints, data], ignore_index=True)\n",
    "\n",
    "area_names_file = \"./data/boundaries/Boundaries - Community Areas (current).geojson\"\n",
    "area_names = gpd.read_file(area_names_file)\n",
    "area_names['area_numbe'] = pd.to_numeric(area_names.area_numbe, errors='coerce')\n",
    "\n",
    "complaints = complaints.merge(area_names, left_on='community_area', right_on='area_numbe', how='left')\n",
    "\n",
    "#complaints = pd.read_csv('./data/sample.csv')\n",
    "\n",
    "clean_data = complaints[complaints['latitude'].notnull() & complaints['longitude'].notnull()]\n",
    "\n",
    "geometry = [Point(xy) for xy in zip(clean_data.longitude, clean_data.latitude)]\n",
    "clean_data = clean_data.drop(['latitude', 'longitude'], axis=1)\n",
    "\n",
    "crs = {'init': 'epsg:4269'}\n",
    "geo_complaints = GeoDataFrame(clean_data, crs=crs, geometry=geometry)\n"
   ]
  },
  {
   "cell_type": "code",
   "execution_count": null,
   "metadata": {
    "collapsed": false
   },
   "outputs": [],
   "source": [
    "#create sample database to play with\n",
    "complaints.sample(1000).to_csv('./data/sample.csv')"
   ]
  },
  {
   "cell_type": "code",
   "execution_count": 3,
   "metadata": {
    "collapsed": false
   },
   "outputs": [
    {
     "data": {
      "text/html": [
       "<div>\n",
       "<table border=\"1\" class=\"dataframe\">\n",
       "  <thead>\n",
       "    <tr style=\"text-align: right;\">\n",
       "      <th></th>\n",
       "      <th>Complaint Type</th>\n",
       "      <th>Percent</th>\n",
       "    </tr>\n",
       "  </thead>\n",
       "  <tbody>\n",
       "    <tr>\n",
       "      <th>Graffiti Removal</th>\n",
       "      <td>116981</td>\n",
       "      <td>0.587531</td>\n",
       "    </tr>\n",
       "    <tr>\n",
       "      <th>Pot Holes Reported</th>\n",
       "      <td>55885</td>\n",
       "      <td>0.280680</td>\n",
       "    </tr>\n",
       "    <tr>\n",
       "      <th>Sanitation Code Complaints</th>\n",
       "      <td>21514</td>\n",
       "      <td>0.108053</td>\n",
       "    </tr>\n",
       "    <tr>\n",
       "      <th>Vacant and Abandoned Buildings Reported</th>\n",
       "      <td>4726</td>\n",
       "      <td>0.023736</td>\n",
       "    </tr>\n",
       "  </tbody>\n",
       "</table>\n",
       "</div>"
      ],
      "text/plain": [
       "                                         Complaint Type   Percent\n",
       "Graffiti Removal                                 116981  0.587531\n",
       "Pot Holes Reported                                55885  0.280680\n",
       "Sanitation Code Complaints                        21514  0.108053\n",
       "Vacant and Abandoned Buildings Reported            4726  0.023736"
      ]
     },
     "execution_count": 3,
     "metadata": {},
     "output_type": "execute_result"
    }
   ],
   "source": [
    "#number of complaints by type\n",
    "ctcounts = complaints['Complaint Type'].value_counts().to_frame()\n",
    "total = sum(ctcounts['Complaint Type'])\n",
    "ctcounts['Percent'] = ctcounts['Complaint Type']/total\n",
    "ctcounts"
   ]
  },
  {
   "cell_type": "code",
   "execution_count": 4,
   "metadata": {
    "collapsed": false
   },
   "outputs": [],
   "source": [
    "# GRAPH NUMBER OF REQUESTS BY MONTH AND TYPE\n",
    "from pandas import TimeGrouper\n",
    "from matplotlib import pyplot\n",
    "import numpy as np\n",
    "\n",
    "n_per_month = complaints[['creation_date', 'Complaint Type', 'service_request_number']].groupby(['creation_date', 'Complaint Type'], as_index=False).count()\n",
    "n_per_month = n_per_month.pivot(index='creation_date', columns='Complaint Type', values='service_request_number')\n",
    "n_per_month = n_per_month.set_index(pd.DatetimeIndex(n_per_month.index))\n",
    "\n",
    "n_per_month = n_per_month[n_per_month.index < '2017-04-01']\n",
    "\n",
    "groups = n_per_month.groupby(TimeGrouper('M')).aggregate(np.sum)\n",
    "\n",
    "groups.plot(figsize=(15,10), ylim=(0,15000), title='Number of requests by month and type')\n",
    "pyplot.show()"
   ]
  },
  {
   "cell_type": "code",
   "execution_count": 29,
   "metadata": {
    "collapsed": false
   },
   "outputs": [
    {
     "data": {
      "text/html": [
       "<div>\n",
       "<table border=\"1\" class=\"dataframe\">\n",
       "  <thead>\n",
       "    <tr style=\"text-align: right;\">\n",
       "      <th></th>\n",
       "      <th>Sub Type</th>\n",
       "      <th>Percent</th>\n",
       "    </tr>\n",
       "  </thead>\n",
       "  <tbody>\n",
       "    <tr>\n",
       "      <th>Front</th>\n",
       "      <td>35344</td>\n",
       "      <td>0.302911</td>\n",
       "    </tr>\n",
       "    <tr>\n",
       "      <th>Side</th>\n",
       "      <td>16797</td>\n",
       "      <td>0.143957</td>\n",
       "    </tr>\n",
       "    <tr>\n",
       "      <th>Pole</th>\n",
       "      <td>11129</td>\n",
       "      <td>0.095380</td>\n",
       "    </tr>\n",
       "    <tr>\n",
       "      <th>Garage</th>\n",
       "      <td>9897</td>\n",
       "      <td>0.084821</td>\n",
       "    </tr>\n",
       "    <tr>\n",
       "      <th>Rear</th>\n",
       "      <td>7644</td>\n",
       "      <td>0.065512</td>\n",
       "    </tr>\n",
       "    <tr>\n",
       "      <th>Alley</th>\n",
       "      <td>5928</td>\n",
       "      <td>0.050805</td>\n",
       "    </tr>\n",
       "    <tr>\n",
       "      <th>Traffic Control Box</th>\n",
       "      <td>5290</td>\n",
       "      <td>0.045337</td>\n",
       "    </tr>\n",
       "    <tr>\n",
       "      <th>Sign</th>\n",
       "      <td>4637</td>\n",
       "      <td>0.039741</td>\n",
       "    </tr>\n",
       "    <tr>\n",
       "      <th>Door</th>\n",
       "      <td>4008</td>\n",
       "      <td>0.034350</td>\n",
       "    </tr>\n",
       "    <tr>\n",
       "      <th>Dumpster</th>\n",
       "      <td>3770</td>\n",
       "      <td>0.032310</td>\n",
       "    </tr>\n",
       "    <tr>\n",
       "      <th>Fence</th>\n",
       "      <td>3260</td>\n",
       "      <td>0.027939</td>\n",
       "    </tr>\n",
       "    <tr>\n",
       "      <th>Viaduct</th>\n",
       "      <td>2481</td>\n",
       "      <td>0.021263</td>\n",
       "    </tr>\n",
       "    <tr>\n",
       "      <th>Garbage Cart</th>\n",
       "      <td>1988</td>\n",
       "      <td>0.017038</td>\n",
       "    </tr>\n",
       "    <tr>\n",
       "      <th>Mail Box</th>\n",
       "      <td>1440</td>\n",
       "      <td>0.012341</td>\n",
       "    </tr>\n",
       "    <tr>\n",
       "      <th>Newspaper Box</th>\n",
       "      <td>1287</td>\n",
       "      <td>0.011030</td>\n",
       "    </tr>\n",
       "    <tr>\n",
       "      <th>Bench</th>\n",
       "      <td>812</td>\n",
       "      <td>0.006959</td>\n",
       "    </tr>\n",
       "    <tr>\n",
       "      <th>Express Way Job</th>\n",
       "      <td>495</td>\n",
       "      <td>0.004242</td>\n",
       "    </tr>\n",
       "    <tr>\n",
       "      <th>Overpass</th>\n",
       "      <td>325</td>\n",
       "      <td>0.002785</td>\n",
       "    </tr>\n",
       "    <tr>\n",
       "      <th>Phone</th>\n",
       "      <td>77</td>\n",
       "      <td>0.000660</td>\n",
       "    </tr>\n",
       "    <tr>\n",
       "      <th>Hydrant</th>\n",
       "      <td>72</td>\n",
       "      <td>0.000617</td>\n",
       "    </tr>\n",
       "  </tbody>\n",
       "</table>\n",
       "</div>"
      ],
      "text/plain": [
       "                     Sub Type   Percent\n",
       "Front                   35344  0.302911\n",
       "Side                    16797  0.143957\n",
       "Pole                    11129  0.095380\n",
       "Garage                   9897  0.084821\n",
       "Rear                     7644  0.065512\n",
       "Alley                    5928  0.050805\n",
       "Traffic Control Box      5290  0.045337\n",
       "Sign                     4637  0.039741\n",
       "Door                     4008  0.034350\n",
       "Dumpster                 3770  0.032310\n",
       "Fence                    3260  0.027939\n",
       "Viaduct                  2481  0.021263\n",
       "Garbage Cart             1988  0.017038\n",
       "Mail Box                 1440  0.012341\n",
       "Newspaper Box            1287  0.011030\n",
       "Bench                     812  0.006959\n",
       "Express Way Job           495  0.004242\n",
       "Overpass                  325  0.002785\n",
       "Phone                      77  0.000660\n",
       "Hydrant                    72  0.000617"
      ]
     },
     "execution_count": 29,
     "metadata": {},
     "output_type": "execute_result"
    }
   ],
   "source": [
    "gb = complaints[complaints['Complaint Type'] == 'Graffiti Removal']['Sub Type'].value_counts().to_frame()\n",
    "total = sum(gb['Sub Type'])\n",
    "gb['Percent'] = gb['Sub Type']/total\n",
    "gb"
   ]
  },
  {
   "cell_type": "code",
   "execution_count": 5,
   "metadata": {
    "collapsed": false
   },
   "outputs": [
    {
     "data": {
      "text/html": [
       "<div>\n",
       "<table border=\"1\" class=\"dataframe\">\n",
       "  <thead>\n",
       "    <tr style=\"text-align: right;\">\n",
       "      <th></th>\n",
       "      <th>community</th>\n",
       "      <th>Percent</th>\n",
       "    </tr>\n",
       "  </thead>\n",
       "  <tbody>\n",
       "    <tr>\n",
       "      <th>WEST TOWN</th>\n",
       "      <td>12398</td>\n",
       "      <td>0.062354</td>\n",
       "    </tr>\n",
       "    <tr>\n",
       "      <th>LOGAN SQUARE</th>\n",
       "      <td>9629</td>\n",
       "      <td>0.048428</td>\n",
       "    </tr>\n",
       "    <tr>\n",
       "      <th>SOUTH LAWNDALE</th>\n",
       "      <td>6735</td>\n",
       "      <td>0.033873</td>\n",
       "    </tr>\n",
       "    <tr>\n",
       "      <th>BRIGHTON PARK</th>\n",
       "      <td>6615</td>\n",
       "      <td>0.033269</td>\n",
       "    </tr>\n",
       "    <tr>\n",
       "      <th>AVONDALE</th>\n",
       "      <td>6301</td>\n",
       "      <td>0.031690</td>\n",
       "    </tr>\n",
       "    <tr>\n",
       "      <th>LAKE VIEW</th>\n",
       "      <td>6226</td>\n",
       "      <td>0.031313</td>\n",
       "    </tr>\n",
       "    <tr>\n",
       "      <th>LOWER WEST SIDE</th>\n",
       "      <td>5993</td>\n",
       "      <td>0.030141</td>\n",
       "    </tr>\n",
       "    <tr>\n",
       "      <th>IRVING PARK</th>\n",
       "      <td>5845</td>\n",
       "      <td>0.029397</td>\n",
       "    </tr>\n",
       "    <tr>\n",
       "      <th>BELMONT CRAGIN</th>\n",
       "      <td>5098</td>\n",
       "      <td>0.025640</td>\n",
       "    </tr>\n",
       "    <tr>\n",
       "      <th>GAGE PARK</th>\n",
       "      <td>4881</td>\n",
       "      <td>0.024548</td>\n",
       "    </tr>\n",
       "  </tbody>\n",
       "</table>\n",
       "</div>"
      ],
      "text/plain": [
       "                 community   Percent\n",
       "WEST TOWN            12398  0.062354\n",
       "LOGAN SQUARE          9629  0.048428\n",
       "SOUTH LAWNDALE        6735  0.033873\n",
       "BRIGHTON PARK         6615  0.033269\n",
       "AVONDALE              6301  0.031690\n",
       "LAKE VIEW             6226  0.031313\n",
       "LOWER WEST SIDE       5993  0.030141\n",
       "IRVING PARK           5845  0.029397\n",
       "BELMONT CRAGIN        5098  0.025640\n",
       "GAGE PARK             4881  0.024548"
      ]
     },
     "execution_count": 5,
     "metadata": {},
     "output_type": "execute_result"
    }
   ],
   "source": [
    "ctcounts = complaints['community'].value_counts().to_frame()\n",
    "total = sum(ctcounts['community'])\n",
    "ctcounts['Percent'] = ctcounts['community']/total\n",
    "ctcounts[:10]"
   ]
  },
  {
   "cell_type": "code",
   "execution_count": 18,
   "metadata": {
    "collapsed": false
   },
   "outputs": [],
   "source": [
    "ctcounts['index'] = ctcounts.index\n",
    "area_names2 = area_names.merge(ctcounts, left_on='community', right_on='index')\n",
    "area_names2.plot(column='community_y', cmap='Blues')\n",
    "pyplot.show()"
   ]
  },
  {
   "cell_type": "code",
   "execution_count": 105,
   "metadata": {
    "collapsed": false
   },
   "outputs": [],
   "source": [
    "complaints['Response Time'] = pd.to_numeric(pd.to_datetime(complaints['completion_date']) - pd.to_datetime(complaints['creation_date']))/86400000000000"
   ]
  },
  {
   "cell_type": "code",
   "execution_count": 111,
   "metadata": {
    "collapsed": false
   },
   "outputs": [],
   "source": [
    "select = complaints['Response Time'] > 0\n",
    "complaints2 = complaints[select]"
   ]
  },
  {
   "cell_type": "code",
   "execution_count": 119,
   "metadata": {
    "collapsed": false
   },
   "outputs": [
    {
     "name": "stdout",
     "output_type": "stream",
     "text": [
      "                 Response Time\n",
      "community                     \n",
      "LINCOLN PARK          4.271756\n",
      "MCKINLEY PARK         4.320743\n",
      "BRIGHTON PARK         4.521989\n",
      "WEST TOWN             4.683101\n",
      "LOWER WEST SIDE       4.829618\n",
      "                Response Time\n",
      "community                    \n",
      "JEFFERSON PARK      30.664671\n",
      "NORWOOD PARK        30.697206\n",
      "OHARE               34.905000\n",
      "EDISON PARK         35.469083\n",
      "RIVERDALE           37.072917\n"
     ]
    }
   ],
   "source": [
    "avg_response = complaints2[['Response Time','community']].groupby('community').mean().sort_values('Response Time')\n",
    "print(avg_response[:5])\n",
    "print(avg_response[-5:])"
   ]
  },
  {
   "cell_type": "code",
   "execution_count": 122,
   "metadata": {
    "collapsed": false
   },
   "outputs": [],
   "source": [
    "avg_response['index'] = avg_response.index\n",
    "area_names3 = area_names.merge(avg_response, left_on='community', right_on='index')\n",
    "area_names3.columns\n",
    "area_names3.plot(column='Response Time', cmap='Blues')\n",
    "pyplot.show()"
   ]
  },
  {
   "cell_type": "markdown",
   "metadata": {
    "deletable": true,
    "editable": true
   },
   "source": [
    "### Problem 2"
   ]
  },
  {
   "cell_type": "code",
   "execution_count": 30,
   "metadata": {
    "collapsed": false
   },
   "outputs": [],
   "source": [
    "# Adding Block ID to 311 Requests data \n",
    "\n",
    "#this file contains polygons at the FIPS_12 level (block group)\n",
    "blocks = gpd.read_file('./data/cb_2015_17_bg_500k/cb_2015_17_bg_500k.shp')\n",
    "\n",
    "data_with_blockid = sjoin(geo_complaints, blocks, how=\"left\")"
   ]
  },
  {
   "cell_type": "code",
   "execution_count": 83,
   "metadata": {
    "collapsed": false
   },
   "outputs": [
    {
     "name": "stdout",
     "output_type": "stream",
     "text": [
      "downloaded B01003_001E\n",
      "downloaded B02001_002E\n",
      "downloaded B19013_001E\n",
      "downloaded B05001_006E\n",
      "downloaded B08303_001E\n",
      "downloaded B08303_008E\n",
      "downloaded B08303_009E\n",
      "downloaded B08303_010E\n",
      "downloaded B08303_011E\n",
      "downloaded B08303_012E\n",
      "downloaded B08303_013E\n"
     ]
    }
   ],
   "source": [
    "# Getting census data\n",
    "def get_data_census(varname, label):\n",
    "\n",
    "    census_api_url = 'http://api.census.gov/data/' + \\\n",
    "                    '2015/acs5?get=NAME,' + varname + \\\n",
    "                    '&for=block+group:*&in=state:17&in=county:031&in=tract:*'\n",
    "\n",
    "    response = requests.get(census_api_url)\n",
    "\n",
    "    json_data = response.content\n",
    "\n",
    "    data = pd.read_json(json_data)\n",
    "\n",
    "    names = list(data.iloc[0])\n",
    "\n",
    "    for i in range(0,6):\n",
    "        data.rename(index=str, columns={i: names[i]}, inplace=True)\n",
    "    \n",
    "    data.rename(index=str, columns={varname: label}, inplace=True)\n",
    "    \n",
    "    #HERE, I REPLICATE THE FIPS_12 CODE\n",
    "    data['GEOID'] = data['state'].map(str) + data['county'].map(str) + \\\n",
    "                            data['tract'].map(str) + data['block group'].map(str)\n",
    "\n",
    "    data.drop(data.index[[0]], inplace=True)\n",
    "    \n",
    "    print('downloaded', varname)\n",
    "    \n",
    "    return data\n",
    "\n",
    "download_data = [('B01003_001E', 'Total Population'),\n",
    "                ('B02001_002E', 'White Population'),\n",
    "                ('B19013_001E', 'Median Household Income'),\n",
    "                ('B05001_006E', 'Not a US Citizen'),\n",
    "                ('B08303_001E', 'Tot time'),\n",
    "                ('B08303_008E', 't30-34'),\n",
    "                ('B08303_009E', 't35-39'),\n",
    "                ('B08303_010E', 't40-44'),\n",
    "                ('B08303_011E', 't45-59'),\n",
    "                ('B08303_012E', 't60-89'),\n",
    "                ('B08303_013E', 't90')]\n",
    "\n",
    "\n",
    "for i, (varname, label) in enumerate(download_data):\n",
    "    downloaded = get_data_census(varname, label)\n",
    "    if i == 0:\n",
    "        census_data = downloaded\n",
    "    else:\n",
    "        census_data = census_data.merge(downloaded, on='GEOID', how='outer')\n",
    "\n",
    "data_with_census = data_with_blockid.merge(census_data, on='GEOID')    "
   ]
  },
  {
   "cell_type": "code",
   "execution_count": 94,
   "metadata": {
    "collapsed": false
   },
   "outputs": [
    {
     "name": "stdout",
     "output_type": "stream",
     "text": [
      "              0\n",
      "0  170314207004\n",
      "1  170316713001\n",
      "2  170314701001\n",
      "3  170316711001\n",
      "4  170314909022\n",
      "   Percent of White Median Household Income      Time\n",
      "0          0.044384                   21940  0.730994\n",
      "1          0.000000                   31000  0.529412\n",
      "2          0.007021                   29872  0.513595\n",
      "3          0.002761                   25625  0.497817\n",
      "4          0.000946                   35404  0.572308\n",
      "              0\n",
      "0  170315703004\n",
      "1  170315703003\n",
      "2  170311606023\n",
      "3  170311606021\n",
      "4  170315702001\n",
      "   Percent of White Median Household Income      Time\n",
      "0          0.700794                   39211  0.354749\n",
      "1          0.738433                   54561  0.363330\n",
      "2          0.715989                   41607  0.235079\n",
      "3          0.540487                   37222  0.444934\n",
      "4          0.489763                   52847  0.355000\n"
     ]
    }
   ],
   "source": [
    "n_per_type_block = data_with_blockid[['GEOID', 'Complaint Type', 'service_request_number']].groupby(['GEOID', 'Complaint Type'], as_index=False).count()\n",
    "n_per_type_block = n_per_type_block.pivot(index='GEOID', columns='Complaint Type', values='service_request_number')\n",
    "\n",
    "def table_census_top5_blocks(ctype):\n",
    "    a = n_per_type_block.sort_values(ctype, ascending=False)\n",
    "    select = pd.DataFrame(list(a[:5].index))\n",
    "\n",
    "    select_data = census_data.merge(select, left_on='GEOID', right_on=0)\n",
    "\n",
    "    result = pd.DataFrame()\n",
    "    result['Percent of White'] = pd.to_numeric(select_data['White Population']) / pd.to_numeric(select_data['Total Population'])\n",
    "    result['Median Household Income'] = select_data['Median Household Income']\n",
    "    print(select)\n",
    "    result['Time'] = (pd.to_numeric(select_data['t40-44']) +\n",
    "                      pd.to_numeric(select_data['t45-59']) + \n",
    "                      pd.to_numeric(select_data['t60-89']) + \n",
    "                      pd.to_numeric(select_data['t90'])) / pd.to_numeric(select_data['Tot time'])\n",
    "    print(result)\n",
    "\n",
    "#table_census_top5_blocks('Graffiti Removal')\n",
    "table_census_top5_blocks('Vacant and Abandoned Buildings Reported')\n",
    "table_census_top5_blocks('Sanitation Code Complaints')\n",
    "\n"
   ]
  },
  {
   "cell_type": "markdown",
   "metadata": {
    "deletable": true,
    "editable": true
   },
   "source": [
    "### Problem 3"
   ]
  },
  {
   "cell_type": "code",
   "execution_count": null,
   "metadata": {
    "collapsed": false
   },
   "outputs": [],
   "source": [
    "import requests\n",
    "from geopy.geocoders import Nominatim\n",
    "import xml.etree.ElementTree as ET\n",
    "\n",
    "address = '\"7500 S. Wolcott Ave.'\n",
    "geolocator = Nominatim()\n",
    "location = geolocator.geocode(address)\n",
    "print(location.latitude, location.longitude)\n",
    "\n",
    "census_block_url = 'http://data.fcc.gov/api/block/2010/find?latitude={lat}&longitude={lon}&showall=true'.format(\n",
    "        lat=location.latitude, lon=location.longitude)\n",
    "\n",
    "response = requests.get(census_block_url)\n",
    "\n",
    "xml_data = response.content\n",
    "etree = ET.fromstring(xml_data)\n",
    "#print(etree)\n",
    "\n",
    "for neighbor in etree.iter():\n",
    "    if 'Block' in neighbor.tag:\n",
    "        block_id = neighbor.attrib['FIPS'][:12]\n",
    "\n",
    "data_with_blockid2[data_with_blockid2.GEOID == block_id][\"Complaint Type\"].value_counts()\n"
   ]
  },
  {
   "cell_type": "code",
   "execution_count": null,
   "metadata": {
    "collapsed": false
   },
   "outputs": [],
   "source": [
    "result = data_with_blockid2[['community', 'Complaint Type', 'service_request_number']].groupby(['community', 'Complaint Type'], as_index=False).count()\n",
    "select = result[result['Complaint Type'] == 'Graffiti Removal']\n",
    "select"
   ]
  },
  {
   "cell_type": "code",
   "execution_count": null,
   "metadata": {
    "collapsed": false
   },
   "outputs": [],
   "source": [
    "select[select.community.str.contains('LAWNDALE')]"
   ]
  },
  {
   "cell_type": "code",
   "execution_count": null,
   "metadata": {
    "collapsed": false
   },
   "outputs": [],
   "source": [
    "select[select.community.str.contains('UPTOWN')]"
   ]
  },
  {
   "cell_type": "code",
   "execution_count": null,
   "metadata": {
    "collapsed": false
   },
   "outputs": [],
   "source": [
    "print(1778 / 116981)"
   ]
  },
  {
   "cell_type": "code",
   "execution_count": null,
   "metadata": {
    "collapsed": false
   },
   "outputs": [],
   "source": [
    "len(blocks2.blockce10.value_counts())"
   ]
  },
  {
   "cell_type": "code",
   "execution_count": null,
   "metadata": {
    "collapsed": false
   },
   "outputs": [],
   "source": [
    "blocks2.columns"
   ]
  },
  {
   "cell_type": "code",
   "execution_count": null,
   "metadata": {
    "collapsed": false
   },
   "outputs": [],
   "source": [
    "blocks2.countyfp10.value_counts()"
   ]
  },
  {
   "cell_type": "code",
   "execution_count": null,
   "metadata": {
    "collapsed": true
   },
   "outputs": [],
   "source": []
  },
  {
   "cell_type": "code",
   "execution_count": null,
   "metadata": {
    "collapsed": true
   },
   "outputs": [],
   "source": [
    "#to make graphs\n",
    "%matplotlib inline\n",
    "import matplotlib\n",
    "blocks.plot();\n",
    "\n",
    "base = blocks2.plot(color='white')\n",
    "\n",
    "geo_sel.plot(ax=base, marker='o', color='red', markersize=5);"
   ]
  }
 ],
 "metadata": {
  "kernelspec": {
   "display_name": "Python 3",
   "language": "python",
   "name": "python3"
  },
  "language_info": {
   "codemirror_mode": {
    "name": "ipython",
    "version": 3
   },
   "file_extension": ".py",
   "mimetype": "text/x-python",
   "name": "python",
   "nbconvert_exporter": "python",
   "pygments_lexer": "ipython3",
   "version": "3.4.0"
  }
 },
 "nbformat": 4,
 "nbformat_minor": 0
}
