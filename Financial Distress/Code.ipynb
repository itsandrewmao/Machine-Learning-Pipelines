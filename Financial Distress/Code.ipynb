{
 "cells": [
  {
   "cell_type": "code",
   "execution_count": 98,
   "metadata": {
    "collapsed": false
   },
   "outputs": [],
   "source": [
    "# Necessary restart\n",
    "data = read('data/credit-data.csv')\n",
    "li = 1\n",
    "fi = [2,3,4,5,6,7,8,9,10,11,12]\n",
    "label = data.columns[li]\n",
    "features = list(data.columns[fi])\n",
    "convert_vartype(data, label, 'bool')\n",
    "convert_vartype(data, 'NumberOfDependents', 'int')\n",
    "fill_miss(data, 'MonthlyIncome', method='mean')\n",
    "fill_miss(data, 'NumberOfDependents', method='median')"
   ]
  },
  {
   "cell_type": "code",
   "execution_count": 99,
   "metadata": {
    "collapsed": false
   },
   "outputs": [
    {
     "name": "stdout",
     "output_type": "stream",
     "text": [
      "Warning, DebtRatio has negative or zero values\n"
     ]
    }
   ],
   "source": [
    "discretize(data, 'MonthlyIncome', 5, 'ufov')\n",
    "discretize(data, 'age', 5, 'uv')\n",
    "discretize(data, 'DebtRatio', 5, 'logspace')"
   ]
  },
  {
   "cell_type": "code",
   "execution_count": 100,
   "metadata": {
    "collapsed": true
   },
   "outputs": [],
   "source": [
    "def gen_dummies(df, varnames, drop=True):\n",
    "    '''\n",
    "    Given a dataframe and certain column, returns a set of dummies\n",
    "    '''\n",
    "    for var in varnames:\n",
    "        for i, value in enumerate(df[var].unique()):\n",
    "            print(i+1, type(value), value)\n",
    "            df[var + '_{}'.format(i+1)] = df[var] == value\n",
    "        \n",
    "        if drop:\n",
    "            df.drop(var, inplace=True, axis=1)"
   ]
  },
  {
   "cell_type": "code",
   "execution_count": 102,
   "metadata": {
    "collapsed": false,
    "scrolled": true
   },
   "outputs": [
    {
     "data": {
      "text/plain": [
       "PersonID                                  int64\n",
       "SeriousDlqin2yrs                           bool\n",
       "RevolvingUtilizationOfUnsecuredLines    float64\n",
       "age                                       int64\n",
       "zipcode                                   int64\n",
       "NumberOfTime30-59DaysPastDueNotWorse      int64\n",
       "DebtRatio                               float64\n",
       "MonthlyIncome                           float64\n",
       "NumberOfOpenCreditLinesAndLoans           int64\n",
       "NumberOfTimes90DaysLate                   int64\n",
       "NumberRealEstateLoansOrLines              int64\n",
       "NumberOfTime60-89DaysPastDueNotWorse      int64\n",
       "NumberOfDependents                      float64\n",
       "age_cat_1                                  bool\n",
       "age_cat_2                                  bool\n",
       "age_cat_3                                  bool\n",
       "age_cat_4                                  bool\n",
       "age_cat_5                                  bool\n",
       "DebtRatio_cat_1                            bool\n",
       "DebtRatio_cat_2                            bool\n",
       "DebtRatio_cat_3                            bool\n",
       "DebtRatio_cat_4                            bool\n",
       "DebtRatio_cat_5                            bool\n",
       "DebtRatio_cat_6                            bool\n",
       "MonthlyIncome_cat_1                        bool\n",
       "MonthlyIncome_cat_2                        bool\n",
       "MonthlyIncome_cat_3                        bool\n",
       "MonthlyIncome_cat_4                        bool\n",
       "MonthlyIncome_cat_5                        bool\n",
       "dtype: object"
      ]
     },
     "execution_count": 102,
     "metadata": {},
     "output_type": "execute_result"
    }
   ],
   "source": [
    "data.dtypes"
   ]
  },
  {
   "cell_type": "code",
   "execution_count": 101,
   "metadata": {
    "collapsed": false,
    "scrolled": true
   },
   "outputs": [
    {
     "name": "stdout",
     "output_type": "stream",
     "text": [
      "1 <class 'str'> (43.6, 65.4]\n",
      "2 <class 'str'> (21.8, 43.6]\n",
      "3 <class 'str'> (65.4, 87.2]\n",
      "4 <class 'str'> (87.2, 109]\n",
      "5 <class 'str'> (-0.109, 21.8]\n",
      "1 <class 'str'> (0.642, 51.386]\n",
      "2 <class 'str'> (0.00801, 0.642]\n",
      "3 <class 'str'> (4115.828, 3.3e+05]\n",
      "4 <class 'str'> (51.386, 4115.828]\n",
      "5 <class 'float'> nan\n",
      "6 <class 'str'> [0.0001, 0.00801]\n",
      "1 <class 'str'> (8250, 3008750]\n",
      "2 <class 'str'> [0, 3400]\n",
      "3 <class 'str'> (3400, 5400]\n",
      "4 <class 'str'> (5400, 6670.221]\n",
      "5 <class 'str'> (6670.221, 8250]\n"
     ]
    }
   ],
   "source": [
    "gen_dummies(data, [#'NumberOfDependents',\n",
    "                   'age_cat',\n",
    "                   'DebtRatio_cat',\n",
    "                   'MonthlyIncome_cat'], drop = True)"
   ]
  },
  {
   "cell_type": "markdown",
   "metadata": {},
   "source": [
    "### Initial Settings"
   ]
  },
  {
   "cell_type": "code",
   "execution_count": 1,
   "metadata": {
    "collapsed": false
   },
   "outputs": [
    {
     "name": "stderr",
     "output_type": "stream",
     "text": [
      "/home/student/.local/lib/python3.4/site-packages/sklearn/cross_validation.py:44: DeprecationWarning: This module was deprecated in version 0.18 in favor of the model_selection module into which all the refactored classes and functions are moved. Also note that the interface of the new CV iterators are different from that of this module. This module will be removed in 0.20.\n",
      "  \"This module will be removed in 0.20.\", DeprecationWarning)\n"
     ]
    }
   ],
   "source": [
    "import sys\n",
    "sys.path.append('./MachineLearning ToolBox')\n",
    "\n",
    "from Pipeline1_read import read\n",
    "from Pipeline2_explore import explore_varname, gen_vdict, diff_in_mean, x_dist, comparison_all_values\n",
    "from Pipeline3_preprocess import check_miss, fill_miss, convert_vartype\n",
    "from Pipeline4_features import display_importance, discretize, gen_dummies\n",
    "from Pipeline5_classifier import classify\n",
    "from Pipeline6_evaluate import evaluate, plot_roc\n",
    "\n",
    "%matplotlib inline"
   ]
  },
  {
   "cell_type": "markdown",
   "metadata": {},
   "source": [
    "## Step 1. Read/Load Data"
   ]
  },
  {
   "cell_type": "code",
   "execution_count": 27,
   "metadata": {
    "collapsed": false
   },
   "outputs": [],
   "source": [
    "# Read Data into Pandas object\n",
    "data = read('data/credit-data.csv')"
   ]
  },
  {
   "cell_type": "markdown",
   "metadata": {},
   "source": [
    "## Step 2. Explore Data"
   ]
  },
  {
   "cell_type": "code",
   "execution_count": 3,
   "metadata": {
    "collapsed": false,
    "scrolled": true
   },
   "outputs": [
    {
     "data": {
      "text/plain": [
       "PersonID                                  int64\n",
       "SeriousDlqin2yrs                          int64\n",
       "RevolvingUtilizationOfUnsecuredLines    float64\n",
       "age                                       int64\n",
       "zipcode                                   int64\n",
       "NumberOfTime30-59DaysPastDueNotWorse      int64\n",
       "DebtRatio                               float64\n",
       "MonthlyIncome                           float64\n",
       "NumberOfOpenCreditLinesAndLoans           int64\n",
       "NumberOfTimes90DaysLate                   int64\n",
       "NumberRealEstateLoansOrLines              int64\n",
       "NumberOfTime60-89DaysPastDueNotWorse      int64\n",
       "NumberOfDependents                      float64\n",
       "dtype: object"
      ]
     },
     "execution_count": 3,
     "metadata": {},
     "output_type": "execute_result"
    }
   ],
   "source": [
    "# Peek at columns to understand potential features and labels\n",
    "data.dtypes"
   ]
  },
  {
   "cell_type": "code",
   "execution_count": 4,
   "metadata": {
    "collapsed": false
   },
   "outputs": [],
   "source": [
    "# Our dependent variable (label) is 'SeriousDlqin2yrs'\n",
    "# Our independent variables (features) are all column names other \n",
    "# than 'PersonID' and the label\n",
    "\n",
    "li = 1\n",
    "fi = [2,3,4,5,6,7,8,9,10,11,12]\n",
    "label = data.columns[li]\n",
    "features = list(data.columns[fi])"
   ]
  },
  {
   "cell_type": "code",
   "execution_count": 118,
   "metadata": {
    "collapsed": false
   },
   "outputs": [
    {
     "data": {
      "text/plain": [
       "count   150,000\n",
       "mean          0\n",
       "std           0\n",
       "min           0\n",
       "25%           0\n",
       "50%           0\n",
       "75%           0\n",
       "max           1\n",
       "Name: SeriousDlqin2yrs, dtype: float64"
      ]
     },
     "execution_count": 118,
     "metadata": {},
     "output_type": "execute_result"
    }
   ],
   "source": [
    "data[label].describe()"
   ]
  },
  {
   "cell_type": "code",
   "execution_count": 119,
   "metadata": {
    "collapsed": false
   },
   "outputs": [
    {
     "data": {
      "text/html": [
       "<div>\n",
       "<table border=\"1\" class=\"dataframe\">\n",
       "  <thead>\n",
       "    <tr style=\"text-align: right;\">\n",
       "      <th></th>\n",
       "      <th>RevolvingUtilizationOfUnsecuredLines</th>\n",
       "      <th>age</th>\n",
       "      <th>zipcode</th>\n",
       "      <th>NumberOfTime30-59DaysPastDueNotWorse</th>\n",
       "      <th>DebtRatio</th>\n",
       "      <th>MonthlyIncome</th>\n",
       "      <th>NumberOfOpenCreditLinesAndLoans</th>\n",
       "      <th>NumberOfTimes90DaysLate</th>\n",
       "      <th>NumberRealEstateLoansOrLines</th>\n",
       "      <th>NumberOfTime60-89DaysPastDueNotWorse</th>\n",
       "      <th>NumberOfDependents</th>\n",
       "    </tr>\n",
       "  </thead>\n",
       "  <tbody>\n",
       "    <tr>\n",
       "      <th>count</th>\n",
       "      <td>150,000</td>\n",
       "      <td>150,000</td>\n",
       "      <td>150,000</td>\n",
       "      <td>150,000</td>\n",
       "      <td>150,000</td>\n",
       "      <td>120,269</td>\n",
       "      <td>150,000</td>\n",
       "      <td>150,000</td>\n",
       "      <td>150,000</td>\n",
       "      <td>150,000</td>\n",
       "      <td>146,076</td>\n",
       "    </tr>\n",
       "    <tr>\n",
       "      <th>mean</th>\n",
       "      <td>6</td>\n",
       "      <td>52</td>\n",
       "      <td>60,649</td>\n",
       "      <td>0</td>\n",
       "      <td>353</td>\n",
       "      <td>6,670</td>\n",
       "      <td>8</td>\n",
       "      <td>0</td>\n",
       "      <td>1</td>\n",
       "      <td>0</td>\n",
       "      <td>1</td>\n",
       "    </tr>\n",
       "    <tr>\n",
       "      <th>std</th>\n",
       "      <td>250</td>\n",
       "      <td>15</td>\n",
       "      <td>57</td>\n",
       "      <td>4</td>\n",
       "      <td>2,038</td>\n",
       "      <td>14,385</td>\n",
       "      <td>5</td>\n",
       "      <td>4</td>\n",
       "      <td>1</td>\n",
       "      <td>4</td>\n",
       "      <td>1</td>\n",
       "    </tr>\n",
       "    <tr>\n",
       "      <th>min</th>\n",
       "      <td>0</td>\n",
       "      <td>0</td>\n",
       "      <td>60,601</td>\n",
       "      <td>0</td>\n",
       "      <td>0</td>\n",
       "      <td>0</td>\n",
       "      <td>0</td>\n",
       "      <td>0</td>\n",
       "      <td>0</td>\n",
       "      <td>0</td>\n",
       "      <td>0</td>\n",
       "    </tr>\n",
       "    <tr>\n",
       "      <th>25%</th>\n",
       "      <td>0</td>\n",
       "      <td>41</td>\n",
       "      <td>60,625</td>\n",
       "      <td>0</td>\n",
       "      <td>0</td>\n",
       "      <td>3,400</td>\n",
       "      <td>5</td>\n",
       "      <td>0</td>\n",
       "      <td>0</td>\n",
       "      <td>0</td>\n",
       "      <td>0</td>\n",
       "    </tr>\n",
       "    <tr>\n",
       "      <th>50%</th>\n",
       "      <td>0</td>\n",
       "      <td>52</td>\n",
       "      <td>60,629</td>\n",
       "      <td>0</td>\n",
       "      <td>0</td>\n",
       "      <td>5,400</td>\n",
       "      <td>8</td>\n",
       "      <td>0</td>\n",
       "      <td>1</td>\n",
       "      <td>0</td>\n",
       "      <td>0</td>\n",
       "    </tr>\n",
       "    <tr>\n",
       "      <th>75%</th>\n",
       "      <td>1</td>\n",
       "      <td>63</td>\n",
       "      <td>60,644</td>\n",
       "      <td>0</td>\n",
       "      <td>1</td>\n",
       "      <td>8,249</td>\n",
       "      <td>11</td>\n",
       "      <td>0</td>\n",
       "      <td>2</td>\n",
       "      <td>0</td>\n",
       "      <td>1</td>\n",
       "    </tr>\n",
       "    <tr>\n",
       "      <th>max</th>\n",
       "      <td>50,708</td>\n",
       "      <td>109</td>\n",
       "      <td>60,804</td>\n",
       "      <td>98</td>\n",
       "      <td>329,664</td>\n",
       "      <td>3,008,750</td>\n",
       "      <td>58</td>\n",
       "      <td>98</td>\n",
       "      <td>54</td>\n",
       "      <td>98</td>\n",
       "      <td>20</td>\n",
       "    </tr>\n",
       "  </tbody>\n",
       "</table>\n",
       "</div>"
      ],
      "text/plain": [
       "       RevolvingUtilizationOfUnsecuredLines     age  zipcode  \\\n",
       "count                               150,000 150,000  150,000   \n",
       "mean                                      6      52   60,649   \n",
       "std                                     250      15       57   \n",
       "min                                       0       0   60,601   \n",
       "25%                                       0      41   60,625   \n",
       "50%                                       0      52   60,629   \n",
       "75%                                       1      63   60,644   \n",
       "max                                  50,708     109   60,804   \n",
       "\n",
       "       NumberOfTime30-59DaysPastDueNotWorse  DebtRatio  MonthlyIncome  \\\n",
       "count                               150,000    150,000        120,269   \n",
       "mean                                      0        353          6,670   \n",
       "std                                       4      2,038         14,385   \n",
       "min                                       0          0              0   \n",
       "25%                                       0          0          3,400   \n",
       "50%                                       0          0          5,400   \n",
       "75%                                       0          1          8,249   \n",
       "max                                      98    329,664      3,008,750   \n",
       "\n",
       "       NumberOfOpenCreditLinesAndLoans  NumberOfTimes90DaysLate  \\\n",
       "count                          150,000                  150,000   \n",
       "mean                                 8                        0   \n",
       "std                                  5                        4   \n",
       "min                                  0                        0   \n",
       "25%                                  5                        0   \n",
       "50%                                  8                        0   \n",
       "75%                                 11                        0   \n",
       "max                                 58                       98   \n",
       "\n",
       "       NumberRealEstateLoansOrLines  NumberOfTime60-89DaysPastDueNotWorse  \\\n",
       "count                       150,000                               150,000   \n",
       "mean                              1                                     0   \n",
       "std                               1                                     4   \n",
       "min                               0                                     0   \n",
       "25%                               0                                     0   \n",
       "50%                               1                                     0   \n",
       "75%                               2                                     0   \n",
       "max                              54                                    98   \n",
       "\n",
       "       NumberOfDependents  \n",
       "count             146,076  \n",
       "mean                    1  \n",
       "std                     1  \n",
       "min                     0  \n",
       "25%                     0  \n",
       "50%                     0  \n",
       "75%                     1  \n",
       "max                    20  "
      ]
     },
     "execution_count": 119,
     "metadata": {},
     "output_type": "execute_result"
    }
   ],
   "source": [
    "data[features].describe()"
   ]
  },
  {
   "cell_type": "code",
   "execution_count": 6,
   "metadata": {
    "collapsed": false,
    "scrolled": true
   },
   "outputs": [
    {
     "data": {
      "image/png": "[encoded data removed]",
      "text/plain": [
       "<matplotlib.figure.Figure at 0x7f1d7b4a66a0>"
      ]
     },
     "metadata": {},
     "output_type": "display_data"
    },
    {
     "data": {
      "image/png": "[encoded data removed]",
      "text/plain": [
       "<matplotlib.figure.Figure at 0x7f1d7b4a6668>"
      ]
     },
     "metadata": {},
     "output_type": "display_data"
    },
    {
     "data": {
      "image/png": "[encoded data removed]",
      "text/plain": [
       "<matplotlib.figure.Figure at 0x7f1d7b4a68d0>"
      ]
     },
     "metadata": {},
     "output_type": "display_data"
    },
    {
     "data": {
      "image/png": "[encoded data removed]",
      "text/plain": [
       "<matplotlib.figure.Figure at 0x7f1d7b432f60>"
      ]
     },
     "metadata": {},
     "output_type": "display_data"
    },
    {
     "data": {
      "image/png": "[encoded data removed]",
      "text/plain": [
       "<matplotlib.figure.Figure at 0x7f1d7b3833c8>"
      ]
     },
     "metadata": {},
     "output_type": "display_data"
    },
    {
     "data": {
      "image/png": "[encoded data removed]",
      "text/plain": [
       "<matplotlib.figure.Figure at 0x7f1d7b3832b0>"
      ]
     },
     "metadata": {},
     "output_type": "display_data"
    },
    {
     "data": {
      "image/png": "[encoded data removed]",
      "text/plain": [
       "<matplotlib.figure.Figure at 0x7f1d7b323828>"
      ]
     },
     "metadata": {},
     "output_type": "display_data"
    }
   ],
   "source": [
    "for varname in ['age',\n",
    "                'NumberOfTime30-59DaysPastDueNotWorse',\n",
    "                'NumberOfOpenCreditLinesAndLoans',\n",
    "                'NumberOfTimes90DaysLate',\n",
    "                'NumberRealEstateLoansOrLines',\n",
    "                'NumberOfTime60-89DaysPastDueNotWorse',\n",
    "                'NumberOfDependents']:\n",
    "    explore_varname(data,varname,label,'line')[\"graph\"]"
   ]
  },
  {
   "cell_type": "code",
   "execution_count": 56,
   "metadata": {
    "collapsed": false
   },
   "outputs": [
    {
     "data": {
      "text/plain": [
       "['PersonID',\n",
       " 'SeriousDlqin2yrs',\n",
       " 'RevolvingUtilizationOfUnsecuredLines',\n",
       " 'age',\n",
       " 'zipcode',\n",
       " 'NumberOfTime30-59DaysPastDueNotWorse',\n",
       " 'DebtRatio',\n",
       " 'MonthlyIncome',\n",
       " 'NumberOfOpenCreditLinesAndLoans',\n",
       " 'NumberOfTimes90DaysLate',\n",
       " 'NumberRealEstateLoansOrLines',\n",
       " 'NumberOfTime60-89DaysPastDueNotWorse',\n",
       " 'NumberOfDependents']"
      ]
     },
     "execution_count": 56,
     "metadata": {},
     "output_type": "execute_result"
    }
   ],
   "source": [
    "list(data.columns)"
   ]
  },
  {
   "cell_type": "code",
   "execution_count": null,
   "metadata": {
    "collapsed": false,
    "scrolled": true
   },
   "outputs": [],
   "source": [
    "for varname in ['RevolvingUtilizationOfUnsecuredLines']:\n",
    "    explore_varname(data,varname,label,'hist')[\"graph\"]"
   ]
  },
  {
   "cell_type": "code",
   "execution_count": 9,
   "metadata": {
    "collapsed": false,
    "scrolled": true
   },
   "outputs": [
    {
     "ename": "NameError",
     "evalue": "name 'df' is not defined",
     "output_type": "error",
     "traceback": [
      "\u001b[1;31m---------------------------------------------------------------------------\u001b[0m",
      "\u001b[1;31mNameError\u001b[0m                                 Traceback (most recent call last)",
      "\u001b[1;32m<ipython-input-9-6904c4641ac3>\u001b[0m in \u001b[0;36m<module>\u001b[1;34m()\u001b[0m\n\u001b[1;32m----> 1\u001b[1;33m \u001b[0mcomparison_all_values\u001b[0m\u001b[1;33m(\u001b[0m\u001b[0mdf\u001b[0m\u001b[1;33m,\u001b[0m \u001b[1;33m[\u001b[0m\u001b[1;36m2\u001b[0m\u001b[1;33m,\u001b[0m\u001b[1;36m7\u001b[0m\u001b[1;33m,\u001b[0m\u001b[1;36m9\u001b[0m\u001b[1;33m,\u001b[0m\u001b[1;36m11\u001b[0m\u001b[1;33m,\u001b[0m\u001b[1;36m4\u001b[0m\u001b[1;33m,\u001b[0m\u001b[1;36m10\u001b[0m\u001b[1;33m,\u001b[0m\u001b[1;36m8\u001b[0m\u001b[1;33m]\u001b[0m\u001b[1;33m,\u001b[0m\u001b[0md\u001b[0m\u001b[1;33m)\u001b[0m\u001b[1;33m\u001b[0m\u001b[0m\n\u001b[0m",
      "\u001b[1;31mNameError\u001b[0m: name 'df' is not defined"
     ]
    }
   ],
   "source": [
    "comparison_all_values(data, [2,7,9,11,4,10,8],d)"
   ]
  },
  {
   "cell_type": "code",
   "execution_count": null,
   "metadata": {
    "collapsed": true
   },
   "outputs": [],
   "source": []
  },
  {
   "cell_type": "code",
   "execution_count": null,
   "metadata": {
    "collapsed": true
   },
   "outputs": [],
   "source": [
    "x_dist(df, [1,2,5,6,7,9,11],d)"
   ]
  },
  {
   "cell_type": "code",
   "execution_count": null,
   "metadata": {
    "collapsed": true
   },
   "outputs": [],
   "source": [
    "diff_in_mean(df, [2,6,11], d)\n",
    "diff_in_mean(df, [4,10,8], d)\n",
    "diff_in_mean(df, [1,5,7,9], d)"
   ]
  },
  {
   "cell_type": "code",
   "execution_count": 31,
   "metadata": {
    "collapsed": false
   },
   "outputs": [
    {
     "name": "stdout",
     "output_type": "stream",
     "text": [
      "count    150000.000000\n",
      "mean        353.005076\n",
      "std        2037.818523\n",
      "min           0.000000\n",
      "25%           0.175074\n",
      "50%           0.366508\n",
      "75%           0.868254\n",
      "max      329664.000000\n",
      "Name: DebtRatio, dtype: float64\n",
      "\n",
      "Unique values: 114194\n",
      "\n",
      "Missing values: 0\n"
     ]
    }
   ],
   "source": [
    "describe_column(data, 'DebtRatio')"
   ]
  },
  {
   "cell_type": "code",
   "execution_count": 32,
   "metadata": {
    "collapsed": false
   },
   "outputs": [
    {
     "data": {
      "text/html": [
       "<div>\n",
       "<table border=\"1\" class=\"dataframe\">\n",
       "  <thead>\n",
       "    <tr style=\"text-align: right;\">\n",
       "      <th></th>\n",
       "      <th>NumberOfDependents</th>\n",
       "      <th>Percent</th>\n",
       "    </tr>\n",
       "  </thead>\n",
       "  <tbody>\n",
       "    <tr>\n",
       "      <th>0.0</th>\n",
       "      <td>86902</td>\n",
       "      <td>0.594909</td>\n",
       "    </tr>\n",
       "    <tr>\n",
       "      <th>1.0</th>\n",
       "      <td>26316</td>\n",
       "      <td>0.180153</td>\n",
       "    </tr>\n",
       "    <tr>\n",
       "      <th>2.0</th>\n",
       "      <td>19522</td>\n",
       "      <td>0.133643</td>\n",
       "    </tr>\n",
       "    <tr>\n",
       "      <th>3.0</th>\n",
       "      <td>9483</td>\n",
       "      <td>0.064918</td>\n",
       "    </tr>\n",
       "    <tr>\n",
       "      <th>4.0</th>\n",
       "      <td>2862</td>\n",
       "      <td>0.019593</td>\n",
       "    </tr>\n",
       "    <tr>\n",
       "      <th>5.0</th>\n",
       "      <td>746</td>\n",
       "      <td>0.005107</td>\n",
       "    </tr>\n",
       "    <tr>\n",
       "      <th>6.0</th>\n",
       "      <td>158</td>\n",
       "      <td>0.001082</td>\n",
       "    </tr>\n",
       "    <tr>\n",
       "      <th>7.0</th>\n",
       "      <td>51</td>\n",
       "      <td>0.000349</td>\n",
       "    </tr>\n",
       "    <tr>\n",
       "      <th>8.0</th>\n",
       "      <td>24</td>\n",
       "      <td>0.000164</td>\n",
       "    </tr>\n",
       "    <tr>\n",
       "      <th>9.0</th>\n",
       "      <td>5</td>\n",
       "      <td>0.000034</td>\n",
       "    </tr>\n",
       "    <tr>\n",
       "      <th>10.0</th>\n",
       "      <td>5</td>\n",
       "      <td>0.000034</td>\n",
       "    </tr>\n",
       "    <tr>\n",
       "      <th>13.0</th>\n",
       "      <td>1</td>\n",
       "      <td>0.000007</td>\n",
       "    </tr>\n",
       "    <tr>\n",
       "      <th>20.0</th>\n",
       "      <td>1</td>\n",
       "      <td>0.000007</td>\n",
       "    </tr>\n",
       "  </tbody>\n",
       "</table>\n",
       "</div>"
      ],
      "text/plain": [
       "      NumberOfDependents   Percent\n",
       "0.0                86902  0.594909\n",
       "1.0                26316  0.180153\n",
       "2.0                19522  0.133643\n",
       "3.0                 9483  0.064918\n",
       "4.0                 2862  0.019593\n",
       "5.0                  746  0.005107\n",
       "6.0                  158  0.001082\n",
       "7.0                   51  0.000349\n",
       "8.0                   24  0.000164\n",
       "9.0                    5  0.000034\n",
       "10.0                   5  0.000034\n",
       "13.0                   1  0.000007\n",
       "20.0                   1  0.000007"
      ]
     },
     "execution_count": 32,
     "metadata": {},
     "output_type": "execute_result"
    }
   ],
   "source": [
    "tab_table = tabular(data, 'NumberOfDependents')\n",
    "tab_table"
   ]
  },
  {
   "cell_type": "code",
   "execution_count": 33,
   "metadata": {
    "collapsed": false
   },
   "outputs": [
    {
     "data": {
      "text/plain": [
       "<matplotlib.axes.AxesSubplot at 0x7f3f0881d080>"
      ]
     },
     "execution_count": 33,
     "metadata": {},
     "output_type": "execute_result"
    },
    {
     "data": {
      "image/png": "[encoded data removed]",
      "text/plain": [
       "<matplotlib.figure.Figure at 0x7f3f087ffb00>"
      ]
     },
     "metadata": {},
     "output_type": "display_data"
    }
   ],
   "source": [
    "data['age'].hist()"
   ]
  },
  {
   "cell_type": "code",
   "execution_count": 34,
   "metadata": {
    "collapsed": false
   },
   "outputs": [
    {
     "data": {
      "text/plain": [
       "<matplotlib.axes.AxesSubplot at 0x7f3f080c6400>"
      ]
     },
     "execution_count": 34,
     "metadata": {},
     "output_type": "execute_result"
    },
    {
     "data": {
      "image/png": "[encoded data removed]",
      "text/plain": [
       "<matplotlib.figure.Figure at 0x7f3f38ca3f28>"
      ]
     },
     "metadata": {},
     "output_type": "display_data"
    }
   ],
   "source": [
    "data['DebtRatio'].hist()"
   ]
  },
  {
   "cell_type": "markdown",
   "metadata": {},
   "source": [
    "## Step 3. Pre-process data"
   ]
  },
  {
   "cell_type": "code",
   "execution_count": 28,
   "metadata": {
    "collapsed": false,
    "scrolled": true
   },
   "outputs": [],
   "source": [
    "# Fix variable types\n",
    "convert_vartype(data, label, 'bool')\n",
    "convert_vartype(data, 'NumberOfDependents', 'int')"
   ]
  },
  {
   "cell_type": "code",
   "execution_count": 29,
   "metadata": {
    "collapsed": false,
    "scrolled": true
   },
   "outputs": [
    {
     "name": "stdout",
     "output_type": "stream",
     "text": [
      "MonthlyIncome has missing values!\n",
      "NumberOfDependents has missing values!\n"
     ]
    }
   ],
   "source": [
    "# Check for missing values\n",
    "check_miss(data)"
   ]
  },
  {
   "cell_type": "code",
   "execution_count": 30,
   "metadata": {
    "collapsed": true
   },
   "outputs": [],
   "source": [
    "# Fill missing values\n",
    "fill_miss(data, 'MonthlyIncome', method='mean')\n",
    "fill_miss(data, 'NumberOfDependents', method='median')"
   ]
  },
  {
   "cell_type": "code",
   "execution_count": 31,
   "metadata": {
    "collapsed": false,
    "scrolled": true
   },
   "outputs": [
    {
     "name": "stdout",
     "output_type": "stream",
     "text": [
      "No missing values!\n"
     ]
    }
   ],
   "source": [
    "# Check for missing values\n",
    "check_miss(data)"
   ]
  },
  {
   "cell_type": "markdown",
   "metadata": {},
   "source": [
    "## Step 4. Create Features"
   ]
  },
  {
   "cell_type": "code",
   "execution_count": 15,
   "metadata": {
    "collapsed": false
   },
   "outputs": [
    {
     "data": {
      "text/plain": [
       "dtype('int64')"
      ]
     },
     "execution_count": 15,
     "metadata": {},
     "output_type": "execute_result"
    }
   ],
   "source": [
    "data['age'].dtype"
   ]
  },
  {
   "cell_type": "code",
   "execution_count": 14,
   "metadata": {
    "collapsed": false
   },
   "outputs": [
    {
     "data": {
      "text/plain": [
       "dtype('float64')"
      ]
     },
     "execution_count": 14,
     "metadata": {},
     "output_type": "execute_result"
    }
   ],
   "source": [
    "data['MonthlyIncome'].dtype"
   ]
  },
  {
   "cell_type": "code",
   "execution_count": 9,
   "metadata": {
    "collapsed": false
   },
   "outputs": [
    {
     "data": {
      "image/png": "[encoded data removed]",
      "text/plain": [
       "<matplotlib.figure.Figure at 0x7f755b7eb5c0>"
      ]
     },
     "metadata": {},
     "output_type": "display_data"
    }
   ],
   "source": [
    "display_importance(data, label, features)"
   ]
  },
  {
   "cell_type": "code",
   "execution_count": 60,
   "metadata": {
    "collapsed": true
   },
   "outputs": [],
   "source": [
    "def discretize(df, varname, nbins, method='ufov'):\n",
    "    '''\n",
    "    Discretizes given \"varname\" into \"nbins\".\n",
    "\n",
    "    Inputs:\n",
    "            - df: name of pandas DataFrame\n",
    "            - varname: name of variable to be discretized\n",
    "            - nbins: number of categories to create\n",
    "            - method: can be 'quantile', 'uniform', 'linspace' or 'logspace'\n",
    "\n",
    "    Returns: nothing. Modifies \"df\" in place\n",
    "    '''\n",
    "    \n",
    "    assert varname in df.columns, \"Column '{}' not in DataFrame\".format(varname)\n",
    "    assert len(df[varname].value_counts()) > nbins, \"Number of bins too large\"\n",
    "\n",
    "    if method == 'ufov': # Uniform frequency of values\n",
    "        df[varname + '_cat'] = pd.qcut(df[varname], nbins)\n",
    "    elif method == 'uv': # Uniform values\n",
    "        df[varname+'_cat'] = pd.cut(df[varname], nbins)\n",
    "    elif method == 'linspace':\n",
    "        minval = min(df[varname])\n",
    "        maxval = max(df[varname])\n",
    "        bins = np.linspace(minval, maxval, nbins+1)\n",
    "        df[varname+'_cat'] = pd.cut(df[varname], bins, include_lowest=True)\n",
    "    elif method == 'logspace':\n",
    "        minval = min(df[varname])\n",
    "        maxval = max(df[varname])\n",
    "        assert maxval > 0, 'Column {} has only neg or zero numbers'.format(varname)\n",
    "        if minval <= 0:\n",
    "            print('Warning, {} has negative or zero values'.format(varname))\n",
    "            minval = 0.0001\n",
    "        bins = np.logspace(np.log10(minval), np.log10(maxval), num = nbins + 1)\n",
    "        df[varname + '_cat'] = pd.cut(df[varname], bins, include_lowest = True)\n",
    "    else:\n",
    "        raise ValueError(\"{} not currently avaliable. Try one of the following: 'ufov','uv','linspace','logspace'.\".format(method))"
   ]
  },
  {
   "cell_type": "code",
   "execution_count": 38,
   "metadata": {
    "collapsed": false,
    "scrolled": true
   },
   "outputs": [
    {
     "name": "stdout",
     "output_type": "stream",
     "text": [
      "Warning, DebtRatio has negative or zero values\n"
     ]
    }
   ],
   "source": [
    "discretize(data, 'MonthlyIncome', 5, 'ufov')\n",
    "discretize(data, 'age', 5, 'uv')\n",
    "discretize(data, 'DebtRatio', 5, 'logspace')"
   ]
  },
  {
   "cell_type": "code",
   "execution_count": 78,
   "metadata": {
    "collapsed": false
   },
   "outputs": [
    {
     "data": {
      "text/plain": [
       "PersonID                                  int64\n",
       "SeriousDlqin2yrs                           bool\n",
       "RevolvingUtilizationOfUnsecuredLines    float64\n",
       "age                                       int64\n",
       "zipcode                                   int64\n",
       "NumberOfTime30-59DaysPastDueNotWorse      int64\n",
       "DebtRatio                               float64\n",
       "MonthlyIncome                           float64\n",
       "NumberOfOpenCreditLinesAndLoans           int64\n",
       "NumberOfTimes90DaysLate                   int64\n",
       "NumberRealEstateLoansOrLines              int64\n",
       "NumberOfTime60-89DaysPastDueNotWorse      int64\n",
       "NumberOfDependents                      float64\n",
       "(43.6, 65.4]_0                             bool\n",
       "(21.8, 43.6]_1                             bool\n",
       "(65.4, 87.2]_2                             bool\n",
       "(87.2, 109]_3                              bool\n",
       "(-0.109, 21.8]_4                           bool\n",
       "(0.642, 51.386]_0                          bool\n",
       "(0.00801, 0.642]_1                         bool\n",
       "(4115.828, 3.3e+05]_2                      bool\n",
       "(51.386, 4115.828]_3                       bool\n",
       "dtype: object"
      ]
     },
     "execution_count": 78,
     "metadata": {},
     "output_type": "execute_result"
    }
   ],
   "source": [
    "data.dtypes"
   ]
  },
  {
   "cell_type": "code",
   "execution_count": null,
   "metadata": {
    "collapsed": true
   },
   "outputs": [],
   "source": [
    "## From Lab\n",
    "\n",
    "cat_cols = [  'teacher_prefix', 'primary_focus_area','poverty_level']\n",
    "cleaned_main_variables = binarize_categories(main_variables, cat_cols, drop=True)"
   ]
  },
  {
   "cell_type": "code",
   "execution_count": 75,
   "metadata": {
    "collapsed": false,
    "scrolled": true
   },
   "outputs": [
    {
     "name": "stdout",
     "output_type": "stream",
     "text": [
      "i: 0 \n",
      " x: (43.6, 65.4]\n",
      "i: 1 \n",
      " x: (21.8, 43.6]\n",
      "i: 2 \n",
      " x: (65.4, 87.2]\n",
      "i: 3 \n",
      " x: (87.2, 109]\n",
      "i: 4 \n",
      " x: (-0.109, 21.8]\n",
      "i: 0 \n",
      " x: (0.642, 51.386]\n",
      "i: 1 \n",
      " x: (0.00801, 0.642]\n",
      "i: 2 \n",
      " x: (4115.828, 3.3e+05]\n",
      "i: 3 \n",
      " x: (51.386, 4115.828]\n",
      "i: 4 \n",
      " x: nan\n",
      "i: 5 \n",
      " x: [0.0001, 0.00801]\n",
      "i: 0 \n",
      " x: (8250, 3008750]\n",
      "i: 1 \n",
      " x: [0, 3400]\n",
      "i: 2 \n",
      " x: (3400, 5400]\n",
      "i: 3 \n",
      " x: (5400, 6670.221]\n",
      "i: 4 \n",
      " x: (6670.221, 8250]\n"
     ]
    }
   ],
   "source": [
    "temp = gen_dummies(data, [#'NumberOfDependents',\n",
    "                   'age_cat',\n",
    "                   'DebtRatio_cat',\n",
    "                   'MonthlyIncome_cat'], drop = True)"
   ]
  },
  {
   "cell_type": "code",
   "execution_count": 77,
   "metadata": {
    "collapsed": false
   },
   "outputs": [
    {
     "ename": "KeyError",
     "evalue": "'age_cat'",
     "output_type": "error",
     "traceback": [
      "\u001b[1;31m---------------------------------------------------------------------------\u001b[0m",
      "\u001b[1;31mKeyError\u001b[0m                                  Traceback (most recent call last)",
      "\u001b[1;32m/home/student/.local/lib/python3.4/site-packages/pandas/indexes/base.py\u001b[0m in \u001b[0;36mget_loc\u001b[1;34m(self, key, method, tolerance)\u001b[0m\n\u001b[0;32m   2133\u001b[0m             \u001b[1;32mtry\u001b[0m\u001b[1;33m:\u001b[0m\u001b[1;33m\u001b[0m\u001b[0m\n\u001b[1;32m-> 2134\u001b[1;33m                 \u001b[1;32mreturn\u001b[0m \u001b[0mself\u001b[0m\u001b[1;33m.\u001b[0m\u001b[0m_engine\u001b[0m\u001b[1;33m.\u001b[0m\u001b[0mget_loc\u001b[0m\u001b[1;33m(\u001b[0m\u001b[0mkey\u001b[0m\u001b[1;33m)\u001b[0m\u001b[1;33m\u001b[0m\u001b[0m\n\u001b[0m\u001b[0;32m   2135\u001b[0m             \u001b[1;32mexcept\u001b[0m \u001b[0mKeyError\u001b[0m\u001b[1;33m:\u001b[0m\u001b[1;33m\u001b[0m\u001b[0m\n",
      "\u001b[1;32mpandas/index.pyx\u001b[0m in \u001b[0;36mpandas.index.IndexEngine.get_loc (pandas/index.c:4145)\u001b[1;34m()\u001b[0m\n",
      "\u001b[1;32mpandas/index.pyx\u001b[0m in \u001b[0;36mpandas.index.IndexEngine.get_loc (pandas/index.c:4009)\u001b[1;34m()\u001b[0m\n",
      "\u001b[1;32mpandas/src/hashtable_class_helper.pxi\u001b[0m in \u001b[0;36mpandas.hashtable.PyObjectHashTable.get_item (pandas/hashtable.c:13166)\u001b[1;34m()\u001b[0m\n",
      "\u001b[1;32mpandas/src/hashtable_class_helper.pxi\u001b[0m in \u001b[0;36mpandas.hashtable.PyObjectHashTable.get_item (pandas/hashtable.c:13120)\u001b[1;34m()\u001b[0m\n",
      "\u001b[1;31mKeyError\u001b[0m: 'age_cat'",
      "\nDuring handling of the above exception, another exception occurred:\n",
      "\u001b[1;31mKeyError\u001b[0m                                  Traceback (most recent call last)",
      "\u001b[1;32m<ipython-input-77-85d00213cb9f>\u001b[0m in \u001b[0;36m<module>\u001b[1;34m()\u001b[0m\n\u001b[1;32m----> 1\u001b[1;33m \u001b[0mtemp\u001b[0m\u001b[1;33m[\u001b[0m\u001b[1;34m'age_cat'\u001b[0m\u001b[1;33m]\u001b[0m\u001b[1;33m\u001b[0m\u001b[0m\n\u001b[0m",
      "\u001b[1;32m/home/student/.local/lib/python3.4/site-packages/pandas/core/frame.py\u001b[0m in \u001b[0;36m__getitem__\u001b[1;34m(self, key)\u001b[0m\n\u001b[0;32m   2057\u001b[0m             \u001b[1;32mreturn\u001b[0m \u001b[0mself\u001b[0m\u001b[1;33m.\u001b[0m\u001b[0m_getitem_multilevel\u001b[0m\u001b[1;33m(\u001b[0m\u001b[0mkey\u001b[0m\u001b[1;33m)\u001b[0m\u001b[1;33m\u001b[0m\u001b[0m\n\u001b[0;32m   2058\u001b[0m         \u001b[1;32melse\u001b[0m\u001b[1;33m:\u001b[0m\u001b[1;33m\u001b[0m\u001b[0m\n\u001b[1;32m-> 2059\u001b[1;33m             \u001b[1;32mreturn\u001b[0m \u001b[0mself\u001b[0m\u001b[1;33m.\u001b[0m\u001b[0m_getitem_column\u001b[0m\u001b[1;33m(\u001b[0m\u001b[0mkey\u001b[0m\u001b[1;33m)\u001b[0m\u001b[1;33m\u001b[0m\u001b[0m\n\u001b[0m\u001b[0;32m   2060\u001b[0m \u001b[1;33m\u001b[0m\u001b[0m\n\u001b[0;32m   2061\u001b[0m     \u001b[1;32mdef\u001b[0m \u001b[0m_getitem_column\u001b[0m\u001b[1;33m(\u001b[0m\u001b[0mself\u001b[0m\u001b[1;33m,\u001b[0m \u001b[0mkey\u001b[0m\u001b[1;33m)\u001b[0m\u001b[1;33m:\u001b[0m\u001b[1;33m\u001b[0m\u001b[0m\n",
      "\u001b[1;32m/home/student/.local/lib/python3.4/site-packages/pandas/core/frame.py\u001b[0m in \u001b[0;36m_getitem_column\u001b[1;34m(self, key)\u001b[0m\n\u001b[0;32m   2064\u001b[0m         \u001b[1;31m# get column\u001b[0m\u001b[1;33m\u001b[0m\u001b[1;33m\u001b[0m\u001b[0m\n\u001b[0;32m   2065\u001b[0m         \u001b[1;32mif\u001b[0m \u001b[0mself\u001b[0m\u001b[1;33m.\u001b[0m\u001b[0mcolumns\u001b[0m\u001b[1;33m.\u001b[0m\u001b[0mis_unique\u001b[0m\u001b[1;33m:\u001b[0m\u001b[1;33m\u001b[0m\u001b[0m\n\u001b[1;32m-> 2066\u001b[1;33m             \u001b[1;32mreturn\u001b[0m \u001b[0mself\u001b[0m\u001b[1;33m.\u001b[0m\u001b[0m_get_item_cache\u001b[0m\u001b[1;33m(\u001b[0m\u001b[0mkey\u001b[0m\u001b[1;33m)\u001b[0m\u001b[1;33m\u001b[0m\u001b[0m\n\u001b[0m\u001b[0;32m   2067\u001b[0m \u001b[1;33m\u001b[0m\u001b[0m\n\u001b[0;32m   2068\u001b[0m         \u001b[1;31m# duplicate columns & possible reduce dimensionality\u001b[0m\u001b[1;33m\u001b[0m\u001b[1;33m\u001b[0m\u001b[0m\n",
      "\u001b[1;32m/home/student/.local/lib/python3.4/site-packages/pandas/core/generic.py\u001b[0m in \u001b[0;36m_get_item_cache\u001b[1;34m(self, item)\u001b[0m\n\u001b[0;32m   1384\u001b[0m         \u001b[0mres\u001b[0m \u001b[1;33m=\u001b[0m \u001b[0mcache\u001b[0m\u001b[1;33m.\u001b[0m\u001b[0mget\u001b[0m\u001b[1;33m(\u001b[0m\u001b[0mitem\u001b[0m\u001b[1;33m)\u001b[0m\u001b[1;33m\u001b[0m\u001b[0m\n\u001b[0;32m   1385\u001b[0m         \u001b[1;32mif\u001b[0m \u001b[0mres\u001b[0m \u001b[1;32mis\u001b[0m \u001b[1;32mNone\u001b[0m\u001b[1;33m:\u001b[0m\u001b[1;33m\u001b[0m\u001b[0m\n\u001b[1;32m-> 1386\u001b[1;33m             \u001b[0mvalues\u001b[0m \u001b[1;33m=\u001b[0m \u001b[0mself\u001b[0m\u001b[1;33m.\u001b[0m\u001b[0m_data\u001b[0m\u001b[1;33m.\u001b[0m\u001b[0mget\u001b[0m\u001b[1;33m(\u001b[0m\u001b[0mitem\u001b[0m\u001b[1;33m)\u001b[0m\u001b[1;33m\u001b[0m\u001b[0m\n\u001b[0m\u001b[0;32m   1387\u001b[0m             \u001b[0mres\u001b[0m \u001b[1;33m=\u001b[0m \u001b[0mself\u001b[0m\u001b[1;33m.\u001b[0m\u001b[0m_box_item_values\u001b[0m\u001b[1;33m(\u001b[0m\u001b[0mitem\u001b[0m\u001b[1;33m,\u001b[0m \u001b[0mvalues\u001b[0m\u001b[1;33m)\u001b[0m\u001b[1;33m\u001b[0m\u001b[0m\n\u001b[0;32m   1388\u001b[0m             \u001b[0mcache\u001b[0m\u001b[1;33m[\u001b[0m\u001b[0mitem\u001b[0m\u001b[1;33m]\u001b[0m \u001b[1;33m=\u001b[0m \u001b[0mres\u001b[0m\u001b[1;33m\u001b[0m\u001b[0m\n",
      "\u001b[1;32m/home/student/.local/lib/python3.4/site-packages/pandas/core/internals.py\u001b[0m in \u001b[0;36mget\u001b[1;34m(self, item, fastpath)\u001b[0m\n\u001b[0;32m   3541\u001b[0m \u001b[1;33m\u001b[0m\u001b[0m\n\u001b[0;32m   3542\u001b[0m             \u001b[1;32mif\u001b[0m \u001b[1;32mnot\u001b[0m \u001b[0misnull\u001b[0m\u001b[1;33m(\u001b[0m\u001b[0mitem\u001b[0m\u001b[1;33m)\u001b[0m\u001b[1;33m:\u001b[0m\u001b[1;33m\u001b[0m\u001b[0m\n\u001b[1;32m-> 3543\u001b[1;33m                 \u001b[0mloc\u001b[0m \u001b[1;33m=\u001b[0m \u001b[0mself\u001b[0m\u001b[1;33m.\u001b[0m\u001b[0mitems\u001b[0m\u001b[1;33m.\u001b[0m\u001b[0mget_loc\u001b[0m\u001b[1;33m(\u001b[0m\u001b[0mitem\u001b[0m\u001b[1;33m)\u001b[0m\u001b[1;33m\u001b[0m\u001b[0m\n\u001b[0m\u001b[0;32m   3544\u001b[0m             \u001b[1;32melse\u001b[0m\u001b[1;33m:\u001b[0m\u001b[1;33m\u001b[0m\u001b[0m\n\u001b[0;32m   3545\u001b[0m                 \u001b[0mindexer\u001b[0m \u001b[1;33m=\u001b[0m \u001b[0mnp\u001b[0m\u001b[1;33m.\u001b[0m\u001b[0marange\u001b[0m\u001b[1;33m(\u001b[0m\u001b[0mlen\u001b[0m\u001b[1;33m(\u001b[0m\u001b[0mself\u001b[0m\u001b[1;33m.\u001b[0m\u001b[0mitems\u001b[0m\u001b[1;33m)\u001b[0m\u001b[1;33m)\u001b[0m\u001b[1;33m[\u001b[0m\u001b[0misnull\u001b[0m\u001b[1;33m(\u001b[0m\u001b[0mself\u001b[0m\u001b[1;33m.\u001b[0m\u001b[0mitems\u001b[0m\u001b[1;33m)\u001b[0m\u001b[1;33m]\u001b[0m\u001b[1;33m\u001b[0m\u001b[0m\n",
      "\u001b[1;32m/home/student/.local/lib/python3.4/site-packages/pandas/indexes/base.py\u001b[0m in \u001b[0;36mget_loc\u001b[1;34m(self, key, method, tolerance)\u001b[0m\n\u001b[0;32m   2134\u001b[0m                 \u001b[1;32mreturn\u001b[0m \u001b[0mself\u001b[0m\u001b[1;33m.\u001b[0m\u001b[0m_engine\u001b[0m\u001b[1;33m.\u001b[0m\u001b[0mget_loc\u001b[0m\u001b[1;33m(\u001b[0m\u001b[0mkey\u001b[0m\u001b[1;33m)\u001b[0m\u001b[1;33m\u001b[0m\u001b[0m\n\u001b[0;32m   2135\u001b[0m             \u001b[1;32mexcept\u001b[0m \u001b[0mKeyError\u001b[0m\u001b[1;33m:\u001b[0m\u001b[1;33m\u001b[0m\u001b[0m\n\u001b[1;32m-> 2136\u001b[1;33m                 \u001b[1;32mreturn\u001b[0m \u001b[0mself\u001b[0m\u001b[1;33m.\u001b[0m\u001b[0m_engine\u001b[0m\u001b[1;33m.\u001b[0m\u001b[0mget_loc\u001b[0m\u001b[1;33m(\u001b[0m\u001b[0mself\u001b[0m\u001b[1;33m.\u001b[0m\u001b[0m_maybe_cast_indexer\u001b[0m\u001b[1;33m(\u001b[0m\u001b[0mkey\u001b[0m\u001b[1;33m)\u001b[0m\u001b[1;33m)\u001b[0m\u001b[1;33m\u001b[0m\u001b[0m\n\u001b[0m\u001b[0;32m   2137\u001b[0m \u001b[1;33m\u001b[0m\u001b[0m\n\u001b[0;32m   2138\u001b[0m         \u001b[0mindexer\u001b[0m \u001b[1;33m=\u001b[0m \u001b[0mself\u001b[0m\u001b[1;33m.\u001b[0m\u001b[0mget_indexer\u001b[0m\u001b[1;33m(\u001b[0m\u001b[1;33m[\u001b[0m\u001b[0mkey\u001b[0m\u001b[1;33m]\u001b[0m\u001b[1;33m,\u001b[0m \u001b[0mmethod\u001b[0m\u001b[1;33m=\u001b[0m\u001b[0mmethod\u001b[0m\u001b[1;33m,\u001b[0m \u001b[0mtolerance\u001b[0m\u001b[1;33m=\u001b[0m\u001b[0mtolerance\u001b[0m\u001b[1;33m)\u001b[0m\u001b[1;33m\u001b[0m\u001b[0m\n",
      "\u001b[1;32mpandas/index.pyx\u001b[0m in \u001b[0;36mpandas.index.IndexEngine.get_loc (pandas/index.c:4145)\u001b[1;34m()\u001b[0m\n",
      "\u001b[1;32mpandas/index.pyx\u001b[0m in \u001b[0;36mpandas.index.IndexEngine.get_loc (pandas/index.c:4009)\u001b[1;34m()\u001b[0m\n",
      "\u001b[1;32mpandas/src/hashtable_class_helper.pxi\u001b[0m in \u001b[0;36mpandas.hashtable.PyObjectHashTable.get_item (pandas/hashtable.c:13166)\u001b[1;34m()\u001b[0m\n",
      "\u001b[1;32mpandas/src/hashtable_class_helper.pxi\u001b[0m in \u001b[0;36mpandas.hashtable.PyObjectHashTable.get_item (pandas/hashtable.c:13120)\u001b[1;34m()\u001b[0m\n",
      "\u001b[1;31mKeyError\u001b[0m: 'age_cat'"
     ]
    }
   ],
   "source": [
    "temp['age_cat']"
   ]
  },
  {
   "cell_type": "code",
   "execution_count": 74,
   "metadata": {
    "collapsed": false
   },
   "outputs": [],
   "source": [
    "def gen_dummies(df, varnames, drop=True):\n",
    "    '''\n",
    "    Given a dataframe and certain column, returns a set of dummies\n",
    "    '''\n",
    "    for v in varnames:\n",
    "        '''\n",
    "        dummies = pd.get_dummies(df[v], v)\n",
    "        df = pd.merge(df, \n",
    "                      dummies, \n",
    "                      left_index=True, \n",
    "                      right_index=True, \n",
    "                      how='inner')\n",
    "        '''\n",
    "        for i, x in enumerate(df[v].unique()):\n",
    "            print(\"i:\",i,'\\n','x:',x)\n",
    "            #df[x + '_{}'.format(i)] = df[v] == x\n",
    "        \n",
    "        \n",
    "    if drop:\n",
    "        df.drop(varnames, inplace=True, axis=1)\n",
    "    \n",
    "    return df"
   ]
  },
  {
   "cell_type": "code",
   "execution_count": 63,
   "metadata": {
    "collapsed": false,
    "scrolled": true
   },
   "outputs": [
    {
     "data": {
      "text/plain": [
       "PersonID                                   int64\n",
       "SeriousDlqin2yrs                            bool\n",
       "RevolvingUtilizationOfUnsecuredLines     float64\n",
       "age                                        int64\n",
       "zipcode                                    int64\n",
       "NumberOfTime30-59DaysPastDueNotWorse       int64\n",
       "DebtRatio                                float64\n",
       "MonthlyIncome                            float64\n",
       "NumberOfOpenCreditLinesAndLoans            int64\n",
       "NumberOfTimes90DaysLate                    int64\n",
       "NumberRealEstateLoansOrLines               int64\n",
       "NumberOfTime60-89DaysPastDueNotWorse       int64\n",
       "NumberOfDependents                       float64\n",
       "MonthlyIncome_cat                       category\n",
       "age_cat                                 category\n",
       "DebtRatio_cat                           category\n",
       "dtype: object"
      ]
     },
     "execution_count": 63,
     "metadata": {},
     "output_type": "execute_result"
    }
   ],
   "source": [
    "data.dtypes"
   ]
  },
  {
   "cell_type": "code",
   "execution_count": 64,
   "metadata": {
    "collapsed": false,
    "scrolled": true
   },
   "outputs": [
    {
     "data": {
      "text/plain": [
       "PersonID                                  int64\n",
       "SeriousDlqin2yrs                           bool\n",
       "RevolvingUtilizationOfUnsecuredLines    float64\n",
       "age                                       int64\n",
       "zipcode                                   int64\n",
       "NumberOfTime30-59DaysPastDueNotWorse      int64\n",
       "DebtRatio                               float64\n",
       "MonthlyIncome                           float64\n",
       "NumberOfOpenCreditLinesAndLoans           int64\n",
       "NumberOfTimes90DaysLate                   int64\n",
       "NumberRealEstateLoansOrLines              int64\n",
       "NumberOfTime60-89DaysPastDueNotWorse      int64\n",
       "NumberOfDependents                      float64\n",
       "age_cat_(-0.109, 21.8]                    uint8\n",
       "age_cat_(21.8, 43.6]                      uint8\n",
       "age_cat_(43.6, 65.4]                      uint8\n",
       "age_cat_(65.4, 87.2]                      uint8\n",
       "age_cat_(87.2, 109]                       uint8\n",
       "DebtRatio_cat_[0.0001, 0.00801]           uint8\n",
       "DebtRatio_cat_(0.00801, 0.642]            uint8\n",
       "DebtRatio_cat_(0.642, 51.386]             uint8\n",
       "DebtRatio_cat_(51.386, 4115.828]          uint8\n",
       "DebtRatio_cat_(4115.828, 3.3e+05]         uint8\n",
       "MonthlyIncome_cat_[0, 3400]               uint8\n",
       "MonthlyIncome_cat_(3400, 5400]            uint8\n",
       "MonthlyIncome_cat_(5400, 6670.221]        uint8\n",
       "MonthlyIncome_cat_(6670.221, 8250]        uint8\n",
       "MonthlyIncome_cat_(8250, 3008750]         uint8\n",
       "dtype: object"
      ]
     },
     "execution_count": 64,
     "metadata": {},
     "output_type": "execute_result"
    }
   ],
   "source": [
    "w.dtypes"
   ]
  },
  {
   "cell_type": "markdown",
   "metadata": {},
   "source": [
    "### Step 5. Classify"
   ]
  },
  {
   "cell_type": "code",
   "execution_count": 65,
   "metadata": {
    "collapsed": false
   },
   "outputs": [
    {
     "data": {
      "text/html": [
       "<div>\n",
       "<table border=\"1\" class=\"dataframe\">\n",
       "  <thead>\n",
       "    <tr style=\"text-align: right;\">\n",
       "      <th></th>\n",
       "      <th>PersonID</th>\n",
       "      <th>RevolvingUtilizationOfUnsecuredLines</th>\n",
       "      <th>age</th>\n",
       "      <th>zipcode</th>\n",
       "      <th>NumberOfTime30-59DaysPastDueNotWorse</th>\n",
       "      <th>DebtRatio</th>\n",
       "      <th>MonthlyIncome</th>\n",
       "      <th>NumberOfOpenCreditLinesAndLoans</th>\n",
       "      <th>NumberOfTimes90DaysLate</th>\n",
       "      <th>NumberRealEstateLoansOrLines</th>\n",
       "      <th>...</th>\n",
       "      <th>DebtRatio_cat_[0.0001, 0.00801]</th>\n",
       "      <th>DebtRatio_cat_(0.00801, 0.642]</th>\n",
       "      <th>DebtRatio_cat_(0.642, 51.386]</th>\n",
       "      <th>DebtRatio_cat_(51.386, 4115.828]</th>\n",
       "      <th>DebtRatio_cat_(4115.828, 3.3e+05]</th>\n",
       "      <th>MonthlyIncome_cat_[0, 3400]</th>\n",
       "      <th>MonthlyIncome_cat_(3400, 5400]</th>\n",
       "      <th>MonthlyIncome_cat_(5400, 6670.221]</th>\n",
       "      <th>MonthlyIncome_cat_(6670.221, 8250]</th>\n",
       "      <th>MonthlyIncome_cat_(8250, 3008750]</th>\n",
       "    </tr>\n",
       "  </thead>\n",
       "  <tbody>\n",
       "    <tr>\n",
       "      <th>count</th>\n",
       "      <td>150,000</td>\n",
       "      <td>150,000</td>\n",
       "      <td>150,000</td>\n",
       "      <td>150,000</td>\n",
       "      <td>150,000</td>\n",
       "      <td>150,000</td>\n",
       "      <td>150,000</td>\n",
       "      <td>150,000</td>\n",
       "      <td>150,000</td>\n",
       "      <td>150,000</td>\n",
       "      <td>...</td>\n",
       "      <td>150,000</td>\n",
       "      <td>150,000</td>\n",
       "      <td>150,000</td>\n",
       "      <td>150,000</td>\n",
       "      <td>150,000</td>\n",
       "      <td>150,000</td>\n",
       "      <td>150,000</td>\n",
       "      <td>150,000</td>\n",
       "      <td>150,000</td>\n",
       "      <td>150,000</td>\n",
       "    </tr>\n",
       "    <tr>\n",
       "      <th>mean</th>\n",
       "      <td>75,000</td>\n",
       "      <td>6</td>\n",
       "      <td>52</td>\n",
       "      <td>60,649</td>\n",
       "      <td>0</td>\n",
       "      <td>353</td>\n",
       "      <td>6,670</td>\n",
       "      <td>8</td>\n",
       "      <td>0</td>\n",
       "      <td>1</td>\n",
       "      <td>...</td>\n",
       "      <td>0</td>\n",
       "      <td>1</td>\n",
       "      <td>0</td>\n",
       "      <td>0</td>\n",
       "      <td>0</td>\n",
       "      <td>0</td>\n",
       "      <td>0</td>\n",
       "      <td>0</td>\n",
       "      <td>0</td>\n",
       "      <td>0</td>\n",
       "    </tr>\n",
       "    <tr>\n",
       "      <th>std</th>\n",
       "      <td>43,301</td>\n",
       "      <td>250</td>\n",
       "      <td>15</td>\n",
       "      <td>57</td>\n",
       "      <td>4</td>\n",
       "      <td>2,038</td>\n",
       "      <td>12,880</td>\n",
       "      <td>5</td>\n",
       "      <td>4</td>\n",
       "      <td>1</td>\n",
       "      <td>...</td>\n",
       "      <td>0</td>\n",
       "      <td>0</td>\n",
       "      <td>0</td>\n",
       "      <td>0</td>\n",
       "      <td>0</td>\n",
       "      <td>0</td>\n",
       "      <td>0</td>\n",
       "      <td>0</td>\n",
       "      <td>0</td>\n",
       "      <td>0</td>\n",
       "    </tr>\n",
       "    <tr>\n",
       "      <th>min</th>\n",
       "      <td>1</td>\n",
       "      <td>0</td>\n",
       "      <td>0</td>\n",
       "      <td>60,601</td>\n",
       "      <td>0</td>\n",
       "      <td>0</td>\n",
       "      <td>0</td>\n",
       "      <td>0</td>\n",
       "      <td>0</td>\n",
       "      <td>0</td>\n",
       "      <td>...</td>\n",
       "      <td>0</td>\n",
       "      <td>0</td>\n",
       "      <td>0</td>\n",
       "      <td>0</td>\n",
       "      <td>0</td>\n",
       "      <td>0</td>\n",
       "      <td>0</td>\n",
       "      <td>0</td>\n",
       "      <td>0</td>\n",
       "      <td>0</td>\n",
       "    </tr>\n",
       "    <tr>\n",
       "      <th>25%</th>\n",
       "      <td>37,501</td>\n",
       "      <td>0</td>\n",
       "      <td>41</td>\n",
       "      <td>60,625</td>\n",
       "      <td>0</td>\n",
       "      <td>0</td>\n",
       "      <td>3,903</td>\n",
       "      <td>5</td>\n",
       "      <td>0</td>\n",
       "      <td>0</td>\n",
       "      <td>...</td>\n",
       "      <td>0</td>\n",
       "      <td>0</td>\n",
       "      <td>0</td>\n",
       "      <td>0</td>\n",
       "      <td>0</td>\n",
       "      <td>0</td>\n",
       "      <td>0</td>\n",
       "      <td>0</td>\n",
       "      <td>0</td>\n",
       "      <td>0</td>\n",
       "    </tr>\n",
       "    <tr>\n",
       "      <th>50%</th>\n",
       "      <td>75,000</td>\n",
       "      <td>0</td>\n",
       "      <td>52</td>\n",
       "      <td>60,629</td>\n",
       "      <td>0</td>\n",
       "      <td>0</td>\n",
       "      <td>6,600</td>\n",
       "      <td>8</td>\n",
       "      <td>0</td>\n",
       "      <td>1</td>\n",
       "      <td>...</td>\n",
       "      <td>0</td>\n",
       "      <td>1</td>\n",
       "      <td>0</td>\n",
       "      <td>0</td>\n",
       "      <td>0</td>\n",
       "      <td>0</td>\n",
       "      <td>0</td>\n",
       "      <td>0</td>\n",
       "      <td>0</td>\n",
       "      <td>0</td>\n",
       "    </tr>\n",
       "    <tr>\n",
       "      <th>75%</th>\n",
       "      <td>112,500</td>\n",
       "      <td>1</td>\n",
       "      <td>63</td>\n",
       "      <td>60,644</td>\n",
       "      <td>0</td>\n",
       "      <td>1</td>\n",
       "      <td>7,400</td>\n",
       "      <td>11</td>\n",
       "      <td>0</td>\n",
       "      <td>2</td>\n",
       "      <td>...</td>\n",
       "      <td>0</td>\n",
       "      <td>1</td>\n",
       "      <td>0</td>\n",
       "      <td>0</td>\n",
       "      <td>0</td>\n",
       "      <td>0</td>\n",
       "      <td>0</td>\n",
       "      <td>1</td>\n",
       "      <td>0</td>\n",
       "      <td>0</td>\n",
       "    </tr>\n",
       "    <tr>\n",
       "      <th>max</th>\n",
       "      <td>150,000</td>\n",
       "      <td>50,708</td>\n",
       "      <td>109</td>\n",
       "      <td>60,804</td>\n",
       "      <td>98</td>\n",
       "      <td>329,664</td>\n",
       "      <td>3,008,750</td>\n",
       "      <td>58</td>\n",
       "      <td>98</td>\n",
       "      <td>54</td>\n",
       "      <td>...</td>\n",
       "      <td>1</td>\n",
       "      <td>1</td>\n",
       "      <td>1</td>\n",
       "      <td>1</td>\n",
       "      <td>1</td>\n",
       "      <td>1</td>\n",
       "      <td>1</td>\n",
       "      <td>1</td>\n",
       "      <td>1</td>\n",
       "      <td>1</td>\n",
       "    </tr>\n",
       "  </tbody>\n",
       "</table>\n",
       "<p>8 rows × 27 columns</p>\n",
       "</div>"
      ],
      "text/plain": [
       "       PersonID  RevolvingUtilizationOfUnsecuredLines     age  zipcode  \\\n",
       "count   150,000                               150,000 150,000  150,000   \n",
       "mean     75,000                                     6      52   60,649   \n",
       "std      43,301                                   250      15       57   \n",
       "min           1                                     0       0   60,601   \n",
       "25%      37,501                                     0      41   60,625   \n",
       "50%      75,000                                     0      52   60,629   \n",
       "75%     112,500                                     1      63   60,644   \n",
       "max     150,000                                50,708     109   60,804   \n",
       "\n",
       "       NumberOfTime30-59DaysPastDueNotWorse  DebtRatio  MonthlyIncome  \\\n",
       "count                               150,000    150,000        150,000   \n",
       "mean                                      0        353          6,670   \n",
       "std                                       4      2,038         12,880   \n",
       "min                                       0          0              0   \n",
       "25%                                       0          0          3,903   \n",
       "50%                                       0          0          6,600   \n",
       "75%                                       0          1          7,400   \n",
       "max                                      98    329,664      3,008,750   \n",
       "\n",
       "       NumberOfOpenCreditLinesAndLoans  NumberOfTimes90DaysLate  \\\n",
       "count                          150,000                  150,000   \n",
       "mean                                 8                        0   \n",
       "std                                  5                        4   \n",
       "min                                  0                        0   \n",
       "25%                                  5                        0   \n",
       "50%                                  8                        0   \n",
       "75%                                 11                        0   \n",
       "max                                 58                       98   \n",
       "\n",
       "       NumberRealEstateLoansOrLines                ...                  \\\n",
       "count                       150,000                ...                   \n",
       "mean                              1                ...                   \n",
       "std                               1                ...                   \n",
       "min                               0                ...                   \n",
       "25%                               0                ...                   \n",
       "50%                               1                ...                   \n",
       "75%                               2                ...                   \n",
       "max                              54                ...                   \n",
       "\n",
       "       DebtRatio_cat_[0.0001, 0.00801]  DebtRatio_cat_(0.00801, 0.642]  \\\n",
       "count                          150,000                         150,000   \n",
       "mean                                 0                               1   \n",
       "std                                  0                               0   \n",
       "min                                  0                               0   \n",
       "25%                                  0                               0   \n",
       "50%                                  0                               1   \n",
       "75%                                  0                               1   \n",
       "max                                  1                               1   \n",
       "\n",
       "       DebtRatio_cat_(0.642, 51.386]  DebtRatio_cat_(51.386, 4115.828]  \\\n",
       "count                        150,000                           150,000   \n",
       "mean                               0                                 0   \n",
       "std                                0                                 0   \n",
       "min                                0                                 0   \n",
       "25%                                0                                 0   \n",
       "50%                                0                                 0   \n",
       "75%                                0                                 0   \n",
       "max                                1                                 1   \n",
       "\n",
       "       DebtRatio_cat_(4115.828, 3.3e+05]  MonthlyIncome_cat_[0, 3400]  \\\n",
       "count                            150,000                      150,000   \n",
       "mean                                   0                            0   \n",
       "std                                    0                            0   \n",
       "min                                    0                            0   \n",
       "25%                                    0                            0   \n",
       "50%                                    0                            0   \n",
       "75%                                    0                            0   \n",
       "max                                    1                            1   \n",
       "\n",
       "       MonthlyIncome_cat_(3400, 5400]  MonthlyIncome_cat_(5400, 6670.221]  \\\n",
       "count                         150,000                             150,000   \n",
       "mean                                0                                   0   \n",
       "std                                 0                                   0   \n",
       "min                                 0                                   0   \n",
       "25%                                 0                                   0   \n",
       "50%                                 0                                   0   \n",
       "75%                                 0                                   1   \n",
       "max                                 1                                   1   \n",
       "\n",
       "       MonthlyIncome_cat_(6670.221, 8250]  MonthlyIncome_cat_(8250, 3008750]  \n",
       "count                             150,000                            150,000  \n",
       "mean                                    0                                  0  \n",
       "std                                     0                                  0  \n",
       "min                                     0                                  0  \n",
       "25%                                     0                                  0  \n",
       "50%                                     0                                  0  \n",
       "75%                                     0                                  0  \n",
       "max                                     1                                  1  \n",
       "\n",
       "[8 rows x 27 columns]"
      ]
     },
     "execution_count": 65,
     "metadata": {},
     "output_type": "execute_result"
    }
   ],
   "source": [
    "w.describe()"
   ]
  },
  {
   "cell_type": "code",
   "execution_count": 108,
   "metadata": {
    "collapsed": false
   },
   "outputs": [],
   "source": [
    "X = data.loc[:, ('NumberOfDependents','MonthlyIncome_cat_1','MonthlyIncome_cat_2', \n",
    "       'MonthlyIncome_cat_3','MonthlyIncome_cat_4', 'MonthlyIncome_cat_5',\n",
    "       'age_cat_1', 'age_cat_2', 'age_cat_3', 'age_cat_4', 'age_cat_5'\n",
    "       'DebtRatio_cat_1', 'DebtRatio_cat_2', 'DebtRatio_cat_3',\n",
    "       'DebtRatio_cat_4', 'DebtRatio_cat_5','DebtRatio_cat_6')]"
   ]
  },
  {
   "cell_type": "code",
   "execution_count": 109,
   "metadata": {
    "collapsed": false,
    "scrolled": true
   },
   "outputs": [
    {
     "data": {
      "text/plain": [
       "NumberOfDependents          float64\n",
       "MonthlyIncome_cat_1            bool\n",
       "MonthlyIncome_cat_2            bool\n",
       "MonthlyIncome_cat_3            bool\n",
       "MonthlyIncome_cat_4            bool\n",
       "MonthlyIncome_cat_5            bool\n",
       "age_cat_1                      bool\n",
       "age_cat_2                      bool\n",
       "age_cat_3                      bool\n",
       "age_cat_4                      bool\n",
       "age_cat_5DebtRatio_cat_1    float64\n",
       "DebtRatio_cat_2                bool\n",
       "DebtRatio_cat_3                bool\n",
       "DebtRatio_cat_4                bool\n",
       "DebtRatio_cat_5                bool\n",
       "DebtRatio_cat_6                bool\n",
       "dtype: object"
      ]
     },
     "execution_count": 109,
     "metadata": {},
     "output_type": "execute_result"
    }
   ],
   "source": [
    "X.dtypes"
   ]
  },
  {
   "cell_type": "code",
   "execution_count": 113,
   "metadata": {
    "collapsed": true
   },
   "outputs": [],
   "source": [
    "main_features= ['NumberOfDependents','MonthlyIncome_cat_1','MonthlyIncome_cat_2', \n",
    "       'MonthlyIncome_cat_3','MonthlyIncome_cat_4', 'MonthlyIncome_cat_5',\n",
    "       'age_cat_1', 'age_cat_2', 'age_cat_3', 'age_cat_4', 'age_cat_5',\n",
    "       'DebtRatio_cat_1', 'DebtRatio_cat_2', 'DebtRatio_cat_3',\n",
    "       'DebtRatio_cat_4', 'DebtRatio_cat_5','DebtRatio_cat_6']"
   ]
  },
  {
   "cell_type": "code",
   "execution_count": 116,
   "metadata": {
    "collapsed": true
   },
   "outputs": [],
   "source": [
    "from sklearn.cross_validation import train_test_split\n",
    "from sklearn.linear_model import LogisticRegression\n",
    "from sklearn.neighbors import KNeighborsClassifier\n",
    "from sklearn.ensemble import RandomForestClassifier, GradientBoostingClassifier\n",
    "from sklearn.svm import SVC\n",
    "from sklearn.model_selection import train_test_split\n",
    "#Bag,Boost,RF\n",
    "from sklearn.ensemble import BaggingClassifier\n",
    "from sklearn.tree import DecisionTreeClassifier\n",
    "from sklearn.ensemble import BaggingClassifier\n",
    "from sklearn.linear_model import LogisticRegression\n",
    "from sklearn.tree import DecisionTreeClassifier\n",
    "from sklearn.ensemble import AdaBoostClassifier"
   ]
  },
  {
   "cell_type": "code",
   "execution_count": 118,
   "metadata": {
    "collapsed": true
   },
   "outputs": [],
   "source": [
    "def classify(df, features, label, method, bagging=False):\n",
    "    '''\n",
    "    Given training and testing data for independent variables (features),\n",
    "    training data for dependent variable, and classifying method,\n",
    "    return model, X_test, y_test\n",
    "    '''\n",
    "    if method == \"KNN\":\n",
    "        model = KNeighborsClassifier(n_neighbors = 13, \n",
    "                                     metric = 'minkowski', \n",
    "                                     weights = 'distance')\n",
    "    elif method == \"Tree\":\n",
    "        if bagging:\n",
    "            model = BaggingClassifier(model, \n",
    "                                      n_estimators = 10, \n",
    "                                      max_samples=0.65, \n",
    "                                      max_features=1.)\n",
    "        else:\n",
    "            model = tree.DecisionTreeClassifier(max_depth = 20,\n",
    "                                            class_weight = 'balanced')\n",
    "        \n",
    "    elif method == \"GB\":\n",
    "        model = GradientBoostingClassifier()\n",
    "    elif method == \"Logit\":\n",
    "        if bagging:\n",
    "            model = BaggingClassifier(model, \n",
    "                                      n_estimators = 10, \n",
    "                                      max_samples=0.65, \n",
    "                                      max_features=1.)\n",
    "        else:\n",
    "            model = LogisticRegression('l2',\n",
    "                                       C = 1,\n",
    "                                       class_weight = 'balanced')\n",
    "    elif method == \"RF\":\n",
    "        model = RandomForestClassifier(n_estimators=2, \n",
    "                                     max_features = 'sqrt', \n",
    "                                     max_depth = 20, \n",
    "                                     min_samples_split = 2 ,\n",
    "                                     class_weight = 'balanced')\n",
    "        \n",
    "    else:\n",
    "        raise ValueError('{} not currently avaliable'.format(method))\n",
    "        \n",
    "    y = df[label]\n",
    "    X = df[features]\n",
    "    \n",
    "    X_train, X_test, y_train, y_test = train_test_split(y, \n",
    "                                                        X, \n",
    "                                                        test_size = 0.20,\n",
    "                                                        random_state = 311)\n",
    "    ''' old method\n",
    "    clf.fit(X_train, y_train)\n",
    "    y_hat = clf.predict(X_test)\n",
    "    probs = clf.predict_proba(X_test)\n",
    "    '''\n",
    "    \n",
    "    model.fit(X_train, y_train)\n",
    "\n",
    "    return model, X_test, y_test"
   ]
  },
  {
   "cell_type": "code",
   "execution_count": 119,
   "metadata": {
    "collapsed": false,
    "scrolled": true
   },
   "outputs": [
    {
     "name": "stderr",
     "output_type": "stream",
     "text": [
      "/home/student/.local/lib/python3.4/site-packages/sklearn/utils/validation.py:395: DeprecationWarning: Passing 1d arrays as data is deprecated in 0.17 and will raise ValueError in 0.19. Reshape your data either using X.reshape(-1, 1) if your data has a single feature or X.reshape(1, -1) if it contains a single sample.\n",
      "  DeprecationWarning)\n"
     ]
    },
    {
     "ename": "ValueError",
     "evalue": "Found input variables with inconsistent numbers of samples: [1, 120000]",
     "output_type": "error",
     "traceback": [
      "\u001b[1;31m---------------------------------------------------------------------------\u001b[0m",
      "\u001b[1;31mValueError\u001b[0m                                Traceback (most recent call last)",
      "\u001b[1;32m<ipython-input-119-b01d1d297b12>\u001b[0m in \u001b[0;36m<module>\u001b[1;34m()\u001b[0m\n\u001b[1;32m----> 1\u001b[1;33m \u001b[0mmodel\u001b[0m\u001b[1;33m,\u001b[0m \u001b[0mX_test\u001b[0m\u001b[1;33m,\u001b[0m \u001b[0my_test\u001b[0m \u001b[1;33m=\u001b[0m \u001b[0mclassify\u001b[0m\u001b[1;33m(\u001b[0m\u001b[0mdata\u001b[0m\u001b[1;33m,\u001b[0m\u001b[0mmain_features\u001b[0m\u001b[1;33m,\u001b[0m\u001b[0mlabel\u001b[0m\u001b[1;33m,\u001b[0m\u001b[1;34m'KNN'\u001b[0m\u001b[1;33m)\u001b[0m\u001b[1;33m\u001b[0m\u001b[0m\n\u001b[0m",
      "\u001b[1;32m<ipython-input-118-72449a61bea9>\u001b[0m in \u001b[0;36mclassify\u001b[1;34m(df, features, label, method, bagging)\u001b[0m\n\u001b[0;32m     54\u001b[0m     '''\n\u001b[0;32m     55\u001b[0m \u001b[1;33m\u001b[0m\u001b[0m\n\u001b[1;32m---> 56\u001b[1;33m     \u001b[0mmodel\u001b[0m\u001b[1;33m.\u001b[0m\u001b[0mfit\u001b[0m\u001b[1;33m(\u001b[0m\u001b[0mX_train\u001b[0m\u001b[1;33m,\u001b[0m \u001b[0my_train\u001b[0m\u001b[1;33m)\u001b[0m\u001b[1;33m\u001b[0m\u001b[0m\n\u001b[0m\u001b[0;32m     57\u001b[0m \u001b[1;33m\u001b[0m\u001b[0m\n\u001b[0;32m     58\u001b[0m     \u001b[1;32mreturn\u001b[0m \u001b[0mmodel\u001b[0m\u001b[1;33m,\u001b[0m \u001b[0mX_test\u001b[0m\u001b[1;33m,\u001b[0m \u001b[0my_test\u001b[0m\u001b[1;33m\u001b[0m\u001b[0m\n",
      "\u001b[1;32m/home/student/.local/lib/python3.4/site-packages/sklearn/neighbors/base.py\u001b[0m in \u001b[0;36mfit\u001b[1;34m(self, X, y)\u001b[0m\n\u001b[0;32m    759\u001b[0m         \"\"\"\n\u001b[0;32m    760\u001b[0m         \u001b[1;32mif\u001b[0m \u001b[1;32mnot\u001b[0m \u001b[0misinstance\u001b[0m\u001b[1;33m(\u001b[0m\u001b[0mX\u001b[0m\u001b[1;33m,\u001b[0m \u001b[1;33m(\u001b[0m\u001b[0mKDTree\u001b[0m\u001b[1;33m,\u001b[0m \u001b[0mBallTree\u001b[0m\u001b[1;33m)\u001b[0m\u001b[1;33m)\u001b[0m\u001b[1;33m:\u001b[0m\u001b[1;33m\u001b[0m\u001b[0m\n\u001b[1;32m--> 761\u001b[1;33m             \u001b[0mX\u001b[0m\u001b[1;33m,\u001b[0m \u001b[0my\u001b[0m \u001b[1;33m=\u001b[0m \u001b[0mcheck_X_y\u001b[0m\u001b[1;33m(\u001b[0m\u001b[0mX\u001b[0m\u001b[1;33m,\u001b[0m \u001b[0my\u001b[0m\u001b[1;33m,\u001b[0m \u001b[1;34m\"csr\"\u001b[0m\u001b[1;33m,\u001b[0m \u001b[0mmulti_output\u001b[0m\u001b[1;33m=\u001b[0m\u001b[1;32mTrue\u001b[0m\u001b[1;33m)\u001b[0m\u001b[1;33m\u001b[0m\u001b[0m\n\u001b[0m\u001b[0;32m    762\u001b[0m \u001b[1;33m\u001b[0m\u001b[0m\n\u001b[0;32m    763\u001b[0m         \u001b[1;32mif\u001b[0m \u001b[0my\u001b[0m\u001b[1;33m.\u001b[0m\u001b[0mndim\u001b[0m \u001b[1;33m==\u001b[0m \u001b[1;36m1\u001b[0m \u001b[1;32mor\u001b[0m \u001b[0my\u001b[0m\u001b[1;33m.\u001b[0m\u001b[0mndim\u001b[0m \u001b[1;33m==\u001b[0m \u001b[1;36m2\u001b[0m \u001b[1;32mand\u001b[0m \u001b[0my\u001b[0m\u001b[1;33m.\u001b[0m\u001b[0mshape\u001b[0m\u001b[1;33m[\u001b[0m\u001b[1;36m1\u001b[0m\u001b[1;33m]\u001b[0m \u001b[1;33m==\u001b[0m \u001b[1;36m1\u001b[0m\u001b[1;33m:\u001b[0m\u001b[1;33m\u001b[0m\u001b[0m\n",
      "\u001b[1;32m/home/student/.local/lib/python3.4/site-packages/sklearn/utils/validation.py\u001b[0m in \u001b[0;36mcheck_X_y\u001b[1;34m(X, y, accept_sparse, dtype, order, copy, force_all_finite, ensure_2d, allow_nd, multi_output, ensure_min_samples, ensure_min_features, y_numeric, warn_on_dtype, estimator)\u001b[0m\n\u001b[0;32m    529\u001b[0m         \u001b[0my\u001b[0m \u001b[1;33m=\u001b[0m \u001b[0my\u001b[0m\u001b[1;33m.\u001b[0m\u001b[0mastype\u001b[0m\u001b[1;33m(\u001b[0m\u001b[0mnp\u001b[0m\u001b[1;33m.\u001b[0m\u001b[0mfloat64\u001b[0m\u001b[1;33m)\u001b[0m\u001b[1;33m\u001b[0m\u001b[0m\n\u001b[0;32m    530\u001b[0m \u001b[1;33m\u001b[0m\u001b[0m\n\u001b[1;32m--> 531\u001b[1;33m     \u001b[0mcheck_consistent_length\u001b[0m\u001b[1;33m(\u001b[0m\u001b[0mX\u001b[0m\u001b[1;33m,\u001b[0m \u001b[0my\u001b[0m\u001b[1;33m)\u001b[0m\u001b[1;33m\u001b[0m\u001b[0m\n\u001b[0m\u001b[0;32m    532\u001b[0m \u001b[1;33m\u001b[0m\u001b[0m\n\u001b[0;32m    533\u001b[0m     \u001b[1;32mreturn\u001b[0m \u001b[0mX\u001b[0m\u001b[1;33m,\u001b[0m \u001b[0my\u001b[0m\u001b[1;33m\u001b[0m\u001b[0m\n",
      "\u001b[1;32m/home/student/.local/lib/python3.4/site-packages/sklearn/utils/validation.py\u001b[0m in \u001b[0;36mcheck_consistent_length\u001b[1;34m(*arrays)\u001b[0m\n\u001b[0;32m    179\u001b[0m     \u001b[1;32mif\u001b[0m \u001b[0mlen\u001b[0m\u001b[1;33m(\u001b[0m\u001b[0muniques\u001b[0m\u001b[1;33m)\u001b[0m \u001b[1;33m>\u001b[0m \u001b[1;36m1\u001b[0m\u001b[1;33m:\u001b[0m\u001b[1;33m\u001b[0m\u001b[0m\n\u001b[0;32m    180\u001b[0m         raise ValueError(\"Found input variables with inconsistent numbers of\"\n\u001b[1;32m--> 181\u001b[1;33m                          \" samples: %r\" % [int(l) for l in lengths])\n\u001b[0m\u001b[0;32m    182\u001b[0m \u001b[1;33m\u001b[0m\u001b[0m\n\u001b[0;32m    183\u001b[0m \u001b[1;33m\u001b[0m\u001b[0m\n",
      "\u001b[1;31mValueError\u001b[0m: Found input variables with inconsistent numbers of samples: [1, 120000]"
     ]
    }
   ],
   "source": [
    "model, X_test, y_test = classify(data,main_features,label,'KNN')"
   ]
  },
  {
   "cell_type": "code",
   "execution_count": 41,
   "metadata": {
    "collapsed": false
   },
   "outputs": [
    {
     "data": {
      "text/plain": [
       "0.93222735021412828"
      ]
     },
     "execution_count": 41,
     "metadata": {},
     "output_type": "execute_result"
    }
   ],
   "source": [
    "# The task here is to predict who will  experience financial \n",
    "# distress in the next two years. The outcome variable (label) \n",
    "# in the data is SeriousDlqin2yrs. We have access to other information \n",
    "# about this person (as described in the data dictionary). Your assignment \n",
    "#is to take this data and build a machine learning pipeline that \n",
    "#trains *one* machine learning model on the data. \n",
    "\n",
    "from sklearn.model_selection import train_test_split\n",
    "\n",
    "\n",
    "X = data.loc[:, ('NumberOfDependents', 'age', 'MonthlyIncome_cat_0',\n",
    "       'MonthlyIncome_cat_1', 'MonthlyIncome_cat_2', 'MonthlyIncome_cat_3',\n",
    "       'MonthlyIncome_cat_4', 'DebtRatio_cat_0',\n",
    "       'DebtRatio_cat_1', 'DebtRatio_cat_2', 'DebtRatio_cat_3',\n",
    "       'DebtRatio_cat_4', 'DebtRatio_cat_5')]\n",
    "\n",
    "Y = data['SeriousDlqin2yrs']\n",
    "\n",
    "X_train, X_test, Y_train, Y_test = train_test_split(\n",
    "    X, Y, test_size=0.2, random_state=None)\n",
    "    \n",
    "model = MyClassifier(X_train, Y_train, 'logistic')\n",
    "\n",
    "model.model.score(X_test, Y_test)"
   ]
  },
  {
   "cell_type": "code",
   "execution_count": 50,
   "metadata": {
    "collapsed": false
   },
   "outputs": [
    {
     "name": "stdout",
     "output_type": "stream",
     "text": [
      "  (0, 0)\t0.127809847759\n",
      "  (0, 1)\t-0.0249639248121\n",
      "  (0, 2)\t-0.6330416073\n",
      "  (0, 3)\t0.0735662264515\n",
      "  (0, 4)\t0.0156168493632\n",
      "  (0, 5)\t-0.431096931943\n",
      "  (0, 6)\t-0.192146223752\n",
      "  (0, 7)\t-0.0627019385459\n",
      "  (0, 8)\t-0.250363667995\n",
      "  (0, 9)\t-1.00262573203\n",
      "  (0, 10)\t-0.928702764814\n",
      "  (0, 11)\t-0.819218492033\n"
     ]
    }
   ],
   "source": [
    "print(model.model.coef_)"
   ]
  },
  {
   "cell_type": "markdown",
   "metadata": {},
   "source": [
    "### Step 6. Evaluate"
   ]
  },
  {
   "cell_type": "code",
   "execution_count": 42,
   "metadata": {
    "collapsed": false
   },
   "outputs": [
    {
     "data": {
      "text/plain": [
       "0.93222735021412828"
      ]
     },
     "execution_count": 42,
     "metadata": {},
     "output_type": "execute_result"
    }
   ],
   "source": [
    "model.model.score(X_test, Y_test)"
   ]
  },
  {
   "cell_type": "code",
   "execution_count": 51,
   "metadata": {
    "collapsed": false
   },
   "outputs": [
    {
     "data": {
      "text/html": [
       "<div>\n",
       "<table border=\"1\" class=\"dataframe\">\n",
       "  <thead>\n",
       "    <tr style=\"text-align: right;\">\n",
       "      <th>Predicted</th>\n",
       "      <th>False</th>\n",
       "      <th>True</th>\n",
       "    </tr>\n",
       "    <tr>\n",
       "      <th>Actual</th>\n",
       "      <th></th>\n",
       "      <th></th>\n",
       "    </tr>\n",
       "  </thead>\n",
       "  <tbody>\n",
       "    <tr>\n",
       "      <th>False</th>\n",
       "      <td>22415</td>\n",
       "      <td>6</td>\n",
       "    </tr>\n",
       "    <tr>\n",
       "      <th>True</th>\n",
       "      <td>1628</td>\n",
       "      <td>2</td>\n",
       "    </tr>\n",
       "  </tbody>\n",
       "</table>\n",
       "</div>"
      ],
      "text/plain": [
       "Predicted  False  True \n",
       "Actual                 \n",
       "False      22415      6\n",
       "True        1628      2"
      ]
     },
     "execution_count": 51,
     "metadata": {},
     "output_type": "execute_result"
    }
   ],
   "source": [
    "import pandas as pd\n",
    "\n",
    "probas = model.model.predict_proba(X_test)\n",
    "\n",
    "pd.crosstab(Y_test, probas[:,1] > 0.2, rownames=[\"Actual\"], colnames=[\"Predicted\"])"
   ]
  },
  {
   "cell_type": "code",
   "execution_count": 57,
   "metadata": {
    "collapsed": true
   },
   "outputs": [],
   "source": [
    "from sklearn.metrics import accuracy_score, classification_report, precision_recall_curve"
   ]
  },
  {
   "cell_type": "code",
   "execution_count": 53,
   "metadata": {
    "collapsed": false
   },
   "outputs": [
    {
     "data": {
      "text/plain": [
       "0.93206103696312004"
      ]
     },
     "execution_count": 53,
     "metadata": {},
     "output_type": "execute_result"
    }
   ],
   "source": [
    "accuracy_score(Y_test, probas[:,1] > 0.2)"
   ]
  },
  {
   "cell_type": "code",
   "execution_count": 56,
   "metadata": {
    "collapsed": false
   },
   "outputs": [
    {
     "name": "stdout",
     "output_type": "stream",
     "text": [
      "             precision    recall  f1-score   support\n",
      "\n",
      "      False       0.93      1.00      0.96     22421\n",
      "       True       0.25      0.00      0.00      1630\n",
      "\n",
      "avg / total       0.89      0.93      0.90     24051\n",
      "\n"
     ]
    }
   ],
   "source": [
    "print(classification_report(Y_test, probas[:,1] > 0.2))"
   ]
  },
  {
   "cell_type": "code",
   "execution_count": 59,
   "metadata": {
    "collapsed": false
   },
   "outputs": [
    {
     "data": {
      "text/plain": [
       "(array([ 0.06846151,  0.06842525,  0.06843388, ...,  0.5       ,\n",
       "         0.        ,  1.        ]),\n",
       " array([  1.00000000e+00,   9.99386503e-01,   9.99386503e-01, ...,\n",
       "          6.13496933e-04,   0.00000000e+00,   0.00000000e+00]),\n",
       " array([ 0.01637779,  0.01639506,  0.01653906, ...,  0.21941202,\n",
       "         0.21992459,  0.23751897]))"
      ]
     },
     "execution_count": 59,
     "metadata": {},
     "output_type": "execute_result"
    }
   ],
   "source": [
    "precision_recall_curve(Y_test, probas[:,1])"
   ]
  },
  {
   "cell_type": "code",
   "execution_count": null,
   "metadata": {
    "collapsed": false
   },
   "outputs": [],
   "source": [
    "from sklearn.metrics import roc_curve, auc, classification_report, confusion_matrix\n",
    "\n",
    "confusion_matrix(Y_test, model.model.predict(X_test))\n"
   ]
  },
  {
   "cell_type": "code",
   "execution_count": null,
   "metadata": {
    "collapsed": true
   },
   "outputs": [],
   "source": [
    "probas = model.model.predict_proba(X_train)"
   ]
  },
  {
   "cell_type": "code",
   "execution_count": null,
   "metadata": {
    "collapsed": false
   },
   "outputs": [],
   "source": [
    "sum(probas[:,1] > 0.2)"
   ]
  },
  {
   "cell_type": "code",
   "execution_count": null,
   "metadata": {
    "collapsed": false
   },
   "outputs": [],
   "source": [
    "model.model.predict(X_test)"
   ]
  },
  {
   "cell_type": "code",
   "execution_count": null,
   "metadata": {
    "collapsed": true
   },
   "outputs": [],
   "source": [
    "d = pd.DataFrame({'a': [5,6,7], 'b':[0,1,3]}, index=[10,13,14])\n",
    "d = binarize_categories(d, ['a'], True)\n",
    "d.head()"
   ]
  }
 ],
 "metadata": {
  "kernelspec": {
   "display_name": "Python 3",
   "language": "python",
   "name": "python3"
  },
  "language_info": {
   "codemirror_mode": {
    "name": "ipython",
    "version": 3
   },
   "file_extension": ".py",
   "mimetype": "text/x-python",
   "name": "python",
   "nbconvert_exporter": "python",
   "pygments_lexer": "ipython3",
   "version": "3.4.0"
  }
 },
 "nbformat": 4,
 "nbformat_minor": 0
}
