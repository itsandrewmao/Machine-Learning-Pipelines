{
 "cells": [
  {
   "cell_type": "markdown",
   "metadata": {},
   "source": [
    "<div style=\"text-align: right\"> \n",
    "Carlos E. Alvarado <br>\n",
    "Machine Learning for Public Policy <br>\n",
    "Spring 2017 <br>\n",
    "Repo: https://github.com/cealvara/ml_for_pp_homeworks.git\n",
    "</div>"
   ]
  },
  {
   "cell_type": "markdown",
   "metadata": {},
   "source": [
    "<div style=\"text-align: center\"> \n",
    "<font size=\"6\">Homework 2</font>\n",
    "</div>"
   ]
  },
  {
   "cell_type": "markdown",
   "metadata": {},
   "source": [
    "### 1. Policy Question\n",
    "\n",
    "We want to know (i.e. predict) who will experience financial distress in the next two years. The outcome variable (label) in the data is SeriousDlqin2yrs. We have access to other information about this person (as described in the data dictionary)."
   ]
  },
  {
   "cell_type": "markdown",
   "metadata": {},
   "source": [
    "### 2. Pipeline\n",
    "\n",
    "We built a pipeline as follows:\n",
    "\n",
    "1. Read data\n",
    "2. Explore\n",
    "3. Pre-process\n",
    "4. Create features\n",
    "5. Classify\n",
    "6. Evaluate\n",
    "\n",
    "In the next section, I describe the main results of our pipeline: the Model and Evaluation."
   ]
  },
  {
   "cell_type": "markdown",
   "metadata": {},
   "source": [
    "### 3. Model\n",
    "\n",
    "We begin fitting a Logistic Regression Model. \n",
    "\n",
    "The selected features are: 'NumberOfDependents', 'age', 'MonthlyIncome_cat_0', 'MonthlyIncome_cat_1', 'MonthlyIncome_cat_2', 'MonthlyIncome_cat_3', 'MonthlyIncome_cat_4', 'DebtRatio_cat_0', 'DebtRatio_cat_1', 'DebtRatio_cat_2', 'DebtRatio_cat_3', 'DebtRatio_cat_4', 'DebtRatio_cat_5'.\n",
    "\n",
    "See hw2_code.ipynb for details\n",
    "\n"
   ]
  },
  {
   "cell_type": "markdown",
   "metadata": {},
   "source": [
    "### 4. Evaluation\n",
    "\n",
    "Below, we can see a summary of our model:\n",
    "\n",
    "<div style=\"text-align: center\"> \n",
    "<font size=\"4\"><br>Confusion matrix for threshold of True when Prob > 20%</font>\n",
    "</div>\n",
    "\n",
    "Actual \\ Predicted | \tFalse | \tTrue\n",
    "---- | :----: | :----:\n",
    "False |\t22415 | \t6\n",
    "True |\t1628 |\t2\n",
    "\n",
    "Accuracy: 93.2%\n"
   ]
  }
 ],
 "metadata": {
  "kernelspec": {
   "display_name": "Python 3",
   "language": "python",
   "name": "python3"
  },
  "language_info": {
   "codemirror_mode": {
    "name": "ipython",
    "version": 3
   },
   "file_extension": ".py",
   "mimetype": "text/x-python",
   "name": "python",
   "nbconvert_exporter": "python",
   "pygments_lexer": "ipython3",
   "version": "3.4.0"
  }
 },
 "nbformat": 4,
 "nbformat_minor": 0
}
