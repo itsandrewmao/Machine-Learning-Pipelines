{
 "cells": [
  {
   "cell_type": "code",
   "execution_count": 5,
   "metadata": {
    "collapsed": false
   },
   "outputs": [],
   "source": [
    "# Necessary restart\n",
    "data = read('data/credit-data.csv')\n",
    "li = 1\n",
    "fi = [2,3,4,5,6,7,8,9,10,11,12]\n",
    "label = data.columns[li]\n",
    "features = list(data.columns[fi])\n",
    "convert_vartype(data, label, 'bool')\n",
    "convert_vartype(data, 'NumberOfDependents', 'int')\n",
    "fill_miss(data, 'MonthlyIncome', method='mean')\n",
    "fill_miss(data, 'NumberOfDependents', method='median')"
   ]
  },
  {
   "cell_type": "code",
   "execution_count": 6,
   "metadata": {
    "collapsed": false
   },
   "outputs": [
    {
     "name": "stdout",
     "output_type": "stream",
     "text": [
      "Warning, DebtRatio has negative or zero values\n"
     ]
    }
   ],
   "source": [
    "discretize(data, 'MonthlyIncome', 5, 'ufov')\n",
    "discretize(data, 'age', 5, 'uv')\n",
    "discretize(data, 'DebtRatio', 5, 'logspace')"
   ]
  },
  {
   "cell_type": "code",
   "execution_count": 8,
   "metadata": {
    "collapsed": true
   },
   "outputs": [],
   "source": [
    "def gen_dummies(df, varnames, drop=True):\n",
    "    '''\n",
    "    Given a dataframe and certain column, returns a set of dummies\n",
    "    '''\n",
    "    for var in varnames:\n",
    "        for i, value in enumerate(df[var].unique()):\n",
    "            print(i+1, type(value), value)\n",
    "            df[var + '_{}'.format(i+1)] = df[var] == value\n",
    "        \n",
    "        if drop:\n",
    "            df.drop(var, inplace=True, axis=1)"
   ]
  },
  {
   "cell_type": "code",
   "execution_count": 7,
   "metadata": {
    "collapsed": false,
    "scrolled": true
   },
   "outputs": [
    {
     "data": {
      "text/plain": [
       "PersonID                                   int64\n",
       "SeriousDlqin2yrs                            bool\n",
       "RevolvingUtilizationOfUnsecuredLines     float64\n",
       "age                                        int64\n",
       "zipcode                                    int64\n",
       "NumberOfTime30-59DaysPastDueNotWorse       int64\n",
       "DebtRatio                                float64\n",
       "MonthlyIncome                            float64\n",
       "NumberOfOpenCreditLinesAndLoans            int64\n",
       "NumberOfTimes90DaysLate                    int64\n",
       "NumberRealEstateLoansOrLines               int64\n",
       "NumberOfTime60-89DaysPastDueNotWorse       int64\n",
       "NumberOfDependents                       float64\n",
       "MonthlyIncome_cat                       category\n",
       "age_cat                                 category\n",
       "DebtRatio_cat                           category\n",
       "dtype: object"
      ]
     },
     "execution_count": 7,
     "metadata": {},
     "output_type": "execute_result"
    }
   ],
   "source": [
    "data.dtypes"
   ]
  },
  {
   "cell_type": "code",
   "execution_count": 9,
   "metadata": {
    "collapsed": false,
    "scrolled": true
   },
   "outputs": [
    {
     "name": "stdout",
     "output_type": "stream",
     "text": [
      "1 <class 'str'> (43.6, 65.4]\n",
      "2 <class 'str'> (21.8, 43.6]\n",
      "3 <class 'str'> (65.4, 87.2]\n",
      "4 <class 'str'> (87.2, 109]\n",
      "5 <class 'str'> (-0.109, 21.8]\n",
      "1 <class 'str'> (0.642, 51.386]\n",
      "2 <class 'str'> (0.00801, 0.642]\n",
      "3 <class 'str'> (4115.828, 3.3e+05]\n",
      "4 <class 'str'> (51.386, 4115.828]\n",
      "5 <class 'float'> nan\n",
      "6 <class 'str'> [0.0001, 0.00801]\n",
      "1 <class 'str'> (8250, 3008750]\n",
      "2 <class 'str'> [0, 3400]\n",
      "3 <class 'str'> (3400, 5400]\n",
      "4 <class 'str'> (5400, 6670.221]\n",
      "5 <class 'str'> (6670.221, 8250]\n"
     ]
    }
   ],
   "source": [
    "gen_dummies(data, [#'NumberOfDependents',\n",
    "                   'age_cat',\n",
    "                   'DebtRatio_cat',\n",
    "                   'MonthlyIncome_cat'], drop = True)"
   ]
  },
  {
   "cell_type": "markdown",
   "metadata": {},
   "source": [
    "### Initial Settings"
   ]
  },
  {
   "cell_type": "code",
   "execution_count": 3,
   "metadata": {
    "collapsed": false
   },
   "outputs": [
    {
     "name": "stderr",
     "output_type": "stream",
     "text": [
      "/home/student/.local/lib/python3.4/site-packages/sklearn/cross_validation.py:44: DeprecationWarning: This module was deprecated in version 0.18 in favor of the model_selection module into which all the refactored classes and functions are moved. Also note that the interface of the new CV iterators are different from that of this module. This module will be removed in 0.20.\n",
      "  \"This module will be removed in 0.20.\", DeprecationWarning)\n"
     ]
    }
   ],
   "source": [
    "import sys\n",
    "sys.path.append('./MachineLearning ToolBox')\n",
    "\n",
    "from Pipeline1_read import read\n",
    "from Pipeline2_explore import tabular, histogram\n",
    "from Pipeline3_preprocess import check_miss, fill_miss, convert_vartype\n",
    "from Pipeline4_features import display_importance, discretize, gen_dummies\n",
    "from Pipeline5_classifier import classify\n",
    "from Pipeline6_evaluate import evaluate, plot_roc\n",
    "\n",
    "%matplotlib inline"
   ]
  },
  {
   "cell_type": "code",
   "execution_count": null,
   "metadata": {
    "collapsed": true
   },
   "outputs": [],
   "source": []
  },
  {
   "cell_type": "markdown",
   "metadata": {},
   "source": [
    "## Step 1. Read/Load Data"
   ]
  },
  {
   "cell_type": "code",
   "execution_count": 4,
   "metadata": {
    "collapsed": false
   },
   "outputs": [],
   "source": [
    "# Read Data into Pandas object\n",
    "data = read('data/credit-data.csv')"
   ]
  },
  {
   "cell_type": "markdown",
   "metadata": {},
   "source": [
    "## Step 2. Explore Data"
   ]
  },
  {
   "cell_type": "code",
   "execution_count": 3,
   "metadata": {
    "collapsed": false,
    "scrolled": true
   },
   "outputs": [
    {
     "data": {
      "text/plain": [
       "PersonID                                  int64\n",
       "SeriousDlqin2yrs                          int64\n",
       "RevolvingUtilizationOfUnsecuredLines    float64\n",
       "age                                       int64\n",
       "zipcode                                   int64\n",
       "NumberOfTime30-59DaysPastDueNotWorse      int64\n",
       "DebtRatio                               float64\n",
       "MonthlyIncome                           float64\n",
       "NumberOfOpenCreditLinesAndLoans           int64\n",
       "NumberOfTimes90DaysLate                   int64\n",
       "NumberRealEstateLoansOrLines              int64\n",
       "NumberOfTime60-89DaysPastDueNotWorse      int64\n",
       "NumberOfDependents                      float64\n",
       "dtype: object"
      ]
     },
     "execution_count": 3,
     "metadata": {},
     "output_type": "execute_result"
    }
   ],
   "source": [
    "# Peek at columns to understand potential features and labels\n",
    "data.dtypes"
   ]
  },
  {
   "cell_type": "code",
   "execution_count": 5,
   "metadata": {
    "collapsed": false
   },
   "outputs": [],
   "source": [
    "# Our dependent variable (label) is 'SeriousDlqin2yrs'\n",
    "# Our independent variables (features) are all column names other \n",
    "# than 'PersonID' and the label\n",
    "\n",
    "li = 1\n",
    "fi = [2,3,4,5,6,7,8,9,10,11,12]\n",
    "label = data.columns[li]\n",
    "features = list(data.columns[fi])"
   ]
  },
  {
   "cell_type": "code",
   "execution_count": 6,
   "metadata": {
    "collapsed": false
   },
   "outputs": [
    {
     "name": "stdout",
     "output_type": "stream",
     "text": [
      "          RevolvingUtilizationOfUnsecuredLines   Percent\n",
      "0.000000                                 10878  0.072520\n",
      "1.000000                                 10256  0.068373\n",
      "1.000000                                    17  0.000113\n",
      "0.950100                                     8  0.000053\n",
      "0.713147                                     6  0.000040\n",
      "0.007984                                     6  0.000040\n",
      "0.954092                                     6  0.000040\n",
      "0.994012                                     5  0.000033\n",
      "0.004999                                     5  0.000033\n",
      "0.582834                                     5  0.000033\n",
      "0.046048                                     5  0.000033\n",
      "0.988024                                     5  0.000033\n",
      "0.717131                                     5  0.000033\n",
      "0.538922                                     5  0.000033\n",
      "0.850299                                     5  0.000033\n",
      "0.796407                                     5  0.000033\n",
      "1.003322                                     5  0.000033\n",
      "0.638723                                     4  0.000027\n",
      "0.015984                                     4  0.000027\n",
      "0.161677                                     4  0.000027\n",
      "0.990033                                     4  0.000027\n",
      "0.010449                                     4  0.000027\n",
      "0.018798                                     4  0.000027\n",
      "0.441118                                     4  0.000027\n",
      "0.922156                                     4  0.000027\n",
      "0.111726                                     4  0.000027\n",
      "0.022799                                     4  0.000027\n",
      "0.978044                                     4  0.000027\n",
      "0.999001                                     4  0.000027\n",
      "0.982004                                     4  0.000027\n",
      "...                                        ...       ...\n",
      "0.005153                                     1  0.000007\n",
      "0.660015                                     1  0.000007\n",
      "0.087066                                     1  0.000007\n",
      "0.101345                                     1  0.000007\n",
      "0.203559                                     1  0.000007\n",
      "0.003252                                     1  0.000007\n",
      "0.129959                                     1  0.000007\n",
      "0.018732                                     1  0.000007\n",
      "0.054700                                     1  0.000007\n",
      "0.897436                                     1  0.000007\n",
      "0.066994                                     1  0.000007\n",
      "0.142621                                     1  0.000007\n",
      "0.125536                                     1  0.000007\n",
      "0.731916                                     1  0.000007\n",
      "0.348363                                     1  0.000007\n",
      "0.128530                                     1  0.000007\n",
      "0.032763                                     1  0.000007\n",
      "0.593323                                     1  0.000007\n",
      "0.488495                                     1  0.000007\n",
      "0.982073                                     1  0.000007\n",
      "0.380551                                     1  0.000007\n",
      "0.037290                                     1  0.000007\n",
      "0.218812                                     1  0.000007\n",
      "0.013605                                     1  0.000007\n",
      "0.664452                                     1  0.000007\n",
      "0.008561                                     1  0.000007\n",
      "0.029296                                     1  0.000007\n",
      "0.440880                                     1  0.000007\n",
      "0.023776                                     1  0.000007\n",
      "0.168611                                     1  0.000007\n",
      "\n",
      "[125728 rows x 2 columns]\n",
      "      age   Percent\n",
      "49   3837  0.025580\n",
      "48   3806  0.025373\n",
      "50   3753  0.025020\n",
      "63   3719  0.024793\n",
      "47   3719  0.024793\n",
      "46   3714  0.024760\n",
      "53   3648  0.024320\n",
      "51   3627  0.024180\n",
      "52   3609  0.024060\n",
      "56   3589  0.023927\n",
      "62   3568  0.023787\n",
      "54   3561  0.023740\n",
      "61   3522  0.023480\n",
      "45   3502  0.023347\n",
      "58   3443  0.022953\n",
      "55   3416  0.022773\n",
      "57   3375  0.022500\n",
      "44   3294  0.021960\n",
      "59   3280  0.021867\n",
      "60   3258  0.021720\n",
      "43   3208  0.021387\n",
      "41   3122  0.020813\n",
      "40   3093  0.020620\n",
      "42   3082  0.020547\n",
      "64   3058  0.020387\n",
      "39   2987  0.019913\n",
      "38   2631  0.017540\n",
      "65   2594  0.017293\n",
      "37   2521  0.016807\n",
      "67   2503  0.016687\n",
      "..    ...       ...\n",
      "24    816  0.005440\n",
      "81    774  0.005160\n",
      "82    647  0.004313\n",
      "23    641  0.004273\n",
      "83    512  0.003413\n",
      "85    483  0.003220\n",
      "84    480  0.003200\n",
      "22    434  0.002893\n",
      "86    407  0.002713\n",
      "87    357  0.002380\n",
      "88    313  0.002087\n",
      "89    276  0.001840\n",
      "90    198  0.001320\n",
      "21    183  0.001220\n",
      "91    154  0.001027\n",
      "92     93  0.000620\n",
      "93     87  0.000580\n",
      "94     47  0.000313\n",
      "95     45  0.000300\n",
      "96     18  0.000120\n",
      "97     17  0.000113\n",
      "99      9  0.000060\n",
      "98      6  0.000040\n",
      "103     3  0.000020\n",
      "102     3  0.000020\n",
      "101     3  0.000020\n",
      "109     2  0.000013\n",
      "107     1  0.000007\n",
      "105     1  0.000007\n",
      "0       1  0.000007\n",
      "\n",
      "[86 rows x 2 columns]\n",
      "       zipcode   Percent\n",
      "60625    33514  0.223427\n",
      "60629    16840  0.112267\n",
      "60637    16625  0.110833\n",
      "60657    16624  0.110827\n",
      "60618    16612  0.110747\n",
      "60804    16605  0.110700\n",
      "60601    16599  0.110660\n",
      "60644    16581  0.110540\n",
      "    NumberOfTime30-59DaysPastDueNotWorse   Percent\n",
      "0                                 126018  0.840120\n",
      "1                                  16033  0.106887\n",
      "2                                   4598  0.030653\n",
      "3                                   1754  0.011693\n",
      "4                                    747  0.004980\n",
      "5                                    342  0.002280\n",
      "98                                   264  0.001760\n",
      "6                                    140  0.000933\n",
      "7                                     54  0.000360\n",
      "8                                     25  0.000167\n",
      "9                                     12  0.000080\n",
      "96                                     5  0.000033\n",
      "10                                     4  0.000027\n",
      "12                                     2  0.000013\n",
      "13                                     1  0.000007\n",
      "11                                     1  0.000007\n",
      "           DebtRatio   Percent\n",
      "0.000000        4113  0.027420\n",
      "1.000000         229  0.001527\n",
      "4.000000         174  0.001160\n",
      "2.000000         170  0.001133\n",
      "3.000000         162  0.001080\n",
      "5.000000         143  0.000953\n",
      "9.000000         125  0.000833\n",
      "10.000000        117  0.000780\n",
      "7.000000         115  0.000767\n",
      "13.000000        114  0.000760\n",
      "6.000000         112  0.000747\n",
      "11.000000        108  0.000720\n",
      "8.000000         106  0.000707\n",
      "12.000000        102  0.000680\n",
      "14.000000        101  0.000673\n",
      "21.000000         99  0.000660\n",
      "15.000000         98  0.000653\n",
      "19.000000         91  0.000607\n",
      "16.000000         86  0.000573\n",
      "18.000000         83  0.000553\n",
      "20.000000         83  0.000553\n",
      "28.000000         80  0.000533\n",
      "24.000000         79  0.000527\n",
      "30.000000         78  0.000520\n",
      "25.000000         78  0.000520\n",
      "22.000000         78  0.000520\n",
      "29.000000         77  0.000513\n",
      "27.000000         76  0.000507\n",
      "23.000000         70  0.000467\n",
      "37.000000         69  0.000460\n",
      "...              ...       ...\n",
      "0.644559           1  0.000007\n",
      "0.162696           1  0.000007\n",
      "0.631895           1  0.000007\n",
      "0.000894           1  0.000007\n",
      "0.557377           1  0.000007\n",
      "0.000596           1  0.000007\n",
      "0.319900           1  0.000007\n",
      "1.307415           1  0.000007\n",
      "0.755020           1  0.000007\n",
      "0.218032           1  0.000007\n",
      "0.440836           1  0.000007\n",
      "0.623896           1  0.000007\n",
      "0.114231           1  0.000007\n",
      "0.536242           1  0.000007\n",
      "0.602340           1  0.000007\n",
      "0.009473           1  0.000007\n",
      "0.712599           1  0.000007\n",
      "0.378679           1  0.000007\n",
      "0.015746           1  0.000007\n",
      "0.535496           1  0.000007\n",
      "0.298633           1  0.000007\n",
      "0.743128           1  0.000007\n",
      "0.412794           1  0.000007\n",
      "0.343331           1  0.000007\n",
      "0.687198           1  0.000007\n",
      "0.388592           1  0.000007\n",
      "0.076564           1  0.000007\n",
      "0.648382           1  0.000007\n",
      "0.115146           1  0.000007\n",
      "0.656276           1  0.000007\n",
      "\n",
      "[114194 rows x 2 columns]\n",
      "          MonthlyIncome   Percent\n",
      "5000.0             2757  0.022924\n",
      "4000.0             2106  0.017511\n",
      "6000.0             1934  0.016081\n",
      "3000.0             1758  0.014617\n",
      "0.0                1634  0.013586\n",
      "2500.0             1551  0.012896\n",
      "10000.0            1466  0.012189\n",
      "3500.0             1360  0.011308\n",
      "4500.0             1226  0.010194\n",
      "7000.0             1223  0.010169\n",
      "8000.0             1127  0.009371\n",
      "2000.0             1116  0.009279\n",
      "7500.0             1051  0.008739\n",
      "10500.0            1013  0.008423\n",
      "5500.0              897  0.007458\n",
      "6500.0              841  0.006993\n",
      "9000.0              763  0.006344\n",
      "1.0                 605  0.005030\n",
      "3200.0              584  0.004856\n",
      "6250.0              570  0.004739\n",
      "4200.0              569  0.004731\n",
      "4166.0              554  0.004606\n",
      "1500.0              553  0.004598\n",
      "12000.0             547  0.004548\n",
      "8333.0              543  0.004515\n",
      "8500.0              505  0.004199\n",
      "3750.0              504  0.004191\n",
      "3600.0              503  0.004182\n",
      "2400.0              501  0.004166\n",
      "12500.0             499  0.004149\n",
      "...                 ...       ...\n",
      "13920.0               1  0.000008\n",
      "13142.0               1  0.000008\n",
      "11313.0               1  0.000008\n",
      "9004.0                1  0.000008\n",
      "11315.0               1  0.000008\n",
      "553.0                 1  0.000008\n",
      "11317.0               1  0.000008\n",
      "707.0                 1  0.000008\n",
      "14067.0               1  0.000008\n",
      "13468.0               1  0.000008\n",
      "55250.0               1  0.000008\n",
      "11206.0               1  0.000008\n",
      "237400.0              1  0.000008\n",
      "14421.0               1  0.000008\n",
      "14841.0               1  0.000008\n",
      "9402.0                1  0.000008\n",
      "13555.0               1  0.000008\n",
      "12140.0               1  0.000008\n",
      "789.0                 1  0.000008\n",
      "143000.0              1  0.000008\n",
      "10747.0               1  0.000008\n",
      "237490.0              1  0.000008\n",
      "391.0                 1  0.000008\n",
      "21499.0               1  0.000008\n",
      "14420.0               1  0.000008\n",
      "21.0                  1  0.000008\n",
      "9835.0                1  0.000008\n",
      "21505.0               1  0.000008\n",
      "10753.0               1  0.000008\n",
      "1037.0                1  0.000008\n",
      "\n",
      "[13594 rows x 2 columns]\n",
      "    NumberOfOpenCreditLinesAndLoans   Percent\n",
      "6                             13614  0.090760\n",
      "7                             13245  0.088300\n",
      "5                             12931  0.086207\n",
      "8                             12562  0.083747\n",
      "4                             11609  0.077393\n",
      "9                             11355  0.075700\n",
      "10                             9624  0.064160\n",
      "3                              9058  0.060387\n",
      "11                             8321  0.055473\n",
      "12                             7005  0.046700\n",
      "2                              6666  0.044440\n",
      "13                             5667  0.037780\n",
      "14                             4546  0.030307\n",
      "1                              4438  0.029587\n",
      "15                             3645  0.024300\n",
      "16                             3000  0.020000\n",
      "17                             2370  0.015800\n",
      "0                              1888  0.012587\n",
      "18                             1874  0.012493\n",
      "19                             1433  0.009553\n",
      "20                             1169  0.007793\n",
      "21                              864  0.005760\n",
      "22                              685  0.004567\n",
      "23                              533  0.003553\n",
      "24                              422  0.002813\n",
      "25                              337  0.002247\n",
      "26                              239  0.001593\n",
      "27                              194  0.001293\n",
      "28                              150  0.001000\n",
      "29                              114  0.000760\n",
      "30                               88  0.000587\n",
      "31                               74  0.000493\n",
      "32                               52  0.000347\n",
      "33                               47  0.000313\n",
      "34                               35  0.000233\n",
      "35                               27  0.000180\n",
      "36                               18  0.000120\n",
      "38                               13  0.000087\n",
      "40                               10  0.000067\n",
      "39                                9  0.000060\n",
      "45                                8  0.000053\n",
      "43                                8  0.000053\n",
      "42                                8  0.000053\n",
      "37                                7  0.000047\n",
      "48                                6  0.000040\n",
      "41                                4  0.000027\n",
      "54                                4  0.000027\n",
      "49                                4  0.000027\n",
      "46                                3  0.000020\n",
      "52                                3  0.000020\n",
      "51                                2  0.000013\n",
      "56                                2  0.000013\n",
      "57                                2  0.000013\n",
      "50                                2  0.000013\n",
      "47                                2  0.000013\n",
      "44                                2  0.000013\n",
      "53                                1  0.000007\n",
      "58                                1  0.000007\n",
      "    NumberOfTimes90DaysLate   Percent\n",
      "0                    141662  0.944413\n",
      "1                      5243  0.034953\n",
      "2                      1555  0.010367\n",
      "3                       667  0.004447\n",
      "4                       291  0.001940\n",
      "98                      264  0.001760\n",
      "5                       131  0.000873\n",
      "6                        80  0.000533\n",
      "7                        38  0.000253\n",
      "8                        21  0.000140\n",
      "9                        19  0.000127\n",
      "10                        8  0.000053\n",
      "11                        5  0.000033\n",
      "96                        5  0.000033\n",
      "13                        4  0.000027\n",
      "12                        2  0.000013\n",
      "14                        2  0.000013\n",
      "15                        2  0.000013\n",
      "17                        1  0.000007\n",
      "    NumberRealEstateLoansOrLines   Percent\n",
      "0                          56188  0.374587\n",
      "1                          52338  0.348920\n",
      "2                          31522  0.210147\n",
      "3                           6300  0.042000\n",
      "4                           2170  0.014467\n",
      "5                            689  0.004593\n",
      "6                            320  0.002133\n",
      "7                            171  0.001140\n",
      "8                             93  0.000620\n",
      "9                             78  0.000520\n",
      "10                            37  0.000247\n",
      "11                            23  0.000153\n",
      "12                            18  0.000120\n",
      "13                            15  0.000100\n",
      "15                             7  0.000047\n",
      "14                             7  0.000047\n",
      "16                             4  0.000027\n",
      "17                             4  0.000027\n",
      "25                             3  0.000020\n",
      "18                             2  0.000013\n",
      "19                             2  0.000013\n",
      "20                             2  0.000013\n",
      "23                             2  0.000013\n",
      "32                             1  0.000007\n",
      "21                             1  0.000007\n",
      "26                             1  0.000007\n",
      "29                             1  0.000007\n",
      "54                             1  0.000007\n",
      "    NumberOfTime60-89DaysPastDueNotWorse   Percent\n",
      "0                                 142396  0.949307\n",
      "1                                   5731  0.038207\n",
      "2                                   1118  0.007453\n",
      "3                                    318  0.002120\n",
      "98                                   264  0.001760\n",
      "4                                    105  0.000700\n",
      "5                                     34  0.000227\n",
      "6                                     16  0.000107\n",
      "7                                      9  0.000060\n",
      "96                                     5  0.000033\n",
      "8                                      2  0.000013\n",
      "11                                     1  0.000007\n",
      "9                                      1  0.000007\n",
      "      NumberOfDependents   Percent\n",
      "0.0                86902  0.594909\n",
      "1.0                26316  0.180153\n",
      "2.0                19522  0.133643\n",
      "3.0                 9483  0.064918\n",
      "4.0                 2862  0.019593\n",
      "5.0                  746  0.005107\n",
      "6.0                  158  0.001082\n",
      "7.0                   51  0.000349\n",
      "8.0                   24  0.000164\n",
      "9.0                    5  0.000034\n",
      "10.0                   5  0.000034\n",
      "13.0                   1  0.000007\n",
      "20.0                   1  0.000007\n"
     ]
    }
   ],
   "source": [
    "for varname in features:\n",
    "    print(tabular(data,varname))"
   ]
  },
  {
   "cell_type": "code",
   "execution_count": 7,
   "metadata": {
    "collapsed": false
   },
   "outputs": [
    {
     "data": {
      "image/png": "[encoded data removed]",
      "text/plain": [
       "<matplotlib.figure.Figure at 0x7fe851cb5cc0>"
      ]
     },
     "metadata": {},
     "output_type": "display_data"
    },
    {
     "name": "stdout",
     "output_type": "stream",
     "text": [
      "None\n"
     ]
    },
    {
     "data": {
      "image/png": "[encoded data removed]",
      "text/plain": [
       "<matplotlib.figure.Figure at 0x7fe8516607b8>"
      ]
     },
     "metadata": {},
     "output_type": "display_data"
    },
    {
     "name": "stdout",
     "output_type": "stream",
     "text": [
      "None\n"
     ]
    },
    {
     "data": {
      "image/png": "[encoded data removed]",
      "text/plain": [
       "<matplotlib.figure.Figure at 0x7fe85160cb38>"
      ]
     },
     "metadata": {},
     "output_type": "display_data"
    },
    {
     "name": "stdout",
     "output_type": "stream",
     "text": [
      "None\n"
     ]
    },
    {
     "data": {
      "image/png": "[encoded data removed]",
      "text/plain": [
       "<matplotlib.figure.Figure at 0x7fe851cb5fd0>"
      ]
     },
     "metadata": {},
     "output_type": "display_data"
    },
    {
     "name": "stdout",
     "output_type": "stream",
     "text": [
      "None\n"
     ]
    },
    {
     "data": {
      "image/png": "[encoded data removed]",
      "text/plain": [
       "<matplotlib.figure.Figure at 0x7fe851596f60>"
      ]
     },
     "metadata": {},
     "output_type": "display_data"
    },
    {
     "name": "stdout",
     "output_type": "stream",
     "text": [
      "None\n"
     ]
    },
    {
     "ename": "AttributeError",
     "evalue": "max must be larger than min in range parameter.",
     "output_type": "error",
     "traceback": [
      "\u001b[1;31m---------------------------------------------------------------------------\u001b[0m",
      "\u001b[1;31mAttributeError\u001b[0m                            Traceback (most recent call last)",
      "\u001b[1;32m<ipython-input-7-77a111cd0bd6>\u001b[0m in \u001b[0;36m<module>\u001b[1;34m()\u001b[0m\n\u001b[0;32m      1\u001b[0m \u001b[1;32mfor\u001b[0m \u001b[0mvarname\u001b[0m \u001b[1;32min\u001b[0m \u001b[0mfeatures\u001b[0m\u001b[1;33m:\u001b[0m\u001b[1;33m\u001b[0m\u001b[0m\n\u001b[1;32m----> 2\u001b[1;33m     \u001b[0mprint\u001b[0m\u001b[1;33m(\u001b[0m\u001b[0mhistogram\u001b[0m\u001b[1;33m(\u001b[0m\u001b[0mdata\u001b[0m\u001b[1;33m,\u001b[0m\u001b[0mvarname\u001b[0m\u001b[1;33m)\u001b[0m\u001b[1;33m)\u001b[0m\u001b[1;33m\u001b[0m\u001b[0m\n\u001b[0m",
      "\u001b[1;32m/home/student/Machine-Learning-Pipelines/Financial Distress/MachineLearning ToolBox/Pipeline2_explore.py\u001b[0m in \u001b[0;36mhistogram\u001b[1;34m(df, varname)\u001b[0m\n\u001b[0;32m     15\u001b[0m     '''\n\u001b[0;32m     16\u001b[0m     \u001b[0mplt\u001b[0m\u001b[1;33m.\u001b[0m\u001b[0mclf\u001b[0m\u001b[1;33m(\u001b[0m\u001b[1;33m)\u001b[0m\u001b[1;33m\u001b[0m\u001b[0m\n\u001b[1;32m---> 17\u001b[1;33m     \u001b[0mn\u001b[0m\u001b[1;33m,\u001b[0m \u001b[0mbins\u001b[0m\u001b[1;33m,\u001b[0m \u001b[0mpatches\u001b[0m \u001b[1;33m=\u001b[0m \u001b[0mplt\u001b[0m\u001b[1;33m.\u001b[0m\u001b[0mhist\u001b[0m\u001b[1;33m(\u001b[0m\u001b[0mdf\u001b[0m\u001b[1;33m[\u001b[0m\u001b[0mvarname\u001b[0m\u001b[1;33m]\u001b[0m\u001b[1;33m)\u001b[0m\u001b[1;33m\u001b[0m\u001b[0m\n\u001b[0m\u001b[0;32m     18\u001b[0m     \u001b[0mclean_name\u001b[0m \u001b[1;33m=\u001b[0m \u001b[1;34m' '\u001b[0m\u001b[1;33m.\u001b[0m\u001b[0mjoin\u001b[0m\u001b[1;33m(\u001b[0m\u001b[0mre\u001b[0m\u001b[1;33m.\u001b[0m\u001b[0mfindall\u001b[0m\u001b[1;33m(\u001b[0m\u001b[1;34mr\"[A-Za-z0-9][A-Za-z0-9][^A-Z0-9]*\"\u001b[0m\u001b[1;33m,\u001b[0m \u001b[0mvarname\u001b[0m\u001b[1;33m)\u001b[0m\u001b[1;33m)\u001b[0m\u001b[1;33m\u001b[0m\u001b[0m\n\u001b[0;32m     19\u001b[0m \u001b[1;33m\u001b[0m\u001b[0m\n",
      "\u001b[1;32m/usr/lib/python3/dist-packages/matplotlib/pyplot.py\u001b[0m in \u001b[0;36mhist\u001b[1;34m(x, bins, range, normed, weights, cumulative, bottom, histtype, align, orientation, rwidth, log, color, label, stacked, hold, **kwargs)\u001b[0m\n\u001b[0;32m   2825\u001b[0m                       \u001b[0mhisttype\u001b[0m\u001b[1;33m=\u001b[0m\u001b[0mhisttype\u001b[0m\u001b[1;33m,\u001b[0m \u001b[0malign\u001b[0m\u001b[1;33m=\u001b[0m\u001b[0malign\u001b[0m\u001b[1;33m,\u001b[0m \u001b[0morientation\u001b[0m\u001b[1;33m=\u001b[0m\u001b[0morientation\u001b[0m\u001b[1;33m,\u001b[0m\u001b[1;33m\u001b[0m\u001b[0m\n\u001b[0;32m   2826\u001b[0m                       \u001b[0mrwidth\u001b[0m\u001b[1;33m=\u001b[0m\u001b[0mrwidth\u001b[0m\u001b[1;33m,\u001b[0m \u001b[0mlog\u001b[0m\u001b[1;33m=\u001b[0m\u001b[0mlog\u001b[0m\u001b[1;33m,\u001b[0m \u001b[0mcolor\u001b[0m\u001b[1;33m=\u001b[0m\u001b[0mcolor\u001b[0m\u001b[1;33m,\u001b[0m \u001b[0mlabel\u001b[0m\u001b[1;33m=\u001b[0m\u001b[0mlabel\u001b[0m\u001b[1;33m,\u001b[0m\u001b[1;33m\u001b[0m\u001b[0m\n\u001b[1;32m-> 2827\u001b[1;33m                       stacked=stacked, **kwargs)\n\u001b[0m\u001b[0;32m   2828\u001b[0m         \u001b[0mdraw_if_interactive\u001b[0m\u001b[1;33m(\u001b[0m\u001b[1;33m)\u001b[0m\u001b[1;33m\u001b[0m\u001b[0m\n\u001b[0;32m   2829\u001b[0m     \u001b[1;32mfinally\u001b[0m\u001b[1;33m:\u001b[0m\u001b[1;33m\u001b[0m\u001b[0m\n",
      "\u001b[1;32m/usr/lib/python3/dist-packages/matplotlib/axes.py\u001b[0m in \u001b[0;36mhist\u001b[1;34m(self, x, bins, range, normed, weights, cumulative, bottom, histtype, align, orientation, rwidth, log, color, label, stacked, **kwargs)\u001b[0m\n\u001b[0;32m   8326\u001b[0m             \u001b[1;31m# this will automatically overwrite bins,\u001b[0m\u001b[1;33m\u001b[0m\u001b[1;33m\u001b[0m\u001b[0m\n\u001b[0;32m   8327\u001b[0m             \u001b[1;31m# so that each histogram uses the same bins\u001b[0m\u001b[1;33m\u001b[0m\u001b[1;33m\u001b[0m\u001b[0m\n\u001b[1;32m-> 8328\u001b[1;33m             \u001b[0mm\u001b[0m\u001b[1;33m,\u001b[0m \u001b[0mbins\u001b[0m \u001b[1;33m=\u001b[0m \u001b[0mnp\u001b[0m\u001b[1;33m.\u001b[0m\u001b[0mhistogram\u001b[0m\u001b[1;33m(\u001b[0m\u001b[0mx\u001b[0m\u001b[1;33m[\u001b[0m\u001b[0mi\u001b[0m\u001b[1;33m]\u001b[0m\u001b[1;33m,\u001b[0m \u001b[0mbins\u001b[0m\u001b[1;33m,\u001b[0m \u001b[0mweights\u001b[0m\u001b[1;33m=\u001b[0m\u001b[0mw\u001b[0m\u001b[1;33m[\u001b[0m\u001b[0mi\u001b[0m\u001b[1;33m]\u001b[0m\u001b[1;33m,\u001b[0m \u001b[1;33m**\u001b[0m\u001b[0mhist_kwargs\u001b[0m\u001b[1;33m)\u001b[0m\u001b[1;33m\u001b[0m\u001b[0m\n\u001b[0m\u001b[0;32m   8329\u001b[0m             \u001b[0mm\u001b[0m \u001b[1;33m=\u001b[0m \u001b[0mm\u001b[0m\u001b[1;33m.\u001b[0m\u001b[0mastype\u001b[0m\u001b[1;33m(\u001b[0m\u001b[0mfloat\u001b[0m\u001b[1;33m)\u001b[0m \u001b[1;31m# causes problems later if it's an int\u001b[0m\u001b[1;33m\u001b[0m\u001b[0m\n\u001b[0;32m   8330\u001b[0m             \u001b[1;32mif\u001b[0m \u001b[0mmlast\u001b[0m \u001b[1;32mis\u001b[0m \u001b[1;32mNone\u001b[0m\u001b[1;33m:\u001b[0m\u001b[1;33m\u001b[0m\u001b[0m\n",
      "\u001b[1;32m/usr/local/lib/python3.4/dist-packages/numpy/lib/function_base.py\u001b[0m in \u001b[0;36mhistogram\u001b[1;34m(a, bins, range, normed, weights, density)\u001b[0m\n\u001b[0;32m    174\u001b[0m         \u001b[1;32mif\u001b[0m \u001b[1;33m(\u001b[0m\u001b[0mmn\u001b[0m \u001b[1;33m>\u001b[0m \u001b[0mmx\u001b[0m\u001b[1;33m)\u001b[0m\u001b[1;33m:\u001b[0m\u001b[1;33m\u001b[0m\u001b[0m\n\u001b[0;32m    175\u001b[0m             raise AttributeError(\n\u001b[1;32m--> 176\u001b[1;33m                 'max must be larger than min in range parameter.')\n\u001b[0m\u001b[0;32m    177\u001b[0m \u001b[1;33m\u001b[0m\u001b[0m\n\u001b[0;32m    178\u001b[0m     \u001b[1;32mif\u001b[0m \u001b[1;32mnot\u001b[0m \u001b[0miterable\u001b[0m\u001b[1;33m(\u001b[0m\u001b[0mbins\u001b[0m\u001b[1;33m)\u001b[0m\u001b[1;33m:\u001b[0m\u001b[1;33m\u001b[0m\u001b[0m\n",
      "\u001b[1;31mAttributeError\u001b[0m: max must be larger than min in range parameter."
     ]
    },
    {
     "data": {
      "image/png": "[encoded data removed]",
      "text/plain": [
       "<matplotlib.figure.Figure at 0x7fe8517b39b0>"
      ]
     },
     "metadata": {},
     "output_type": "display_data"
    }
   ],
   "source": [
    "for varname in features:\n",
    "    print(histogram(data,varname))"
   ]
  },
  {
   "cell_type": "code",
   "execution_count": 26,
   "metadata": {
    "collapsed": false,
    "scrolled": true
   },
   "outputs": [
    {
     "data": {
      "image/png": "[encoded data removed]",
      "text/plain": [
       "<matplotlib.figure.Figure at 0x7f3def5660b8>"
      ]
     },
     "metadata": {},
     "output_type": "display_data"
    },
    {
     "data": {
      "image/png": "[encoded data removed]",
      "text/plain": [
       "<matplotlib.figure.Figure at 0x7f3def566ba8>"
      ]
     },
     "metadata": {},
     "output_type": "display_data"
    },
    {
     "data": {
      "image/png": "[encoded data removed]",
      "text/plain": [
       "<matplotlib.figure.Figure at 0x7f3def370ac8>"
      ]
     },
     "metadata": {},
     "output_type": "display_data"
    },
    {
     "data": {
      "image/png": "[encoded data removed]",
      "text/plain": [
       "<matplotlib.figure.Figure at 0x7f3df1cd0f28>"
      ]
     },
     "metadata": {},
     "output_type": "display_data"
    },
    {
     "data": {
      "image/png": "[encoded data removed]",
      "text/plain": [
       "<matplotlib.figure.Figure at 0x7f3def2749b0>"
      ]
     },
     "metadata": {},
     "output_type": "display_data"
    },
    {
     "data": {
      "image/png": "[encoded data removed]",
      "text/plain": [
       "<matplotlib.figure.Figure at 0x7f3deeaf18d0>"
      ]
     },
     "metadata": {},
     "output_type": "display_data"
    },
    {
     "data": {
      "image/png": "[encoded data removed]",
      "text/plain": [
       "<matplotlib.figure.Figure at 0x7f3df1cb8780>"
      ]
     },
     "metadata": {},
     "output_type": "display_data"
    }
   ],
   "source": [
    "for varname in ['age',\n",
    "                'NumberOfTime30-59DaysPastDueNotWorse',\n",
    "                'NumberOfOpenCreditLinesAndLoans',\n",
    "                'NumberOfTimes90DaysLate',\n",
    "                'NumberRealEstateLoansOrLines',\n",
    "                'NumberOfTime60-89DaysPastDueNotWorse',\n",
    "                'NumberOfDependents']:\n",
    "    explore_varname(data,varname,label,'bar')[\"graph\"]"
   ]
  },
  {
   "cell_type": "markdown",
   "metadata": {},
   "source": [
    "## Step 3. Pre-process data"
   ]
  },
  {
   "cell_type": "code",
   "execution_count": 28,
   "metadata": {
    "collapsed": false,
    "scrolled": true
   },
   "outputs": [],
   "source": [
    "# Fix variable types\n",
    "convert_vartype(data, label, 'bool')\n",
    "convert_vartype(data, 'NumberOfDependents', 'int')"
   ]
  },
  {
   "cell_type": "code",
   "execution_count": 18,
   "metadata": {
    "collapsed": false,
    "scrolled": true
   },
   "outputs": [
    {
     "name": "stdout",
     "output_type": "stream",
     "text": [
      "MonthlyIncome has missing values!\n",
      "NumberOfDependents has missing values!\n"
     ]
    }
   ],
   "source": [
    "# Check for missing values\n",
    "check_miss(data)"
   ]
  },
  {
   "cell_type": "code",
   "execution_count": 19,
   "metadata": {
    "collapsed": true
   },
   "outputs": [],
   "source": [
    "# Fill missing values\n",
    "fill_miss(data, 'MonthlyIncome', method='mean')\n",
    "fill_miss(data, 'NumberOfDependents', method='median')"
   ]
  },
  {
   "cell_type": "code",
   "execution_count": 31,
   "metadata": {
    "collapsed": false,
    "scrolled": true
   },
   "outputs": [
    {
     "name": "stdout",
     "output_type": "stream",
     "text": [
      "No missing values!\n"
     ]
    }
   ],
   "source": [
    "# Check for missing values\n",
    "check_miss(data)"
   ]
  },
  {
   "cell_type": "markdown",
   "metadata": {},
   "source": [
    "## Step 4. Create Features"
   ]
  },
  {
   "cell_type": "code",
   "execution_count": 10,
   "metadata": {
    "collapsed": true
   },
   "outputs": [],
   "source": [
    "d= {'k':'kimbu','n':'noel','w':'wow'}"
   ]
  },
  {
   "cell_type": "code",
   "execution_count": 12,
   "metadata": {
    "collapsed": false
   },
   "outputs": [
    {
     "data": {
      "text/plain": [
       "'kimbu'"
      ]
     },
     "execution_count": 12,
     "metadata": {},
     "output_type": "execute_result"
    }
   ],
   "source": [
    "d['k']"
   ]
  },
  {
   "cell_type": "code",
   "execution_count": 60,
   "metadata": {
    "collapsed": true
   },
   "outputs": [],
   "source": [
    "def discretize(df, varname, nbins, method='ufov'):\n",
    "    '''\n",
    "    Discretizes given \"varname\" into \"nbins\".\n",
    "\n",
    "    Inputs:\n",
    "            - df: name of pandas DataFrame\n",
    "            - varname: name of variable to be discretized\n",
    "            - nbins: number of categories to create\n",
    "            - method: can be 'quantile', 'uniform', 'linspace' or 'logspace'\n",
    "\n",
    "    Returns: nothing. Modifies \"df\" in place\n",
    "    '''\n",
    "    \n",
    "    assert varname in df.columns, \"Column '{}' not in DataFrame\".format(varname)\n",
    "    assert len(df[varname].value_counts()) > nbins, \"Number of bins too large\"\n",
    "\n",
    "    if method == 'ufov': # Uniform frequency of values\n",
    "        df[varname + '_cat'] = pd.qcut(df[varname], nbins)\n",
    "    elif method == 'uv': # Uniform values\n",
    "        df[varname+'_cat'] = pd.cut(df[varname], nbins)\n",
    "    elif method == 'linspace':\n",
    "        minval = min(df[varname])\n",
    "        maxval = max(df[varname])\n",
    "        bins = np.linspace(minval, maxval, nbins+1)\n",
    "        df[varname+'_cat'] = pd.cut(df[varname], bins, include_lowest=True)\n",
    "    elif method == 'logspace':\n",
    "        minval = min(df[varname])\n",
    "        maxval = max(df[varname])\n",
    "        assert maxval > 0, 'Column {} has only neg or zero numbers'.format(varname)\n",
    "        if minval <= 0:\n",
    "            print('Warning, {} has negative or zero values'.format(varname))\n",
    "            minval = 0.0001\n",
    "        bins = np.logspace(np.log10(minval), np.log10(maxval), num = nbins + 1)\n",
    "        df[varname + '_cat'] = pd.cut(df[varname], bins, include_lowest = True)\n",
    "    else:\n",
    "        raise ValueError(\"{} not currently avaliable. Try one of the following: 'ufov','uv','linspace','logspace'.\".format(method))"
   ]
  },
  {
   "cell_type": "code",
   "execution_count": 38,
   "metadata": {
    "collapsed": false,
    "scrolled": true
   },
   "outputs": [
    {
     "name": "stdout",
     "output_type": "stream",
     "text": [
      "Warning, DebtRatio has negative or zero values\n"
     ]
    }
   ],
   "source": [
    "discretize(data, 'MonthlyIncome', 5, 'ufov')\n",
    "discretize(data, 'age', 5, 'uv')\n",
    "discretize(data, 'DebtRatio', 5, 'logspace')"
   ]
  },
  {
   "cell_type": "code",
   "execution_count": 78,
   "metadata": {
    "collapsed": false
   },
   "outputs": [
    {
     "data": {
      "text/plain": [
       "PersonID                                  int64\n",
       "SeriousDlqin2yrs                           bool\n",
       "RevolvingUtilizationOfUnsecuredLines    float64\n",
       "age                                       int64\n",
       "zipcode                                   int64\n",
       "NumberOfTime30-59DaysPastDueNotWorse      int64\n",
       "DebtRatio                               float64\n",
       "MonthlyIncome                           float64\n",
       "NumberOfOpenCreditLinesAndLoans           int64\n",
       "NumberOfTimes90DaysLate                   int64\n",
       "NumberRealEstateLoansOrLines              int64\n",
       "NumberOfTime60-89DaysPastDueNotWorse      int64\n",
       "NumberOfDependents                      float64\n",
       "(43.6, 65.4]_0                             bool\n",
       "(21.8, 43.6]_1                             bool\n",
       "(65.4, 87.2]_2                             bool\n",
       "(87.2, 109]_3                              bool\n",
       "(-0.109, 21.8]_4                           bool\n",
       "(0.642, 51.386]_0                          bool\n",
       "(0.00801, 0.642]_1                         bool\n",
       "(4115.828, 3.3e+05]_2                      bool\n",
       "(51.386, 4115.828]_3                       bool\n",
       "dtype: object"
      ]
     },
     "execution_count": 78,
     "metadata": {},
     "output_type": "execute_result"
    }
   ],
   "source": [
    "data.dtypes"
   ]
  },
  {
   "cell_type": "code",
   "execution_count": null,
   "metadata": {
    "collapsed": true
   },
   "outputs": [],
   "source": [
    "## From Lab\n",
    "\n",
    "cat_cols = [  'teacher_prefix', 'primary_focus_area','poverty_level']\n",
    "cleaned_main_variables = binarize_categories(main_variables, cat_cols, drop=True)"
   ]
  },
  {
   "cell_type": "code",
   "execution_count": 75,
   "metadata": {
    "collapsed": false,
    "scrolled": true
   },
   "outputs": [
    {
     "name": "stdout",
     "output_type": "stream",
     "text": [
      "i: 0 \n",
      " x: (43.6, 65.4]\n",
      "i: 1 \n",
      " x: (21.8, 43.6]\n",
      "i: 2 \n",
      " x: (65.4, 87.2]\n",
      "i: 3 \n",
      " x: (87.2, 109]\n",
      "i: 4 \n",
      " x: (-0.109, 21.8]\n",
      "i: 0 \n",
      " x: (0.642, 51.386]\n",
      "i: 1 \n",
      " x: (0.00801, 0.642]\n",
      "i: 2 \n",
      " x: (4115.828, 3.3e+05]\n",
      "i: 3 \n",
      " x: (51.386, 4115.828]\n",
      "i: 4 \n",
      " x: nan\n",
      "i: 5 \n",
      " x: [0.0001, 0.00801]\n",
      "i: 0 \n",
      " x: (8250, 3008750]\n",
      "i: 1 \n",
      " x: [0, 3400]\n",
      "i: 2 \n",
      " x: (3400, 5400]\n",
      "i: 3 \n",
      " x: (5400, 6670.221]\n",
      "i: 4 \n",
      " x: (6670.221, 8250]\n"
     ]
    }
   ],
   "source": [
    "temp = gen_dummies(data, [#'NumberOfDependents',\n",
    "                   'age_cat',\n",
    "                   'DebtRatio_cat',\n",
    "                   'MonthlyIncome_cat'], drop = True)"
   ]
  },
  {
   "cell_type": "code",
   "execution_count": 77,
   "metadata": {
    "collapsed": true
   },
   "outputs": [
    {
     "ename": "KeyError",
     "evalue": "'age_cat'",
     "output_type": "error",
     "traceback": [
      "\u001b[1;31m---------------------------------------------------------------------------\u001b[0m",
      "\u001b[1;31mKeyError\u001b[0m                                  Traceback (most recent call last)",
      "\u001b[1;32m/home/student/.local/lib/python3.4/site-packages/pandas/indexes/base.py\u001b[0m in \u001b[0;36mget_loc\u001b[1;34m(self, key, method, tolerance)\u001b[0m\n\u001b[0;32m   2133\u001b[0m             \u001b[1;32mtry\u001b[0m\u001b[1;33m:\u001b[0m\u001b[1;33m\u001b[0m\u001b[0m\n\u001b[1;32m-> 2134\u001b[1;33m                 \u001b[1;32mreturn\u001b[0m \u001b[0mself\u001b[0m\u001b[1;33m.\u001b[0m\u001b[0m_engine\u001b[0m\u001b[1;33m.\u001b[0m\u001b[0mget_loc\u001b[0m\u001b[1;33m(\u001b[0m\u001b[0mkey\u001b[0m\u001b[1;33m)\u001b[0m\u001b[1;33m\u001b[0m\u001b[0m\n\u001b[0m\u001b[0;32m   2135\u001b[0m             \u001b[1;32mexcept\u001b[0m \u001b[0mKeyError\u001b[0m\u001b[1;33m:\u001b[0m\u001b[1;33m\u001b[0m\u001b[0m\n",
      "\u001b[1;32mpandas/index.pyx\u001b[0m in \u001b[0;36mpandas.index.IndexEngine.get_loc (pandas/index.c:4145)\u001b[1;34m()\u001b[0m\n",
      "\u001b[1;32mpandas/index.pyx\u001b[0m in \u001b[0;36mpandas.index.IndexEngine.get_loc (pandas/index.c:4009)\u001b[1;34m()\u001b[0m\n",
      "\u001b[1;32mpandas/src/hashtable_class_helper.pxi\u001b[0m in \u001b[0;36mpandas.hashtable.PyObjectHashTable.get_item (pandas/hashtable.c:13166)\u001b[1;34m()\u001b[0m\n",
      "\u001b[1;32mpandas/src/hashtable_class_helper.pxi\u001b[0m in \u001b[0;36mpandas.hashtable.PyObjectHashTable.get_item (pandas/hashtable.c:13120)\u001b[1;34m()\u001b[0m\n",
      "\u001b[1;31mKeyError\u001b[0m: 'age_cat'",
      "\nDuring handling of the above exception, another exception occurred:\n",
      "\u001b[1;31mKeyError\u001b[0m                                  Traceback (most recent call last)",
      "\u001b[1;32m<ipython-input-77-85d00213cb9f>\u001b[0m in \u001b[0;36m<module>\u001b[1;34m()\u001b[0m\n\u001b[1;32m----> 1\u001b[1;33m \u001b[0mtemp\u001b[0m\u001b[1;33m[\u001b[0m\u001b[1;34m'age_cat'\u001b[0m\u001b[1;33m]\u001b[0m\u001b[1;33m\u001b[0m\u001b[0m\n\u001b[0m",
      "\u001b[1;32m/home/student/.local/lib/python3.4/site-packages/pandas/core/frame.py\u001b[0m in \u001b[0;36m__getitem__\u001b[1;34m(self, key)\u001b[0m\n\u001b[0;32m   2057\u001b[0m             \u001b[1;32mreturn\u001b[0m \u001b[0mself\u001b[0m\u001b[1;33m.\u001b[0m\u001b[0m_getitem_multilevel\u001b[0m\u001b[1;33m(\u001b[0m\u001b[0mkey\u001b[0m\u001b[1;33m)\u001b[0m\u001b[1;33m\u001b[0m\u001b[0m\n\u001b[0;32m   2058\u001b[0m         \u001b[1;32melse\u001b[0m\u001b[1;33m:\u001b[0m\u001b[1;33m\u001b[0m\u001b[0m\n\u001b[1;32m-> 2059\u001b[1;33m             \u001b[1;32mreturn\u001b[0m \u001b[0mself\u001b[0m\u001b[1;33m.\u001b[0m\u001b[0m_getitem_column\u001b[0m\u001b[1;33m(\u001b[0m\u001b[0mkey\u001b[0m\u001b[1;33m)\u001b[0m\u001b[1;33m\u001b[0m\u001b[0m\n\u001b[0m\u001b[0;32m   2060\u001b[0m \u001b[1;33m\u001b[0m\u001b[0m\n\u001b[0;32m   2061\u001b[0m     \u001b[1;32mdef\u001b[0m \u001b[0m_getitem_column\u001b[0m\u001b[1;33m(\u001b[0m\u001b[0mself\u001b[0m\u001b[1;33m,\u001b[0m \u001b[0mkey\u001b[0m\u001b[1;33m)\u001b[0m\u001b[1;33m:\u001b[0m\u001b[1;33m\u001b[0m\u001b[0m\n",
      "\u001b[1;32m/home/student/.local/lib/python3.4/site-packages/pandas/core/frame.py\u001b[0m in \u001b[0;36m_getitem_column\u001b[1;34m(self, key)\u001b[0m\n\u001b[0;32m   2064\u001b[0m         \u001b[1;31m# get column\u001b[0m\u001b[1;33m\u001b[0m\u001b[1;33m\u001b[0m\u001b[0m\n\u001b[0;32m   2065\u001b[0m         \u001b[1;32mif\u001b[0m \u001b[0mself\u001b[0m\u001b[1;33m.\u001b[0m\u001b[0mcolumns\u001b[0m\u001b[1;33m.\u001b[0m\u001b[0mis_unique\u001b[0m\u001b[1;33m:\u001b[0m\u001b[1;33m\u001b[0m\u001b[0m\n\u001b[1;32m-> 2066\u001b[1;33m             \u001b[1;32mreturn\u001b[0m \u001b[0mself\u001b[0m\u001b[1;33m.\u001b[0m\u001b[0m_get_item_cache\u001b[0m\u001b[1;33m(\u001b[0m\u001b[0mkey\u001b[0m\u001b[1;33m)\u001b[0m\u001b[1;33m\u001b[0m\u001b[0m\n\u001b[0m\u001b[0;32m   2067\u001b[0m \u001b[1;33m\u001b[0m\u001b[0m\n\u001b[0;32m   2068\u001b[0m         \u001b[1;31m# duplicate columns & possible reduce dimensionality\u001b[0m\u001b[1;33m\u001b[0m\u001b[1;33m\u001b[0m\u001b[0m\n",
      "\u001b[1;32m/home/student/.local/lib/python3.4/site-packages/pandas/core/generic.py\u001b[0m in \u001b[0;36m_get_item_cache\u001b[1;34m(self, item)\u001b[0m\n\u001b[0;32m   1384\u001b[0m         \u001b[0mres\u001b[0m \u001b[1;33m=\u001b[0m \u001b[0mcache\u001b[0m\u001b[1;33m.\u001b[0m\u001b[0mget\u001b[0m\u001b[1;33m(\u001b[0m\u001b[0mitem\u001b[0m\u001b[1;33m)\u001b[0m\u001b[1;33m\u001b[0m\u001b[0m\n\u001b[0;32m   1385\u001b[0m         \u001b[1;32mif\u001b[0m \u001b[0mres\u001b[0m \u001b[1;32mis\u001b[0m \u001b[1;32mNone\u001b[0m\u001b[1;33m:\u001b[0m\u001b[1;33m\u001b[0m\u001b[0m\n\u001b[1;32m-> 1386\u001b[1;33m             \u001b[0mvalues\u001b[0m \u001b[1;33m=\u001b[0m \u001b[0mself\u001b[0m\u001b[1;33m.\u001b[0m\u001b[0m_data\u001b[0m\u001b[1;33m.\u001b[0m\u001b[0mget\u001b[0m\u001b[1;33m(\u001b[0m\u001b[0mitem\u001b[0m\u001b[1;33m)\u001b[0m\u001b[1;33m\u001b[0m\u001b[0m\n\u001b[0m\u001b[0;32m   1387\u001b[0m             \u001b[0mres\u001b[0m \u001b[1;33m=\u001b[0m \u001b[0mself\u001b[0m\u001b[1;33m.\u001b[0m\u001b[0m_box_item_values\u001b[0m\u001b[1;33m(\u001b[0m\u001b[0mitem\u001b[0m\u001b[1;33m,\u001b[0m \u001b[0mvalues\u001b[0m\u001b[1;33m)\u001b[0m\u001b[1;33m\u001b[0m\u001b[0m\n\u001b[0;32m   1388\u001b[0m             \u001b[0mcache\u001b[0m\u001b[1;33m[\u001b[0m\u001b[0mitem\u001b[0m\u001b[1;33m]\u001b[0m \u001b[1;33m=\u001b[0m \u001b[0mres\u001b[0m\u001b[1;33m\u001b[0m\u001b[0m\n",
      "\u001b[1;32m/home/student/.local/lib/python3.4/site-packages/pandas/core/internals.py\u001b[0m in \u001b[0;36mget\u001b[1;34m(self, item, fastpath)\u001b[0m\n\u001b[0;32m   3541\u001b[0m \u001b[1;33m\u001b[0m\u001b[0m\n\u001b[0;32m   3542\u001b[0m             \u001b[1;32mif\u001b[0m \u001b[1;32mnot\u001b[0m \u001b[0misnull\u001b[0m\u001b[1;33m(\u001b[0m\u001b[0mitem\u001b[0m\u001b[1;33m)\u001b[0m\u001b[1;33m:\u001b[0m\u001b[1;33m\u001b[0m\u001b[0m\n\u001b[1;32m-> 3543\u001b[1;33m                 \u001b[0mloc\u001b[0m \u001b[1;33m=\u001b[0m \u001b[0mself\u001b[0m\u001b[1;33m.\u001b[0m\u001b[0mitems\u001b[0m\u001b[1;33m.\u001b[0m\u001b[0mget_loc\u001b[0m\u001b[1;33m(\u001b[0m\u001b[0mitem\u001b[0m\u001b[1;33m)\u001b[0m\u001b[1;33m\u001b[0m\u001b[0m\n\u001b[0m\u001b[0;32m   3544\u001b[0m             \u001b[1;32melse\u001b[0m\u001b[1;33m:\u001b[0m\u001b[1;33m\u001b[0m\u001b[0m\n\u001b[0;32m   3545\u001b[0m                 \u001b[0mindexer\u001b[0m \u001b[1;33m=\u001b[0m \u001b[0mnp\u001b[0m\u001b[1;33m.\u001b[0m\u001b[0marange\u001b[0m\u001b[1;33m(\u001b[0m\u001b[0mlen\u001b[0m\u001b[1;33m(\u001b[0m\u001b[0mself\u001b[0m\u001b[1;33m.\u001b[0m\u001b[0mitems\u001b[0m\u001b[1;33m)\u001b[0m\u001b[1;33m)\u001b[0m\u001b[1;33m[\u001b[0m\u001b[0misnull\u001b[0m\u001b[1;33m(\u001b[0m\u001b[0mself\u001b[0m\u001b[1;33m.\u001b[0m\u001b[0mitems\u001b[0m\u001b[1;33m)\u001b[0m\u001b[1;33m]\u001b[0m\u001b[1;33m\u001b[0m\u001b[0m\n",
      "\u001b[1;32m/home/student/.local/lib/python3.4/site-packages/pandas/indexes/base.py\u001b[0m in \u001b[0;36mget_loc\u001b[1;34m(self, key, method, tolerance)\u001b[0m\n\u001b[0;32m   2134\u001b[0m                 \u001b[1;32mreturn\u001b[0m \u001b[0mself\u001b[0m\u001b[1;33m.\u001b[0m\u001b[0m_engine\u001b[0m\u001b[1;33m.\u001b[0m\u001b[0mget_loc\u001b[0m\u001b[1;33m(\u001b[0m\u001b[0mkey\u001b[0m\u001b[1;33m)\u001b[0m\u001b[1;33m\u001b[0m\u001b[0m\n\u001b[0;32m   2135\u001b[0m             \u001b[1;32mexcept\u001b[0m \u001b[0mKeyError\u001b[0m\u001b[1;33m:\u001b[0m\u001b[1;33m\u001b[0m\u001b[0m\n\u001b[1;32m-> 2136\u001b[1;33m                 \u001b[1;32mreturn\u001b[0m \u001b[0mself\u001b[0m\u001b[1;33m.\u001b[0m\u001b[0m_engine\u001b[0m\u001b[1;33m.\u001b[0m\u001b[0mget_loc\u001b[0m\u001b[1;33m(\u001b[0m\u001b[0mself\u001b[0m\u001b[1;33m.\u001b[0m\u001b[0m_maybe_cast_indexer\u001b[0m\u001b[1;33m(\u001b[0m\u001b[0mkey\u001b[0m\u001b[1;33m)\u001b[0m\u001b[1;33m)\u001b[0m\u001b[1;33m\u001b[0m\u001b[0m\n\u001b[0m\u001b[0;32m   2137\u001b[0m \u001b[1;33m\u001b[0m\u001b[0m\n\u001b[0;32m   2138\u001b[0m         \u001b[0mindexer\u001b[0m \u001b[1;33m=\u001b[0m \u001b[0mself\u001b[0m\u001b[1;33m.\u001b[0m\u001b[0mget_indexer\u001b[0m\u001b[1;33m(\u001b[0m\u001b[1;33m[\u001b[0m\u001b[0mkey\u001b[0m\u001b[1;33m]\u001b[0m\u001b[1;33m,\u001b[0m \u001b[0mmethod\u001b[0m\u001b[1;33m=\u001b[0m\u001b[0mmethod\u001b[0m\u001b[1;33m,\u001b[0m \u001b[0mtolerance\u001b[0m\u001b[1;33m=\u001b[0m\u001b[0mtolerance\u001b[0m\u001b[1;33m)\u001b[0m\u001b[1;33m\u001b[0m\u001b[0m\n",
      "\u001b[1;32mpandas/index.pyx\u001b[0m in \u001b[0;36mpandas.index.IndexEngine.get_loc (pandas/index.c:4145)\u001b[1;34m()\u001b[0m\n",
      "\u001b[1;32mpandas/index.pyx\u001b[0m in \u001b[0;36mpandas.index.IndexEngine.get_loc (pandas/index.c:4009)\u001b[1;34m()\u001b[0m\n",
      "\u001b[1;32mpandas/src/hashtable_class_helper.pxi\u001b[0m in \u001b[0;36mpandas.hashtable.PyObjectHashTable.get_item (pandas/hashtable.c:13166)\u001b[1;34m()\u001b[0m\n",
      "\u001b[1;32mpandas/src/hashtable_class_helper.pxi\u001b[0m in \u001b[0;36mpandas.hashtable.PyObjectHashTable.get_item (pandas/hashtable.c:13120)\u001b[1;34m()\u001b[0m\n",
      "\u001b[1;31mKeyError\u001b[0m: 'age_cat'"
     ]
    }
   ],
   "source": [
    "temp['age_cat']"
   ]
  },
  {
   "cell_type": "code",
   "execution_count": 74,
   "metadata": {
    "collapsed": false
   },
   "outputs": [],
   "source": [
    "def gen_dummies(df, varnames, drop=True):\n",
    "    '''\n",
    "    Given a dataframe and certain column, returns a set of dummies\n",
    "    '''\n",
    "    for v in varnames:\n",
    "        '''\n",
    "        dummies = pd.get_dummies(df[v], v)\n",
    "        df = pd.merge(df, \n",
    "                      dummies, \n",
    "                      left_index=True, \n",
    "                      right_index=True, \n",
    "                      how='inner')\n",
    "        '''\n",
    "        for i, x in enumerate(df[v].unique()):\n",
    "            print(\"i:\",i,'\\n','x:',x)\n",
    "            #df[x + '_{}'.format(i)] = df[v] == x\n",
    "        \n",
    "        \n",
    "    if drop:\n",
    "        df.drop(varnames, inplace=True, axis=1)\n",
    "    \n",
    "    return df"
   ]
  },
  {
   "cell_type": "code",
   "execution_count": 63,
   "metadata": {
    "collapsed": false,
    "scrolled": true
   },
   "outputs": [
    {
     "data": {
      "text/plain": [
       "PersonID                                   int64\n",
       "SeriousDlqin2yrs                            bool\n",
       "RevolvingUtilizationOfUnsecuredLines     float64\n",
       "age                                        int64\n",
       "zipcode                                    int64\n",
       "NumberOfTime30-59DaysPastDueNotWorse       int64\n",
       "DebtRatio                                float64\n",
       "MonthlyIncome                            float64\n",
       "NumberOfOpenCreditLinesAndLoans            int64\n",
       "NumberOfTimes90DaysLate                    int64\n",
       "NumberRealEstateLoansOrLines               int64\n",
       "NumberOfTime60-89DaysPastDueNotWorse       int64\n",
       "NumberOfDependents                       float64\n",
       "MonthlyIncome_cat                       category\n",
       "age_cat                                 category\n",
       "DebtRatio_cat                           category\n",
       "dtype: object"
      ]
     },
     "execution_count": 63,
     "metadata": {},
     "output_type": "execute_result"
    }
   ],
   "source": [
    "data.dtypes"
   ]
  },
  {
   "cell_type": "code",
   "execution_count": 64,
   "metadata": {
    "collapsed": false,
    "scrolled": true
   },
   "outputs": [
    {
     "data": {
      "text/plain": [
       "PersonID                                  int64\n",
       "SeriousDlqin2yrs                           bool\n",
       "RevolvingUtilizationOfUnsecuredLines    float64\n",
       "age                                       int64\n",
       "zipcode                                   int64\n",
       "NumberOfTime30-59DaysPastDueNotWorse      int64\n",
       "DebtRatio                               float64\n",
       "MonthlyIncome                           float64\n",
       "NumberOfOpenCreditLinesAndLoans           int64\n",
       "NumberOfTimes90DaysLate                   int64\n",
       "NumberRealEstateLoansOrLines              int64\n",
       "NumberOfTime60-89DaysPastDueNotWorse      int64\n",
       "NumberOfDependents                      float64\n",
       "age_cat_(-0.109, 21.8]                    uint8\n",
       "age_cat_(21.8, 43.6]                      uint8\n",
       "age_cat_(43.6, 65.4]                      uint8\n",
       "age_cat_(65.4, 87.2]                      uint8\n",
       "age_cat_(87.2, 109]                       uint8\n",
       "DebtRatio_cat_[0.0001, 0.00801]           uint8\n",
       "DebtRatio_cat_(0.00801, 0.642]            uint8\n",
       "DebtRatio_cat_(0.642, 51.386]             uint8\n",
       "DebtRatio_cat_(51.386, 4115.828]          uint8\n",
       "DebtRatio_cat_(4115.828, 3.3e+05]         uint8\n",
       "MonthlyIncome_cat_[0, 3400]               uint8\n",
       "MonthlyIncome_cat_(3400, 5400]            uint8\n",
       "MonthlyIncome_cat_(5400, 6670.221]        uint8\n",
       "MonthlyIncome_cat_(6670.221, 8250]        uint8\n",
       "MonthlyIncome_cat_(8250, 3008750]         uint8\n",
       "dtype: object"
      ]
     },
     "execution_count": 64,
     "metadata": {},
     "output_type": "execute_result"
    }
   ],
   "source": [
    "w.dtypes"
   ]
  },
  {
   "cell_type": "markdown",
   "metadata": {},
   "source": [
    "### Step 5. Classify"
   ]
  },
  {
   "cell_type": "code",
   "execution_count": 108,
   "metadata": {
    "collapsed": false
   },
   "outputs": [],
   "source": [
    "X = data.loc[:, ('NumberOfDependents','MonthlyIncome_cat_1','MonthlyIncome_cat_2', \n",
    "       'MonthlyIncome_cat_3','MonthlyIncome_cat_4', 'MonthlyIncome_cat_5',\n",
    "       'age_cat_1', 'age_cat_2', 'age_cat_3', 'age_cat_4', 'age_cat_5'\n",
    "       'DebtRatio_cat_1', 'DebtRatio_cat_2', 'DebtRatio_cat_3',\n",
    "       'DebtRatio_cat_4', 'DebtRatio_cat_5','DebtRatio_cat_6')]"
   ]
  },
  {
   "cell_type": "code",
   "execution_count": 109,
   "metadata": {
    "collapsed": false,
    "scrolled": true
   },
   "outputs": [
    {
     "data": {
      "text/plain": [
       "NumberOfDependents          float64\n",
       "MonthlyIncome_cat_1            bool\n",
       "MonthlyIncome_cat_2            bool\n",
       "MonthlyIncome_cat_3            bool\n",
       "MonthlyIncome_cat_4            bool\n",
       "MonthlyIncome_cat_5            bool\n",
       "age_cat_1                      bool\n",
       "age_cat_2                      bool\n",
       "age_cat_3                      bool\n",
       "age_cat_4                      bool\n",
       "age_cat_5DebtRatio_cat_1    float64\n",
       "DebtRatio_cat_2                bool\n",
       "DebtRatio_cat_3                bool\n",
       "DebtRatio_cat_4                bool\n",
       "DebtRatio_cat_5                bool\n",
       "DebtRatio_cat_6                bool\n",
       "dtype: object"
      ]
     },
     "execution_count": 109,
     "metadata": {},
     "output_type": "execute_result"
    }
   ],
   "source": [
    "X.dtypes"
   ]
  },
  {
   "cell_type": "code",
   "execution_count": 12,
   "metadata": {
    "collapsed": true
   },
   "outputs": [],
   "source": [
    "main_features= ['NumberOfDependents','MonthlyIncome_cat_1','MonthlyIncome_cat_2', \n",
    "       'MonthlyIncome_cat_3','MonthlyIncome_cat_4', 'MonthlyIncome_cat_5',\n",
    "       'age_cat_1', 'age_cat_2', 'age_cat_3', 'age_cat_4', 'age_cat_5',\n",
    "       'DebtRatio_cat_1', 'DebtRatio_cat_2', 'DebtRatio_cat_3',\n",
    "       'DebtRatio_cat_4', 'DebtRatio_cat_5','DebtRatio_cat_6']"
   ]
  },
  {
   "cell_type": "code",
   "execution_count": 11,
   "metadata": {
    "collapsed": true
   },
   "outputs": [],
   "source": [
    "from sklearn.cross_validation import train_test_split\n",
    "from sklearn.linear_model import LogisticRegression\n",
    "from sklearn.neighbors import KNeighborsClassifier\n",
    "from sklearn.ensemble import RandomForestClassifier, GradientBoostingClassifier\n",
    "from sklearn.svm import SVC\n",
    "from sklearn.model_selection import train_test_split\n",
    "#Bag,Boost,RF\n",
    "from sklearn.ensemble import BaggingClassifier\n",
    "from sklearn.tree import DecisionTreeClassifier\n",
    "from sklearn.ensemble import BaggingClassifier\n",
    "from sklearn.linear_model import LogisticRegression\n",
    "from sklearn.tree import DecisionTreeClassifier\n",
    "from sklearn.ensemble import AdaBoostClassifier"
   ]
  },
  {
   "cell_type": "code",
   "execution_count": 14,
   "metadata": {
    "collapsed": false
   },
   "outputs": [
    {
     "data": {
      "text/plain": [
       "(150000, 29)"
      ]
     },
     "execution_count": 14,
     "metadata": {},
     "output_type": "execute_result"
    }
   ],
   "source": [
    "data.shape"
   ]
  },
  {
   "cell_type": "code",
   "execution_count": 15,
   "metadata": {
    "collapsed": false
   },
   "outputs": [
    {
     "data": {
      "text/plain": [
       "'SeriousDlqin2yrs'"
      ]
     },
     "execution_count": 15,
     "metadata": {},
     "output_type": "execute_result"
    }
   ],
   "source": [
    "label"
   ]
  },
  {
   "cell_type": "code",
   "execution_count": 22,
   "metadata": {
    "collapsed": true
   },
   "outputs": [],
   "source": [
    "def classify(df, features, label, method, bagging=False):\n",
    "    '''\n",
    "    Given training and testing data for independent variables (features),\n",
    "    training data for dependent variable, and classifying method,\n",
    "    return model, X_test, y_test\n",
    "    '''\n",
    "    if method == \"KNN\":\n",
    "        model = KNeighborsClassifier(n_neighbors = 13, \n",
    "                                     metric = 'minkowski', \n",
    "                                     weights = 'distance')\n",
    "    elif method == \"Tree\":\n",
    "        if bagging:\n",
    "            model = BaggingClassifier(model, \n",
    "                                      n_estimators = 10, \n",
    "                                      max_samples=0.65, \n",
    "                                      max_features=1.)\n",
    "        else:\n",
    "            model = tree.DecisionTreeClassifier(max_depth = 20,\n",
    "                                            class_weight = 'balanced')\n",
    "        \n",
    "    elif method == \"GB\":\n",
    "        model = GradientBoostingClassifier()\n",
    "    elif method == \"Logit\":\n",
    "        if bagging:\n",
    "            model = BaggingClassifier(model, \n",
    "                                      n_estimators = 10, \n",
    "                                      max_samples=0.65, \n",
    "                                      max_features=1.)\n",
    "        else:\n",
    "            model = LogisticRegression('l2',\n",
    "                                       C = 1,\n",
    "                                       class_weight = 'balanced')\n",
    "    elif method == \"RF\":\n",
    "        model = RandomForestClassifier(n_estimators=2, \n",
    "                                     max_features = 'sqrt', \n",
    "                                     max_depth = 20, \n",
    "                                     min_samples_split = 2 ,\n",
    "                                     class_weight = 'balanced')\n",
    "        \n",
    "    else:\n",
    "        raise ValueError('{} not currently avaliable'.format(method))\n",
    "        \n",
    "    y = df[label]\n",
    "    X = df[features]\n",
    "    \n",
    "    X_train, X_test, y_train, y_test = train_test_split(X, \n",
    "                                                        y, \n",
    "                                                        test_size = 0.20,\n",
    "                                                        random_state = 311)\n",
    "    ''' old method\n",
    "    clf.fit(X_train, y_train)\n",
    "    y_hat = clf.predict(X_test)\n",
    "    probs = clf.predict_proba(X_test)\n",
    "    '''\n",
    "    model.fit(X_train, y_train)\n",
    "\n",
    "    return model, X_test, y_test"
   ]
  },
  {
   "cell_type": "markdown",
   "metadata": {},
   "source": [
    "# Old Code"
   ]
  },
  {
   "cell_type": "code",
   "execution_count": 23,
   "metadata": {
    "collapsed": false,
    "scrolled": true
   },
   "outputs": [
    {
     "name": "stdout",
     "output_type": "stream",
     "text": [
      "(120000, 17)\n",
      "(120000,)\n"
     ]
    }
   ],
   "source": [
    "try:\n",
    "    from sklearn.model_selection import train_test_split\n",
    "except:\n",
    "    from sklearn.cross_validation import train_test_split\n",
    "\n",
    "from sklearn.grid_search import ParameterGrid\n",
    "from sklearn.metrics import roc_auc_score\n",
    "\n",
    "import pandas as pd\n",
    "\n",
    "features = ['NumberOfDependents', 'age', 'MonthlyIncome_cat_0',\n",
    "       'MonthlyIncome_cat_1', 'MonthlyIncome_cat_2', 'MonthlyIncome_cat_3',\n",
    "       'MonthlyIncome_cat_4', 'DebtRatio_cat_0',\n",
    "       'DebtRatio_cat_1', 'DebtRatio_cat_2', 'DebtRatio_cat_3',\n",
    "       'DebtRatio_cat_4', 'DebtRatio_cat_5']\n",
    "\n",
    "models_to_run = ['RF', 'BA', 'AB', 'LR', 'SVM', 'DT', 'KNN']\n",
    "\n",
    "X = data.loc[:, features ]\n",
    "\n",
    "Y = data['SeriousDlqin2yrs']\n",
    "\n",
    "X_train, X_test, y_train, y_test = train_test_split(\n",
    "    X, Y, test_size=0.2, random_state=None)\n",
    "\n",
    "results_df =  pd.DataFrame(columns=(\n",
    "        'model_type','clf', 'parameters', 'auc-roc','p_at_5', 'p_at_10', 'p_at_20'))\n",
    "\n",
    "for model_name in models_to_run:\n",
    "    print(model_name)\n",
    "    clf = clfs[model_name]\n",
    "    parameter_values = large_grid[model_name]\n",
    "\n",
    "    for p in ParameterGrid(parameter_values):\n",
    "        clf.set_params(**p)\n",
    "        y_pred_probs = clf.fit(X_train, y_train).predict_proba(X_test)[:,1]\n",
    "        y_pred_probs_sorted, y_test_sorted = zip(*sorted(zip(y_pred_probs, y_test), reverse=True))\n",
    "        results_df.loc[len(results_df)] = [model_name, clf, p,\n",
    "                                       roc_auc_score(y_test, y_pred_probs),\n",
    "                                       precision_at_k(y_test_sorted,y_pred_probs_sorted,5.0),\n",
    "                                       precision_at_k(y_test_sorted,y_pred_probs_sorted,10.0),\n",
    "                                       precision_at_k(y_test_sorted,y_pred_probs_sorted,20.0)]\n"
   ]
  },
  {
   "cell_type": "code",
   "execution_count": 41,
   "metadata": {
    "collapsed": false
   },
   "outputs": [
    {
     "data": {
      "text/plain": [
       "0.93222735021412828"
      ]
     },
     "execution_count": 41,
     "metadata": {},
     "output_type": "execute_result"
    }
   ],
   "source": [
    "# The task here is to predict who will  experience financial \n",
    "# distress in the next two years. The outcome variable (label) \n",
    "# in the data is SeriousDlqin2yrs. We have access to other information \n",
    "# about this person (as described in the data dictionary). Your assignment \n",
    "#is to take this data and build a machine learning pipeline that \n",
    "#trains *one* machine learning model on the data. \n",
    "\n",
    "from sklearn.model_selection import train_test_split\n",
    "\n",
    "\n",
    "X = data.loc[:, ('NumberOfDependents', 'age', 'MonthlyIncome_cat_0',\n",
    "       'MonthlyIncome_cat_1', 'MonthlyIncome_cat_2', 'MonthlyIncome_cat_3',\n",
    "       'MonthlyIncome_cat_4', 'DebtRatio_cat_0',\n",
    "       'DebtRatio_cat_1', 'DebtRatio_cat_2', 'DebtRatio_cat_3',\n",
    "       'DebtRatio_cat_4', 'DebtRatio_cat_5')]\n",
    "\n",
    "Y = data['SeriousDlqin2yrs']\n",
    "\n",
    "X_train, X_test, Y_train, Y_test = train_test_split(\n",
    "    X, Y, test_size=0.2, random_state=None)\n",
    "    \n",
    "model = MyClassifier(X_train, Y_train, 'logistic')\n",
    "\n",
    "model.model.score(X_test, Y_test)"
   ]
  },
  {
   "cell_type": "code",
   "execution_count": 50,
   "metadata": {
    "collapsed": false
   },
   "outputs": [
    {
     "name": "stdout",
     "output_type": "stream",
     "text": [
      "  (0, 0)\t0.127809847759\n",
      "  (0, 1)\t-0.0249639248121\n",
      "  (0, 2)\t-0.6330416073\n",
      "  (0, 3)\t0.0735662264515\n",
      "  (0, 4)\t0.0156168493632\n",
      "  (0, 5)\t-0.431096931943\n",
      "  (0, 6)\t-0.192146223752\n",
      "  (0, 7)\t-0.0627019385459\n",
      "  (0, 8)\t-0.250363667995\n",
      "  (0, 9)\t-1.00262573203\n",
      "  (0, 10)\t-0.928702764814\n",
      "  (0, 11)\t-0.819218492033\n"
     ]
    }
   ],
   "source": [
    "print(model.model.coef_)"
   ]
  },
  {
   "cell_type": "markdown",
   "metadata": {},
   "source": [
    "### Step 6. Evaluate"
   ]
  },
  {
   "cell_type": "code",
   "execution_count": 42,
   "metadata": {
    "collapsed": false
   },
   "outputs": [
    {
     "data": {
      "text/plain": [
       "0.93222735021412828"
      ]
     },
     "execution_count": 42,
     "metadata": {},
     "output_type": "execute_result"
    }
   ],
   "source": [
    "model.model.score(X_test, Y_test)"
   ]
  },
  {
   "cell_type": "code",
   "execution_count": 51,
   "metadata": {
    "collapsed": false
   },
   "outputs": [
    {
     "data": {
      "text/html": [
       "<div>\n",
       "<table border=\"1\" class=\"dataframe\">\n",
       "  <thead>\n",
       "    <tr style=\"text-align: right;\">\n",
       "      <th>Predicted</th>\n",
       "      <th>False</th>\n",
       "      <th>True</th>\n",
       "    </tr>\n",
       "    <tr>\n",
       "      <th>Actual</th>\n",
       "      <th></th>\n",
       "      <th></th>\n",
       "    </tr>\n",
       "  </thead>\n",
       "  <tbody>\n",
       "    <tr>\n",
       "      <th>False</th>\n",
       "      <td>22415</td>\n",
       "      <td>6</td>\n",
       "    </tr>\n",
       "    <tr>\n",
       "      <th>True</th>\n",
       "      <td>1628</td>\n",
       "      <td>2</td>\n",
       "    </tr>\n",
       "  </tbody>\n",
       "</table>\n",
       "</div>"
      ],
      "text/plain": [
       "Predicted  False  True \n",
       "Actual                 \n",
       "False      22415      6\n",
       "True        1628      2"
      ]
     },
     "execution_count": 51,
     "metadata": {},
     "output_type": "execute_result"
    }
   ],
   "source": [
    "import pandas as pd\n",
    "\n",
    "probas = model.model.predict_proba(X_test)\n",
    "\n",
    "pd.crosstab(Y_test, probas[:,1] > 0.2, rownames=[\"Actual\"], colnames=[\"Predicted\"])"
   ]
  },
  {
   "cell_type": "code",
   "execution_count": 57,
   "metadata": {
    "collapsed": true
   },
   "outputs": [],
   "source": [
    "from sklearn.metrics import accuracy_score, classification_report, precision_recall_curve"
   ]
  },
  {
   "cell_type": "code",
   "execution_count": 53,
   "metadata": {
    "collapsed": false
   },
   "outputs": [
    {
     "data": {
      "text/plain": [
       "0.93206103696312004"
      ]
     },
     "execution_count": 53,
     "metadata": {},
     "output_type": "execute_result"
    }
   ],
   "source": [
    "accuracy_score(Y_test, probas[:,1] > 0.2)"
   ]
  },
  {
   "cell_type": "code",
   "execution_count": 56,
   "metadata": {
    "collapsed": false
   },
   "outputs": [
    {
     "name": "stdout",
     "output_type": "stream",
     "text": [
      "             precision    recall  f1-score   support\n",
      "\n",
      "      False       0.93      1.00      0.96     22421\n",
      "       True       0.25      0.00      0.00      1630\n",
      "\n",
      "avg / total       0.89      0.93      0.90     24051\n",
      "\n"
     ]
    }
   ],
   "source": [
    "print(classification_report(Y_test, probas[:,1] > 0.2))"
   ]
  },
  {
   "cell_type": "code",
   "execution_count": 59,
   "metadata": {
    "collapsed": false
   },
   "outputs": [
    {
     "data": {
      "text/plain": [
       "(array([ 0.06846151,  0.06842525,  0.06843388, ...,  0.5       ,\n",
       "         0.        ,  1.        ]),\n",
       " array([  1.00000000e+00,   9.99386503e-01,   9.99386503e-01, ...,\n",
       "          6.13496933e-04,   0.00000000e+00,   0.00000000e+00]),\n",
       " array([ 0.01637779,  0.01639506,  0.01653906, ...,  0.21941202,\n",
       "         0.21992459,  0.23751897]))"
      ]
     },
     "execution_count": 59,
     "metadata": {},
     "output_type": "execute_result"
    }
   ],
   "source": [
    "precision_recall_curve(Y_test, probas[:,1])"
   ]
  },
  {
   "cell_type": "code",
   "execution_count": null,
   "metadata": {
    "collapsed": false
   },
   "outputs": [],
   "source": [
    "from sklearn.metrics import roc_curve, auc, classification_report, confusion_matrix\n",
    "\n",
    "confusion_matrix(Y_test, model.model.predict(X_test))\n"
   ]
  },
  {
   "cell_type": "code",
   "execution_count": null,
   "metadata": {
    "collapsed": true
   },
   "outputs": [],
   "source": [
    "probas = model.model.predict_proba(X_train)"
   ]
  },
  {
   "cell_type": "code",
   "execution_count": null,
   "metadata": {
    "collapsed": false
   },
   "outputs": [],
   "source": [
    "sum(probas[:,1] > 0.2)"
   ]
  },
  {
   "cell_type": "code",
   "execution_count": null,
   "metadata": {
    "collapsed": false
   },
   "outputs": [],
   "source": [
    "model.model.predict(X_test)"
   ]
  },
  {
   "cell_type": "code",
   "execution_count": null,
   "metadata": {
    "collapsed": true
   },
   "outputs": [],
   "source": [
    "d = pd.DataFrame({'a': [5,6,7], 'b':[0,1,3]}, index=[10,13,14])\n",
    "d = binarize_categories(d, ['a'], True)\n",
    "d.head()"
   ]
  }
 ],
 "metadata": {
  "kernelspec": {
   "display_name": "Python 3",
   "language": "python",
   "name": "python3"
  },
  "language_info": {
   "codemirror_mode": {
    "name": "ipython",
    "version": 3
   },
   "file_extension": ".py",
   "mimetype": "text/x-python",
   "name": "python",
   "nbconvert_exporter": "python",
   "pygments_lexer": "ipython3",
   "version": "3.4.0"
  }
 },
 "nbformat": 4,
 "nbformat_minor": 0
}
