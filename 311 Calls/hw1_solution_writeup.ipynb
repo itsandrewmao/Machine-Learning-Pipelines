{
 "cells": [
  {
   "cell_type": "markdown",
   "metadata": {},
   "source": [
    "<div style=\"text-align: right\"> \n",
    "Carlos E. Alvarado <br>\n",
    "Machine Learning for Public Policy <br>\n",
    "Spring 2017 <br>\n",
    "Repo: https://github.com/cealvara/ml_for_pp_homeworks.git\n",
    "</div>"
   ]
  },
  {
   "cell_type": "markdown",
   "metadata": {},
   "source": [
    "<div style=\"text-align: center\"> \n",
    "<font size=\"6\">Homework 1</font>\n",
    "</div>"
   ]
  },
  {
   "cell_type": "markdown",
   "metadata": {},
   "source": [
    "# Part 1\n",
    "\n",
    "### 1. Download and combine data\n",
    "\n",
    "- I downloaded the Requests Data using the Socrata Open Data (SODA) API. Once downloaded, I saved it in CSV files. To perform analysis, I used these files instead of downloading the data again.\n",
    "\n",
    "- I appended all 4 data sources, renaming some columns accordingly.\n",
    "\n",
    "- Also, I added a column for community names, downloaded from the City of Chicago web: https://www.cityofchicago.org/city/en/depts/doit/dataset/boundaries_-_communityareas.html\n",
    "\n",
    "See *hw1_solution.ipynb* for more details."
   ]
  },
  {
   "cell_type": "markdown",
   "metadata": {},
   "source": [
    "### 2. Summary stats\n",
    "\n",
    "The following table presents the number of 311 Request, by request type:\n",
    "\n",
    "<div style=\"text-align: center\"> \n",
    "<font size=\"4\"><br>Number of requests by Type</font>\n",
    "</div>\n",
    "\n",
    "Type | Number of requests | Percent\n",
    "---- | :----: | :----:\n",
    "Graffiti Removal                           |116,981 | 58.8\n",
    "Pot Holes Reported                         | 55,885 | 28.1\n",
    "Sanitation Code Complaints                 | 21,514 | 10.8\n",
    "Vacant and Abandoned Buildings Reported    |  4,726 | 2.3\n",
    "\n",
    "As we can see, the vast majority of requests are related to **Graffiti Removal**"
   ]
  },
  {
   "cell_type": "markdown",
   "metadata": {},
   "source": [
    "In the following Figure, we can see the number of request by month and by type:\n",
    "\n",
    "![alternate text](./figure_1.png)\n",
    "\n",
    "The previous figure shows a relative reduction in requests for Graffiti Removal; it shows stationality in Potholes Reported (with more requests being made in Winter/Spring months); it shows stationality in Sanitation Code Complaints (with more requests being made in Summer months); and it shows a relatively unimportant number of requests for Vacant and Abandoned Buildings."
   ]
  },
  {
   "cell_type": "markdown",
   "metadata": {},
   "source": [
    "Now, if we focus only on Graffiti Removal, we can see the type/location of the Graffitis that are being asked to be removed:\n",
    "\n",
    "<div style=\"text-align: center\"> \n",
    "<font size=\"4\"><br>Number of requests for Graffitis by Sub Type</font>\n",
    "</div>\n",
    "\n",
    "Where? | Number of requests | Percent\n",
    "---- | :----: | :----:\n",
    "Front \t|35344 \t|30.2911\n",
    "Side \t|16797 \t|14.3957\n",
    "Pole \t|11129 \t|9.5380\n",
    "Garage \t|9897 \t|8.4821\n",
    "Rear \t|7644 \t|6.5512\n",
    "Alley \t|5928 \t|5.0805\n",
    "Traffic Control Box \t|5290 \t|4.5337\n",
    "Sign \t|4637 \t|3.9741\n",
    "Door \t|4008 \t|3.4350\n",
    "Dumpster \t|3770 \t|3.2310\n",
    "Fence \t|3260 \t|2.7939\n",
    "Viaduct \t|2481 \t|2.1263\n",
    "Garbage Cart \t|1988 \t|1.7038\n",
    "Mail Box \t|1440 \t|1.2341\n",
    "Newspaper Box \t|1287 \t|1.1030\n",
    "Bench \t|812 \t|0.6959\n",
    "Express Way Job \t|495 \t|0.4242\n",
    "Overpass \t|325 \t|0.2785\n",
    "Phone \t|77 \t|0.0660\n",
    "Hydrant \t|72 \t|0.0617"
   ]
  },
  {
   "cell_type": "markdown",
   "metadata": {},
   "source": [
    "Next, we can see the Top 10 neighbors with more requests:\n",
    "\n",
    "<div style=\"text-align: center\"> \n",
    "<font size=\"4\"><br>Top 10 neighborhoods with more requests</font>\n",
    "</div>\n",
    "\n",
    "Neighborhood | Number of requests | Percent\n",
    "---- | :----: | :----:\n",
    "WEST TOWN \t|12,398 \t| 6.2354 \n",
    "LOGAN SQUARE |\t9,629 |\t4.8428 \n",
    "SOUTH LAWNDALE | \t6,735 |\t3.3873 \n",
    "BRIGHTON PARK |\t6,615 |\t3.3269 \n",
    "AVONDALE |\t6,301 |\t3.1690 \n",
    "LAKE VIEW |\t6,226 |\t3.1313 \n",
    "LOWER WEST SIDE |\t5,993 |\t3.0141 \n",
    "IRVING PARK |\t5,845 |\t2.9397 \n",
    "BELMONT CRAGIN |\t5,098 |\t2.5640 \n",
    "GAGE PARK |\t4,881 |\t2.4548 \n",
    "Rest | 129,385 | 64.9347 \n",
    "\n",
    "We can see the number of requests by neighborhood in the following map:\n",
    "\n",
    "<div style=\"text-align: center\"> \n",
    "<font size=\"4\"><br>Chicago neighborhoods by number of requests</font>\n",
    "</div>\n",
    "\n",
    "![alternate text](./figure_2.png)\n",
    "\n",
    "NOTE: More intense color means more requests (I couldn't add legends in an easy way...)."
   ]
  },
  {
   "cell_type": "markdown",
   "metadata": {},
   "source": [
    "Finally, we can observe the average response times by neighborhood:\n",
    "\n",
    "<div style=\"text-align: center\"> \n",
    "<font size=\"4\"><br>Top 5 fastest response time by neighborhood</font>\n",
    "</div>           \n",
    "\n",
    "Community   |     Response Time (days)\n",
    ":---- | :----:\n",
    "LINCOLN PARK        |  4.271756\n",
    "MCKINLEY PARK       |  4.320743\n",
    "BRIGHTON PARK       |  4.521989\n",
    "WEST TOWN           |  4.683101\n",
    "LOWER WEST SIDE     |  4.829618\n",
    "                \n",
    "<div style=\"text-align: center\"> \n",
    "<font size=\"4\"><br>Top 5 slowest response time by neighborhood</font>\n",
    "</div>           \n",
    "                \n",
    "Community   |     Response Time (days)\n",
    ":---- | :----:\n",
    "JEFFERSON PARK    |  30.664671\n",
    "NORWOOD PARK      |  30.697206\n",
    "OHARE             |  34.905000\n",
    "EDISON PARK       |  35.469083\n",
    "RIVERDALE         |  37.072917\n",
    "\n",
    "We can see a more comprehensive picture on a map:\n",
    "\n",
    "![alternate text](./figure_3.png)\n",
    "\n",
    "As we can see, it appears that Northern communities have lower response times than other communities."
   ]
  },
  {
   "cell_type": "markdown",
   "metadata": {},
   "source": [
    "### 3. Five interesting observations\n",
    "\n",
    "1. Most requests are related to offenses to private property (i.e. Graffitis) instead of public spaces (potholes, sanitation, vacant buildings).\n",
    "\n",
    "2. It's interesting the cyclicality that Potholes and Sanitation requests have. It makes perfect sense with how these requests generate in real life (i.e. these two kind of requests have a strong \"weather\" component)\n",
    "\n",
    "3. Graffitis appear to have some cyclicality, but not as pronounced as Potholes and Sanitation requests. This is interesting, because it means Graffitis are made all year-round.\n",
    "\n",
    "4. 311 Requests appear to be concentrated in Northern Chicago (West Town, Logan Square and Lawndale)\n",
    "\n",
    "5. \"Northern\" or richer neighborhoods seem to have a preferential treatment of their requests."
   ]
  },
  {
   "cell_type": "markdown",
   "metadata": {},
   "source": [
    "# Part 2\n",
    "\n",
    "**1. What types of blocks get \"Vacant and Abandoned Buildings Reported”?**\n",
    "\n",
    "FIPS | Percent of White |Median Household Income|      Commute>40min\n",
    ":----: | :----: | :----: | :----:\n",
    "170314207004   | 0.044384                |   21940 | 0.730994\n",
    "170316713001   | 0.000000                |   31000 | 0.529412\n",
    "170314701001   | 0.007021                |   29872 | 0.513595\n",
    "170316711001   | 0.002761                |   25625 | 0.497817\n",
    "170314909022   | 0.000946                |   35404 | 0.572308\n",
    "\n",
    "NOTE: \"Time\" is the fraction of individuals that have to commute more than 40 minutes to work."
   ]
  },
  {
   "cell_type": "markdown",
   "metadata": {},
   "source": [
    "**2. What types of blocks get “Sanitation Code Complaints”?**\n",
    "\n",
    "FIPS | Percent of White |Median Household Income|      Commute>40min\n",
    ":----: | :----: | :----: | :----:\n",
    "170315703004  | 0.700794                 |  39211 | 0.354749\n",
    "170315703003  | 0.738433                 |  54561 | 0.363330\n",
    "170311606023  | 0.715989                 |  41607 | 0.235079\n",
    "170311606021  | 0.540487                 |  37222 | 0.444934\n",
    "170315702001  | 0.489763                 |  52847 | 0.355000"
   ]
  },
  {
   "cell_type": "markdown",
   "metadata": {},
   "source": [
    "**3. Does that change over time in the data you collected?**\n",
    "\n",
    "We can't tell if this changes over time, because Census data is only for 1 period.\n",
    "\n",
    "**4. What is the difference in blocks that get \"Vacant and Abandoned Buildings Reported” vs \"Sanitation Code Complaints\"?**\n",
    "\n",
    "Blocks that get \"Vacant and Abandoned Buildings Reported\" appear to be of a lower socioeconomic level than those that get \"Sanitation Code Complaints\". In particular, the top 5 blocks that report more Vacant Buildings have a very low percentage of White population, they have lower median household income and also they tend to have to commute more time."
   ]
  },
  {
   "cell_type": "markdown",
   "metadata": {},
   "source": [
    "# Part 3\n",
    "\n",
    "### Question A.\n",
    "\n",
    "Answer:\n",
    "\n",
    "*7500 S. Wolcott Ave.* is located at (41.7573666, -87.6711973381924).\n",
    "\n",
    "According to Census API, this coordinate corresponds to FIPS_12 = 170317104005\n",
    "\n",
    "For that block group, the number of requests by type are as follow:\n",
    "\n",
    "\n",
    "<div style=\"text-align: center\"> \n",
    "<font size=\"4\"><br>Requests for block group with FIPS = 170317104005</font>\n",
    "</div>\n",
    "\n",
    "Request Type | Number of requests | Prob.\n",
    "---- | ---- | ----\n",
    "Sanitation Code Complaints                | 34 | 39.1% \n",
    "Pot Holes Reported                        | 28 | 32.2%\n",
    "Vacant and Abandoned Buildings Reported   | 13 | 14.9%\n",
    "Graffiti Removal                          | 12 | 14.8%\n",
    "**Total**                                 | **87** | **100%**\n",
    "\n",
    "Then, we can say that the most likely type of request is \"Sanitation Code Complaints\".\n",
    "\n",
    "### Question B.\n",
    "\n",
    "Answer:\n",
    "\n",
    "We know the **Total calls about Graffitis are 116,981**. Moreover, we also know that calls from NORTH LAWNDALE and SOUTH LAWNDALE about Graffiti Removal are (486 + 5301) = 5,787. Finally, we know that calls about Graffitis from UPTOWN are 1778.\n",
    "\n",
    "Therefore:\n",
    "\n",
    "P(Lawndale | Graffiti Removal) = 5787 / 116981 = 4.94 %\n",
    "\n",
    "P(Uptown | Graffiti Removal) = 1778 / 116981 = 1.52 % \n",
    "\n",
    "Then, we can say it's a little over 3 times more likely that a call about Graffiti Removal came from Lawndale than from Uptown.\n",
    "\n",
    "### Question C.\n",
    "\n",
    "Given the information in the HW, we know that **Total calls about Graffitis are 260.**\n",
    "\n",
    "Therefore:\n",
    "\n",
    "P(Englewood | Graffiti Removal) = 100 / 260 = 38.5%\n",
    "\n",
    "P(Uptown | Graffiti Removal) = 160 / 260 = 61.5%\n",
    "\n",
    "Then, we can say it's almost as twice as likely that a call will come from Uptown than from Englewood."
   ]
  }
 ],
 "metadata": {
  "kernelspec": {
   "display_name": "Python 3",
   "language": "python",
   "name": "python3"
  },
  "language_info": {
   "codemirror_mode": {
    "name": "ipython",
    "version": 3
   },
   "file_extension": ".py",
   "mimetype": "text/x-python",
   "name": "python",
   "nbconvert_exporter": "python",
   "pygments_lexer": "ipython3",
   "version": "3.4.0"
  }
 },
 "nbformat": 4,
 "nbformat_minor": 0
}
