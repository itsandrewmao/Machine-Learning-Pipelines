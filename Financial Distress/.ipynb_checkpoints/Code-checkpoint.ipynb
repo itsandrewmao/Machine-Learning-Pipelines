{
 "cells": [
  {
   "cell_type": "markdown",
   "metadata": {},
   "source": [
    "### Initial Settings"
   ]
  },
  {
   "cell_type": "code",
   "execution_count": 5,
   "metadata": {
    "collapsed": false
   },
   "outputs": [],
   "source": [
    "import sys\n",
    "sys.path.append('./MachineLearning ToolBox')\n",
    "\n",
    "from Pipeline1_read import read\n",
    "from Pipeline2_explore import create_var_dict, diff_in_mean, x_dist, comparison_all_values\n",
    "from Pipeline3_preprocess import check_missing_value, fill_miss, convert_column_type\n",
    "from Pipeline4_features import display_importance, discretize, gen_dummies\n",
    "from Pipeline5_classifier import classify\n",
    "from Pipeline6_evaluate import evaluate, plot_roc\n",
    "\n",
    "%matplotlib inline"
   ]
  },
  {
   "cell_type": "markdown",
   "metadata": {},
   "source": [
    "## Step 1. Read/Load Data"
   ]
  },
  {
   "cell_type": "code",
   "execution_count": 25,
   "metadata": {
    "collapsed": false
   },
   "outputs": [],
   "source": [
    "# Read Data into Pandas object\n",
    "data = read('data/credit-data.csv')"
   ]
  },
  {
   "cell_type": "markdown",
   "metadata": {},
   "source": [
    "## Step 2. Explore Data"
   ]
  },
  {
   "cell_type": "code",
   "execution_count": 29,
   "metadata": {
    "collapsed": false,
    "scrolled": true
   },
   "outputs": [
    {
     "data": {
      "text/plain": [
       "PersonID                                  int64\n",
       "SeriousDlqin2yrs                          int64\n",
       "RevolvingUtilizationOfUnsecuredLines    float64\n",
       "age                                       int64\n",
       "zipcode                                   int64\n",
       "NumberOfTime30-59DaysPastDueNotWorse      int64\n",
       "DebtRatio                               float64\n",
       "MonthlyIncome                           float64\n",
       "NumberOfOpenCreditLinesAndLoans           int64\n",
       "NumberOfTimes90DaysLate                   int64\n",
       "NumberRealEstateLoansOrLines              int64\n",
       "NumberOfTime60-89DaysPastDueNotWorse      int64\n",
       "NumberOfDependents                      float64\n",
       "dtype: object"
      ]
     },
     "execution_count": 29,
     "metadata": {},
     "output_type": "execute_result"
    }
   ],
   "source": [
    "# Peek at columns to understand potential features and labels\n",
    "data.dtypes"
   ]
  },
  {
   "cell_type": "code",
   "execution_count": 47,
   "metadata": {
    "collapsed": false
   },
   "outputs": [],
   "source": [
    "# Our dependent variable (label) is 'SeriousDlqin2yrs'\n",
    "# Our independent variables (features) are all column names other \n",
    "# than 'PersonID' and the label\n",
    "\n",
    "li = 1\n",
    "fi = [2,3,4,5,6,7,8,9,10,11,12]\n",
    "label = data.columns[li]\n",
    "features = list(data.columns[fi])"
   ]
  },
  {
   "cell_type": "code",
   "execution_count": 30,
   "metadata": {
    "collapsed": true
   },
   "outputs": [
    {
     "name": "stdout",
     "output_type": "stream",
     "text": [
      "-----------------------------------------\n",
      "Describing variable: PersonID\n",
      "count    150000.000000\n",
      "mean      75000.500000\n",
      "std       43301.414527\n",
      "min           1.000000\n",
      "25%       37500.750000\n",
      "50%       75000.500000\n",
      "75%      112500.250000\n",
      "max      150000.000000\n",
      "Name: PersonID, dtype: float64\n",
      "\n",
      "Unique values: 150000\n",
      "\n",
      "Missing values: 0\n",
      "-----------------------------------------\n",
      "Describing variable: SeriousDlqin2yrs\n",
      "count    150000.000000\n",
      "mean          0.066840\n",
      "std           0.249746\n",
      "min           0.000000\n",
      "25%           0.000000\n",
      "50%           0.000000\n",
      "75%           0.000000\n",
      "max           1.000000\n",
      "Name: SeriousDlqin2yrs, dtype: float64\n",
      "\n",
      "Unique values: 2\n",
      "\n",
      "Missing values: 0\n",
      "-----------------------------------------\n",
      "Describing variable: RevolvingUtilizationOfUnsecuredLines\n",
      "count    150000.000000\n",
      "mean          6.048438\n",
      "std         249.755371\n",
      "min           0.000000\n",
      "25%           0.029867\n",
      "50%           0.154181\n",
      "75%           0.559046\n",
      "max       50708.000000\n",
      "Name: RevolvingUtilizationOfUnsecuredLines, dtype: float64\n",
      "\n",
      "Unique values: 125728\n",
      "\n",
      "Missing values: 0\n",
      "-----------------------------------------\n",
      "Describing variable: age\n",
      "count    150000.000000\n",
      "mean         52.295207\n",
      "std          14.771866\n",
      "min           0.000000\n",
      "25%          41.000000\n",
      "50%          52.000000\n",
      "75%          63.000000\n",
      "max         109.000000\n",
      "Name: age, dtype: float64\n",
      "\n",
      "Unique values: 86\n",
      "\n",
      "Missing values: 0\n",
      "-----------------------------------------\n",
      "Describing variable: zipcode\n",
      "count    150000.000000\n",
      "mean      60648.810013\n",
      "std          56.748197\n",
      "min       60601.000000\n",
      "25%       60625.000000\n",
      "50%       60629.000000\n",
      "75%       60644.000000\n",
      "max       60804.000000\n",
      "Name: zipcode, dtype: float64\n",
      "\n",
      "Unique values: 8\n",
      "\n",
      "Missing values: 0\n",
      "-----------------------------------------\n",
      "Describing variable: NumberOfTime30-59DaysPastDueNotWorse\n",
      "count    150000.000000\n",
      "mean          0.421033\n",
      "std           4.192781\n",
      "min           0.000000\n",
      "25%           0.000000\n",
      "50%           0.000000\n",
      "75%           0.000000\n",
      "max          98.000000\n",
      "Name: NumberOfTime30-59DaysPastDueNotWorse, dtype: float64\n",
      "\n",
      "Unique values: 16\n",
      "\n",
      "Missing values: 0\n",
      "-----------------------------------------\n",
      "Describing variable: DebtRatio\n",
      "count    150000.000000\n",
      "mean        353.005076\n",
      "std        2037.818523\n",
      "min           0.000000\n",
      "25%           0.175074\n",
      "50%           0.366508\n",
      "75%           0.868254\n",
      "max      329664.000000\n",
      "Name: DebtRatio, dtype: float64\n",
      "\n",
      "Unique values: 114194\n",
      "\n",
      "Missing values: 0\n",
      "-----------------------------------------\n",
      "Describing variable: MonthlyIncome\n",
      "count    1.202690e+05\n",
      "mean     6.670221e+03\n",
      "std      1.438467e+04\n",
      "min      0.000000e+00\n",
      "25%      3.400000e+03\n",
      "50%      5.400000e+03\n",
      "75%      8.249000e+03\n",
      "max      3.008750e+06\n",
      "Name: MonthlyIncome, dtype: float64\n",
      "\n",
      "Unique values: 13594\n",
      "\n",
      "Missing values: 29731\n",
      "-----------------------------------------\n",
      "Describing variable: NumberOfOpenCreditLinesAndLoans\n",
      "count    150000.000000\n",
      "mean          8.452760\n",
      "std           5.145951\n",
      "min           0.000000\n",
      "25%           5.000000\n",
      "50%           8.000000\n",
      "75%          11.000000\n",
      "max          58.000000\n",
      "Name: NumberOfOpenCreditLinesAndLoans, dtype: float64\n",
      "\n",
      "Unique values: 58\n",
      "\n",
      "Missing values: 0\n",
      "-----------------------------------------\n",
      "Describing variable: NumberOfTimes90DaysLate\n",
      "count    150000.000000\n",
      "mean          0.265973\n",
      "std           4.169304\n",
      "min           0.000000\n",
      "25%           0.000000\n",
      "50%           0.000000\n",
      "75%           0.000000\n",
      "max          98.000000\n",
      "Name: NumberOfTimes90DaysLate, dtype: float64\n",
      "\n",
      "Unique values: 19\n",
      "\n",
      "Missing values: 0\n",
      "-----------------------------------------\n",
      "Describing variable: NumberRealEstateLoansOrLines\n",
      "count    150000.000000\n",
      "mean          1.018240\n",
      "std           1.129771\n",
      "min           0.000000\n",
      "25%           0.000000\n",
      "50%           1.000000\n",
      "75%           2.000000\n",
      "max          54.000000\n",
      "Name: NumberRealEstateLoansOrLines, dtype: float64\n",
      "\n",
      "Unique values: 28\n",
      "\n",
      "Missing values: 0\n",
      "-----------------------------------------\n",
      "Describing variable: NumberOfTime60-89DaysPastDueNotWorse\n",
      "count    150000.000000\n",
      "mean          0.240387\n",
      "std           4.155179\n",
      "min           0.000000\n",
      "25%           0.000000\n",
      "50%           0.000000\n",
      "75%           0.000000\n",
      "max          98.000000\n",
      "Name: NumberOfTime60-89DaysPastDueNotWorse, dtype: float64\n",
      "\n",
      "Unique values: 13\n",
      "\n",
      "Missing values: 0\n",
      "-----------------------------------------\n",
      "Describing variable: NumberOfDependents\n",
      "count    146076.000000\n",
      "mean          0.757222\n",
      "std           1.115086\n",
      "min           0.000000\n",
      "25%           0.000000\n",
      "50%           0.000000\n",
      "75%           1.000000\n",
      "max          20.000000\n",
      "Name: NumberOfDependents, dtype: float64\n",
      "\n",
      "Unique values: 13\n",
      "\n",
      "Missing values: 3924\n"
     ]
    }
   ],
   "source": [
    "comparison_all_values(df, [2,7,9,11,4,10,8],d)"
   ]
  },
  {
   "cell_type": "code",
   "execution_count": null,
   "metadata": {
    "collapsed": true
   },
   "outputs": [],
   "source": [
    "x_dist(df, [1,2,5,6,7,9,11],d)"
   ]
  },
  {
   "cell_type": "code",
   "execution_count": null,
   "metadata": {
    "collapsed": true
   },
   "outputs": [],
   "source": [
    "diff_in_mean(df, [2,6,11], d)\n",
    "diff_in_mean(df, [4,10,8], d)\n",
    "diff_in_mean(df, [1,5,7,9], d)"
   ]
  },
  {
   "cell_type": "code",
   "execution_count": 31,
   "metadata": {
    "collapsed": false
   },
   "outputs": [
    {
     "name": "stdout",
     "output_type": "stream",
     "text": [
      "count    150000.000000\n",
      "mean        353.005076\n",
      "std        2037.818523\n",
      "min           0.000000\n",
      "25%           0.175074\n",
      "50%           0.366508\n",
      "75%           0.868254\n",
      "max      329664.000000\n",
      "Name: DebtRatio, dtype: float64\n",
      "\n",
      "Unique values: 114194\n",
      "\n",
      "Missing values: 0\n"
     ]
    }
   ],
   "source": [
    "describe_column(data, 'DebtRatio')"
   ]
  },
  {
   "cell_type": "code",
   "execution_count": 32,
   "metadata": {
    "collapsed": false
   },
   "outputs": [
    {
     "data": {
      "text/html": [
       "<div>\n",
       "<table border=\"1\" class=\"dataframe\">\n",
       "  <thead>\n",
       "    <tr style=\"text-align: right;\">\n",
       "      <th></th>\n",
       "      <th>NumberOfDependents</th>\n",
       "      <th>Percent</th>\n",
       "    </tr>\n",
       "  </thead>\n",
       "  <tbody>\n",
       "    <tr>\n",
       "      <th>0.0</th>\n",
       "      <td>86902</td>\n",
       "      <td>0.594909</td>\n",
       "    </tr>\n",
       "    <tr>\n",
       "      <th>1.0</th>\n",
       "      <td>26316</td>\n",
       "      <td>0.180153</td>\n",
       "    </tr>\n",
       "    <tr>\n",
       "      <th>2.0</th>\n",
       "      <td>19522</td>\n",
       "      <td>0.133643</td>\n",
       "    </tr>\n",
       "    <tr>\n",
       "      <th>3.0</th>\n",
       "      <td>9483</td>\n",
       "      <td>0.064918</td>\n",
       "    </tr>\n",
       "    <tr>\n",
       "      <th>4.0</th>\n",
       "      <td>2862</td>\n",
       "      <td>0.019593</td>\n",
       "    </tr>\n",
       "    <tr>\n",
       "      <th>5.0</th>\n",
       "      <td>746</td>\n",
       "      <td>0.005107</td>\n",
       "    </tr>\n",
       "    <tr>\n",
       "      <th>6.0</th>\n",
       "      <td>158</td>\n",
       "      <td>0.001082</td>\n",
       "    </tr>\n",
       "    <tr>\n",
       "      <th>7.0</th>\n",
       "      <td>51</td>\n",
       "      <td>0.000349</td>\n",
       "    </tr>\n",
       "    <tr>\n",
       "      <th>8.0</th>\n",
       "      <td>24</td>\n",
       "      <td>0.000164</td>\n",
       "    </tr>\n",
       "    <tr>\n",
       "      <th>9.0</th>\n",
       "      <td>5</td>\n",
       "      <td>0.000034</td>\n",
       "    </tr>\n",
       "    <tr>\n",
       "      <th>10.0</th>\n",
       "      <td>5</td>\n",
       "      <td>0.000034</td>\n",
       "    </tr>\n",
       "    <tr>\n",
       "      <th>13.0</th>\n",
       "      <td>1</td>\n",
       "      <td>0.000007</td>\n",
       "    </tr>\n",
       "    <tr>\n",
       "      <th>20.0</th>\n",
       "      <td>1</td>\n",
       "      <td>0.000007</td>\n",
       "    </tr>\n",
       "  </tbody>\n",
       "</table>\n",
       "</div>"
      ],
      "text/plain": [
       "      NumberOfDependents   Percent\n",
       "0.0                86902  0.594909\n",
       "1.0                26316  0.180153\n",
       "2.0                19522  0.133643\n",
       "3.0                 9483  0.064918\n",
       "4.0                 2862  0.019593\n",
       "5.0                  746  0.005107\n",
       "6.0                  158  0.001082\n",
       "7.0                   51  0.000349\n",
       "8.0                   24  0.000164\n",
       "9.0                    5  0.000034\n",
       "10.0                   5  0.000034\n",
       "13.0                   1  0.000007\n",
       "20.0                   1  0.000007"
      ]
     },
     "execution_count": 32,
     "metadata": {},
     "output_type": "execute_result"
    }
   ],
   "source": [
    "tab_table = tabular(data, 'NumberOfDependents')\n",
    "tab_table"
   ]
  },
  {
   "cell_type": "code",
   "execution_count": 33,
   "metadata": {
    "collapsed": false
   },
   "outputs": [
    {
     "data": {
      "text/plain": [
       "<matplotlib.axes.AxesSubplot at 0x7f3f0881d080>"
      ]
     },
     "execution_count": 33,
     "metadata": {},
     "output_type": "execute_result"
    },
    {
     "data": {
      "image/png": "[encoded data removed]",
      "text/plain": [
       "<matplotlib.figure.Figure at 0x7f3f087ffb00>"
      ]
     },
     "metadata": {},
     "output_type": "display_data"
    }
   ],
   "source": [
    "data['age'].hist()"
   ]
  },
  {
   "cell_type": "code",
   "execution_count": 34,
   "metadata": {
    "collapsed": false
   },
   "outputs": [
    {
     "data": {
      "text/plain": [
       "<matplotlib.axes.AxesSubplot at 0x7f3f080c6400>"
      ]
     },
     "execution_count": 34,
     "metadata": {},
     "output_type": "execute_result"
    },
    {
     "data": {
      "image/png": "[encoded data removed]",
      "text/plain": [
       "<matplotlib.figure.Figure at 0x7f3f38ca3f28>"
      ]
     },
     "metadata": {},
     "output_type": "display_data"
    }
   ],
   "source": [
    "data['DebtRatio'].hist()"
   ]
  },
  {
   "cell_type": "markdown",
   "metadata": {},
   "source": [
    "### Step 3. Pre-process data"
   ]
  },
  {
   "cell_type": "code",
   "execution_count": 12,
   "metadata": {
    "collapsed": false,
    "scrolled": true
   },
   "outputs": [
    {
     "name": "stdout",
     "output_type": "stream",
     "text": [
      "MonthlyIncome has missing values!\n",
      "NumberOfDependents has missing values!\n"
     ]
    }
   ],
   "source": [
    "# Check for missing values\n",
    "check_miss(data)"
   ]
  },
  {
   "cell_type": "code",
   "execution_count": null,
   "metadata": {
    "collapsed": true
   },
   "outputs": [],
   "source": [
    "# Fill missing values\n",
    "fill_miss(df, 6, d, 'mean')\n",
    "fill_miss(df, 11, d, 'mean')"
   ]
  },
  {
   "cell_type": "code",
   "execution_count": 36,
   "metadata": {
    "collapsed": true
   },
   "outputs": [],
   "source": [
    "# Clean some variables (to remove possible outliers)\n",
    "\n",
    "# Debt Ratio over 10000% is very unlikely\n",
    "\n",
    "data['DebtRatio'].loc[data['DebtRatio'] > 10000] = None\n",
    "\n",
    "# Note to myself: create winsorize function for next assignment"
   ]
  },
  {
   "cell_type": "code",
   "execution_count": 54,
   "metadata": {
    "collapsed": false
   },
   "outputs": [
    {
     "ename": "TypeError",
     "evalue": "fill_miss() missing 1 required positional argument: 'd'",
     "output_type": "error",
     "traceback": [
      "\u001b[1;31m---------------------------------------------------------------------------\u001b[0m",
      "\u001b[1;31mTypeError\u001b[0m                                 Traceback (most recent call last)",
      "\u001b[1;32m<ipython-input-54-0f2edba2d64a>\u001b[0m in \u001b[0;36m<module>\u001b[1;34m()\u001b[0m\n\u001b[0;32m      1\u001b[0m \u001b[1;31m#Variables with missing values: MonthlyIncome, NumberOfDependents\u001b[0m\u001b[1;33m\u001b[0m\u001b[1;33m\u001b[0m\u001b[0m\n\u001b[1;32m----> 2\u001b[1;33m \u001b[0mdata\u001b[0m \u001b[1;33m=\u001b[0m \u001b[0mfill_miss\u001b[0m\u001b[1;33m(\u001b[0m\u001b[0mdata\u001b[0m\u001b[1;33m,\u001b[0m \u001b[1;34m'MonthlyIncome'\u001b[0m\u001b[1;33m,\u001b[0m \u001b[0mmethod\u001b[0m\u001b[1;33m=\u001b[0m\u001b[1;34m'mean'\u001b[0m\u001b[1;33m)\u001b[0m\u001b[1;33m\u001b[0m\u001b[0m\n\u001b[0m\u001b[0;32m      3\u001b[0m \u001b[0mdata\u001b[0m \u001b[1;33m=\u001b[0m \u001b[0mfill_miss\u001b[0m\u001b[1;33m(\u001b[0m\u001b[0mdata\u001b[0m\u001b[1;33m,\u001b[0m \u001b[1;34m'NumberOfDependents'\u001b[0m\u001b[1;33m,\u001b[0m \u001b[0mmethod\u001b[0m\u001b[1;33m=\u001b[0m\u001b[1;34m'median'\u001b[0m\u001b[1;33m)\u001b[0m\u001b[1;33m\u001b[0m\u001b[0m\n\u001b[0;32m      4\u001b[0m \u001b[0mdata\u001b[0m \u001b[1;33m=\u001b[0m \u001b[0mfill_miss\u001b[0m\u001b[1;33m(\u001b[0m\u001b[0mdata\u001b[0m\u001b[1;33m,\u001b[0m \u001b[1;34m'DebtRatio'\u001b[0m\u001b[1;33m,\u001b[0m \u001b[0mmethod\u001b[0m\u001b[1;33m=\u001b[0m\u001b[1;34m'median'\u001b[0m\u001b[1;33m)\u001b[0m\u001b[1;33m\u001b[0m\u001b[0m\n\u001b[0;32m      5\u001b[0m \u001b[1;33m\u001b[0m\u001b[0m\n",
      "\u001b[1;31mTypeError\u001b[0m: fill_miss() missing 1 required positional argument: 'd'"
     ]
    }
   ],
   "source": [
    "#Variables with missing values: MonthlyIncome, NumberOfDependents\n",
    "data = fill_miss(data, 'MonthlyIncome', method='mean')\n",
    "data = fill_miss(data, 'NumberOfDependents', method='median')\n",
    "data = fill_miss(data, 'DebtRatio', method='median')\n",
    "\n",
    "# Note to me: add more methods in the future: nearest neighbor or other classification method"
   ]
  },
  {
   "cell_type": "markdown",
   "metadata": {},
   "source": [
    "### Step 4. Create Features"
   ]
  },
  {
   "cell_type": "code",
   "execution_count": 53,
   "metadata": {
    "collapsed": false
   },
   "outputs": [
    {
     "ename": "ValueError",
     "evalue": "Input contains NaN, infinity or a value too large for dtype('float32').",
     "output_type": "error",
     "traceback": [
      "\u001b[1;31m---------------------------------------------------------------------------\u001b[0m",
      "\u001b[1;31mValueError\u001b[0m                                Traceback (most recent call last)",
      "\u001b[1;32m<ipython-input-53-79dd4af84e21>\u001b[0m in \u001b[0;36m<module>\u001b[1;34m()\u001b[0m\n\u001b[1;32m----> 1\u001b[1;33m \u001b[0mdisplay_importance\u001b[0m\u001b[1;33m(\u001b[0m\u001b[0mdata\u001b[0m\u001b[1;33m,\u001b[0m \u001b[0mlabel\u001b[0m\u001b[1;33m,\u001b[0m \u001b[0mfeatures\u001b[0m\u001b[1;33m)\u001b[0m\u001b[1;33m\u001b[0m\u001b[0m\n\u001b[0m",
      "\u001b[1;32m/home/student/Machine-Learning-Pipelines/Financial Distress/MachineLearning ToolBox/Pipeline4_features.py\u001b[0m in \u001b[0;36mdisplay_importance\u001b[1;34m(df, label, features)\u001b[0m\n\u001b[0;32m     15\u001b[0m     '''\n\u001b[0;32m     16\u001b[0m     \u001b[0mclf\u001b[0m \u001b[1;33m=\u001b[0m \u001b[0mRandomForestClassifier\u001b[0m\u001b[1;33m(\u001b[0m\u001b[1;33m)\u001b[0m\u001b[1;33m\u001b[0m\u001b[0m\n\u001b[1;32m---> 17\u001b[1;33m     \u001b[0mclf\u001b[0m\u001b[1;33m.\u001b[0m\u001b[0mfit\u001b[0m\u001b[1;33m(\u001b[0m\u001b[0mdf\u001b[0m\u001b[1;33m[\u001b[0m\u001b[0mfeatures\u001b[0m\u001b[1;33m]\u001b[0m\u001b[1;33m,\u001b[0m \u001b[0mdf\u001b[0m\u001b[1;33m[\u001b[0m\u001b[0mlabel\u001b[0m\u001b[1;33m]\u001b[0m\u001b[1;33m)\u001b[0m\u001b[1;33m\u001b[0m\u001b[0m\n\u001b[0m\u001b[0;32m     18\u001b[0m     \u001b[0mimportances\u001b[0m \u001b[1;33m=\u001b[0m \u001b[0mclf\u001b[0m\u001b[1;33m.\u001b[0m\u001b[0mfeature_importances_\u001b[0m\u001b[1;33m\u001b[0m\u001b[0m\n\u001b[0;32m     19\u001b[0m     \u001b[0msorted_idx\u001b[0m \u001b[1;33m=\u001b[0m \u001b[0mnp\u001b[0m\u001b[1;33m.\u001b[0m\u001b[0margsort\u001b[0m\u001b[1;33m(\u001b[0m\u001b[0mimportances\u001b[0m\u001b[1;33m)\u001b[0m\u001b[1;33m\u001b[0m\u001b[0m\n",
      "\u001b[1;32m/home/student/.local/lib/python3.4/site-packages/sklearn/ensemble/forest.py\u001b[0m in \u001b[0;36mfit\u001b[1;34m(self, X, y, sample_weight)\u001b[0m\n\u001b[0;32m    245\u001b[0m         \"\"\"\n\u001b[0;32m    246\u001b[0m         \u001b[1;31m# Validate or convert input data\u001b[0m\u001b[1;33m\u001b[0m\u001b[1;33m\u001b[0m\u001b[0m\n\u001b[1;32m--> 247\u001b[1;33m         \u001b[0mX\u001b[0m \u001b[1;33m=\u001b[0m \u001b[0mcheck_array\u001b[0m\u001b[1;33m(\u001b[0m\u001b[0mX\u001b[0m\u001b[1;33m,\u001b[0m \u001b[0maccept_sparse\u001b[0m\u001b[1;33m=\u001b[0m\u001b[1;34m\"csc\"\u001b[0m\u001b[1;33m,\u001b[0m \u001b[0mdtype\u001b[0m\u001b[1;33m=\u001b[0m\u001b[0mDTYPE\u001b[0m\u001b[1;33m)\u001b[0m\u001b[1;33m\u001b[0m\u001b[0m\n\u001b[0m\u001b[0;32m    248\u001b[0m         \u001b[0my\u001b[0m \u001b[1;33m=\u001b[0m \u001b[0mcheck_array\u001b[0m\u001b[1;33m(\u001b[0m\u001b[0my\u001b[0m\u001b[1;33m,\u001b[0m \u001b[0maccept_sparse\u001b[0m\u001b[1;33m=\u001b[0m\u001b[1;34m'csc'\u001b[0m\u001b[1;33m,\u001b[0m \u001b[0mensure_2d\u001b[0m\u001b[1;33m=\u001b[0m\u001b[1;32mFalse\u001b[0m\u001b[1;33m,\u001b[0m \u001b[0mdtype\u001b[0m\u001b[1;33m=\u001b[0m\u001b[1;32mNone\u001b[0m\u001b[1;33m)\u001b[0m\u001b[1;33m\u001b[0m\u001b[0m\n\u001b[0;32m    249\u001b[0m         \u001b[1;32mif\u001b[0m \u001b[0missparse\u001b[0m\u001b[1;33m(\u001b[0m\u001b[0mX\u001b[0m\u001b[1;33m)\u001b[0m\u001b[1;33m:\u001b[0m\u001b[1;33m\u001b[0m\u001b[0m\n",
      "\u001b[1;32m/home/student/.local/lib/python3.4/site-packages/sklearn/utils/validation.py\u001b[0m in \u001b[0;36mcheck_array\u001b[1;34m(array, accept_sparse, dtype, order, copy, force_all_finite, ensure_2d, allow_nd, ensure_min_samples, ensure_min_features, warn_on_dtype, estimator)\u001b[0m\n\u001b[0;32m    405\u001b[0m                              % (array.ndim, estimator_name))\n\u001b[0;32m    406\u001b[0m         \u001b[1;32mif\u001b[0m \u001b[0mforce_all_finite\u001b[0m\u001b[1;33m:\u001b[0m\u001b[1;33m\u001b[0m\u001b[0m\n\u001b[1;32m--> 407\u001b[1;33m             \u001b[0m_assert_all_finite\u001b[0m\u001b[1;33m(\u001b[0m\u001b[0marray\u001b[0m\u001b[1;33m)\u001b[0m\u001b[1;33m\u001b[0m\u001b[0m\n\u001b[0m\u001b[0;32m    408\u001b[0m \u001b[1;33m\u001b[0m\u001b[0m\n\u001b[0;32m    409\u001b[0m     \u001b[0mshape_repr\u001b[0m \u001b[1;33m=\u001b[0m \u001b[0m_shape_repr\u001b[0m\u001b[1;33m(\u001b[0m\u001b[0marray\u001b[0m\u001b[1;33m.\u001b[0m\u001b[0mshape\u001b[0m\u001b[1;33m)\u001b[0m\u001b[1;33m\u001b[0m\u001b[0m\n",
      "\u001b[1;32m/home/student/.local/lib/python3.4/site-packages/sklearn/utils/validation.py\u001b[0m in \u001b[0;36m_assert_all_finite\u001b[1;34m(X)\u001b[0m\n\u001b[0;32m     56\u001b[0m             and not np.isfinite(X).all()):\n\u001b[0;32m     57\u001b[0m         raise ValueError(\"Input contains NaN, infinity\"\n\u001b[1;32m---> 58\u001b[1;33m                          \" or a value too large for %r.\" % X.dtype)\n\u001b[0m\u001b[0;32m     59\u001b[0m \u001b[1;33m\u001b[0m\u001b[0m\n\u001b[0;32m     60\u001b[0m \u001b[1;33m\u001b[0m\u001b[0m\n",
      "\u001b[1;31mValueError\u001b[0m: Input contains NaN, infinity or a value too large for dtype('float32')."
     ]
    }
   ],
   "source": [
    "display_importance(data, label, features)"
   ]
  },
  {
   "cell_type": "code",
   "execution_count": null,
   "metadata": {
    "collapsed": true
   },
   "outputs": [],
   "source": [
    "discretize(data, 'MonthlyIncome', 5)\n",
    "discretize(data, 'DebtRatio', 5)\n",
    "discretize(data, 'age', 5)"
   ]
  },
  {
   "cell_type": "code",
   "execution_count": 38,
   "metadata": {
    "collapsed": false
   },
   "outputs": [
    {
     "name": "stdout",
     "output_type": "stream",
     "text": [
      "Warning, DebtRatio has negative or zero values\n"
     ]
    }
   ],
   "source": [
    "discretize(data, 'MonthlyIncome', nbins=5, cut_type='quantile')\n",
    "discretize(data, 'DebtRatio', nbins=5, cut_type='logspace')"
   ]
  },
  {
   "cell_type": "code",
   "execution_count": null,
   "metadata": {
    "collapsed": true
   },
   "outputs": [],
   "source": [
    "## From Lab\n",
    "\n",
    "cat_cols = [  'teacher_prefix', 'primary_focus_area','poverty_level']\n",
    "cleaned_main_variables = binarize_categories(main_variables, cat_cols, drop=True)"
   ]
  },
  {
   "cell_type": "code",
   "execution_count": 39,
   "metadata": {
    "collapsed": false
   },
   "outputs": [
    {
     "name": "stdout",
     "output_type": "stream",
     "text": [
      "0 <class 'numpy.float64'> 2.0\n",
      "1 <class 'numpy.float64'> 1.0\n",
      "2 <class 'numpy.float64'> 0.0\n",
      "3 <class 'numpy.float64'> 3.0\n",
      "4 <class 'numpy.float64'> 4.0\n",
      "5 <class 'numpy.float64'> 5.0\n",
      "6 <class 'numpy.float64'> 6.0\n",
      "7 <class 'numpy.float64'> 8.0\n",
      "8 <class 'numpy.float64'> 7.0\n",
      "9 <class 'numpy.float64'> 20.0\n",
      "10 <class 'numpy.float64'> 10.0\n",
      "11 <class 'numpy.float64'> 9.0\n",
      "12 <class 'numpy.float64'> 13.0\n",
      "0 <class 'str'> (0.158, 6.294]\n",
      "1 <class 'str'> (0.00398, 0.158]\n",
      "2 <class 'str'> (250.344, 9958]\n",
      "3 <class 'str'> [0.0001, 0.00398]\n",
      "4 <class 'str'> (6.294, 250.344]\n",
      "5 <class 'float'> nan\n"
     ]
    }
   ],
   "source": [
    "make_dummies(data, 'NumberOfDependents')\n",
    "make_dummies(data, 'DebtRatio_cat')"
   ]
  },
  {
   "cell_type": "code",
   "execution_count": 40,
   "metadata": {
    "collapsed": false
   },
   "outputs": [
    {
     "name": "stdout",
     "output_type": "stream",
     "text": [
      "0 <class 'str'> (9083, 3008750]\n",
      "1 <class 'str'> [0, 3000]\n",
      "2 <class 'str'> (3000, 4546]\n",
      "3 <class 'str'> (6301, 9083]\n",
      "4 <class 'str'> (4546, 6301]\n"
     ]
    }
   ],
   "source": [
    "make_dummies(data, 'MonthlyIncome_cat')"
   ]
  },
  {
   "cell_type": "code",
   "execution_count": null,
   "metadata": {
    "collapsed": false
   },
   "outputs": [],
   "source": [
    "data.dtypes"
   ]
  },
  {
   "cell_type": "markdown",
   "metadata": {},
   "source": [
    "### Step 5. Classify"
   ]
  },
  {
   "cell_type": "code",
   "execution_count": 41,
   "metadata": {
    "collapsed": false
   },
   "outputs": [
    {
     "data": {
      "text/plain": [
       "0.93222735021412828"
      ]
     },
     "execution_count": 41,
     "metadata": {},
     "output_type": "execute_result"
    }
   ],
   "source": [
    "# The task here is to predict who will  experience financial \n",
    "# distress in the next two years. The outcome variable (label) \n",
    "# in the data is SeriousDlqin2yrs. We have access to other information \n",
    "# about this person (as described in the data dictionary). Your assignment \n",
    "#is to take this data and build a machine learning pipeline that \n",
    "#trains *one* machine learning model on the data. \n",
    "from sklearn.model_selection import train_test_split\n",
    "\n",
    "\n",
    "X = data.loc[:, ('NumberOfDependents', 'age', 'MonthlyIncome_cat_0',\n",
    "       'MonthlyIncome_cat_1', 'MonthlyIncome_cat_2', 'MonthlyIncome_cat_3',\n",
    "       'MonthlyIncome_cat_4', 'DebtRatio_cat_0',\n",
    "       'DebtRatio_cat_1', 'DebtRatio_cat_2', 'DebtRatio_cat_3',\n",
    "       'DebtRatio_cat_4', 'DebtRatio_cat_5')]\n",
    "\n",
    "Y = data['SeriousDlqin2yrs']\n",
    "\n",
    "X_train, X_test, Y_train, Y_test = train_test_split(\n",
    "    X, Y, test_size=0.2, random_state=None)\n",
    "    \n",
    "model = MyClassifier(X_train, Y_train, 'logistic')\n",
    "\n",
    "model.model.score(X_test, Y_test)"
   ]
  },
  {
   "cell_type": "code",
   "execution_count": 50,
   "metadata": {
    "collapsed": false
   },
   "outputs": [
    {
     "name": "stdout",
     "output_type": "stream",
     "text": [
      "  (0, 0)\t0.127809847759\n",
      "  (0, 1)\t-0.0249639248121\n",
      "  (0, 2)\t-0.6330416073\n",
      "  (0, 3)\t0.0735662264515\n",
      "  (0, 4)\t0.0156168493632\n",
      "  (0, 5)\t-0.431096931943\n",
      "  (0, 6)\t-0.192146223752\n",
      "  (0, 7)\t-0.0627019385459\n",
      "  (0, 8)\t-0.250363667995\n",
      "  (0, 9)\t-1.00262573203\n",
      "  (0, 10)\t-0.928702764814\n",
      "  (0, 11)\t-0.819218492033\n"
     ]
    }
   ],
   "source": [
    "print(model.model.coef_)"
   ]
  },
  {
   "cell_type": "markdown",
   "metadata": {},
   "source": [
    "### Step 6. Evaluate"
   ]
  },
  {
   "cell_type": "code",
   "execution_count": 42,
   "metadata": {
    "collapsed": false
   },
   "outputs": [
    {
     "data": {
      "text/plain": [
       "0.93222735021412828"
      ]
     },
     "execution_count": 42,
     "metadata": {},
     "output_type": "execute_result"
    }
   ],
   "source": [
    "model.model.score(X_test, Y_test)"
   ]
  },
  {
   "cell_type": "code",
   "execution_count": 51,
   "metadata": {
    "collapsed": false
   },
   "outputs": [
    {
     "data": {
      "text/html": [
       "<div>\n",
       "<table border=\"1\" class=\"dataframe\">\n",
       "  <thead>\n",
       "    <tr style=\"text-align: right;\">\n",
       "      <th>Predicted</th>\n",
       "      <th>False</th>\n",
       "      <th>True</th>\n",
       "    </tr>\n",
       "    <tr>\n",
       "      <th>Actual</th>\n",
       "      <th></th>\n",
       "      <th></th>\n",
       "    </tr>\n",
       "  </thead>\n",
       "  <tbody>\n",
       "    <tr>\n",
       "      <th>False</th>\n",
       "      <td>22415</td>\n",
       "      <td>6</td>\n",
       "    </tr>\n",
       "    <tr>\n",
       "      <th>True</th>\n",
       "      <td>1628</td>\n",
       "      <td>2</td>\n",
       "    </tr>\n",
       "  </tbody>\n",
       "</table>\n",
       "</div>"
      ],
      "text/plain": [
       "Predicted  False  True \n",
       "Actual                 \n",
       "False      22415      6\n",
       "True        1628      2"
      ]
     },
     "execution_count": 51,
     "metadata": {},
     "output_type": "execute_result"
    }
   ],
   "source": [
    "import pandas as pd\n",
    "\n",
    "probas = model.model.predict_proba(X_test)\n",
    "\n",
    "pd.crosstab(Y_test, probas[:,1] > 0.2, rownames=[\"Actual\"], colnames=[\"Predicted\"])"
   ]
  },
  {
   "cell_type": "code",
   "execution_count": 57,
   "metadata": {
    "collapsed": true
   },
   "outputs": [],
   "source": [
    "from sklearn.metrics import accuracy_score, classification_report, precision_recall_curve"
   ]
  },
  {
   "cell_type": "code",
   "execution_count": 53,
   "metadata": {
    "collapsed": false
   },
   "outputs": [
    {
     "data": {
      "text/plain": [
       "0.93206103696312004"
      ]
     },
     "execution_count": 53,
     "metadata": {},
     "output_type": "execute_result"
    }
   ],
   "source": [
    "accuracy_score(Y_test, probas[:,1] > 0.2)"
   ]
  },
  {
   "cell_type": "code",
   "execution_count": 56,
   "metadata": {
    "collapsed": false
   },
   "outputs": [
    {
     "name": "stdout",
     "output_type": "stream",
     "text": [
      "             precision    recall  f1-score   support\n",
      "\n",
      "      False       0.93      1.00      0.96     22421\n",
      "       True       0.25      0.00      0.00      1630\n",
      "\n",
      "avg / total       0.89      0.93      0.90     24051\n",
      "\n"
     ]
    }
   ],
   "source": [
    "print(classification_report(Y_test, probas[:,1] > 0.2))"
   ]
  },
  {
   "cell_type": "code",
   "execution_count": 59,
   "metadata": {
    "collapsed": false
   },
   "outputs": [
    {
     "data": {
      "text/plain": [
       "(array([ 0.06846151,  0.06842525,  0.06843388, ...,  0.5       ,\n",
       "         0.        ,  1.        ]),\n",
       " array([  1.00000000e+00,   9.99386503e-01,   9.99386503e-01, ...,\n",
       "          6.13496933e-04,   0.00000000e+00,   0.00000000e+00]),\n",
       " array([ 0.01637779,  0.01639506,  0.01653906, ...,  0.21941202,\n",
       "         0.21992459,  0.23751897]))"
      ]
     },
     "execution_count": 59,
     "metadata": {},
     "output_type": "execute_result"
    }
   ],
   "source": [
    "precision_recall_curve(Y_test, probas[:,1])"
   ]
  },
  {
   "cell_type": "code",
   "execution_count": null,
   "metadata": {
    "collapsed": false
   },
   "outputs": [],
   "source": [
    "from sklearn.metrics import roc_curve, auc, classification_report, confusion_matrix\n",
    "\n",
    "confusion_matrix(Y_test, model.model.predict(X_test))\n"
   ]
  },
  {
   "cell_type": "code",
   "execution_count": null,
   "metadata": {
    "collapsed": true
   },
   "outputs": [],
   "source": [
    "probas = model.model.predict_proba(X_train)"
   ]
  },
  {
   "cell_type": "code",
   "execution_count": null,
   "metadata": {
    "collapsed": false
   },
   "outputs": [],
   "source": [
    "sum(probas[:,1] > 0.2)"
   ]
  },
  {
   "cell_type": "code",
   "execution_count": null,
   "metadata": {
    "collapsed": false
   },
   "outputs": [],
   "source": [
    "model.model.predict(X_test)"
   ]
  },
  {
   "cell_type": "code",
   "execution_count": null,
   "metadata": {
    "collapsed": true
   },
   "outputs": [],
   "source": [
    "d = pd.DataFrame({'a': [5,6,7], 'b':[0,1,3]}, index=[10,13,14])\n",
    "d = binarize_categories(d, ['a'], True)\n",
    "d.head()"
   ]
  }
 ],
 "metadata": {
  "kernelspec": {
   "display_name": "Python 3",
   "language": "python",
   "name": "python3"
  },
  "language_info": {
   "codemirror_mode": {
    "name": "ipython",
    "version": 3
   },
   "file_extension": ".py",
   "mimetype": "text/x-python",
   "name": "python",
   "nbconvert_exporter": "python",
   "pygments_lexer": "ipython3",
   "version": "3.4.0"
  }
 },
 "nbformat": 4,
 "nbformat_minor": 0
}
